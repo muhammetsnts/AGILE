{
  "nbformat": 4,
  "nbformat_minor": 5,
  "metadata": {
    "kernelspec": {
      "display_name": "Python (Spark 3.0.1)",
      "language": "python",
      "name": "spark30"
    },
    "language_info": {
      "codemirror_mode": {
        "name": "ipython",
        "version": 3
      },
      "file_extension": ".py",
      "mimetype": "text/x-python",
      "name": "python",
      "nbconvert_exporter": "python",
      "pygments_lexer": "ipython3",
      "version": "3.7.10"
    },
    "colab": {
      "name": "Deloitte.ipynb",
      "provenance": [],
      "collapsed_sections": [],
      "include_colab_link": true
    }
  },
  "cells": [
    {
      "cell_type": "markdown",
      "metadata": {
        "id": "view-in-github",
        "colab_type": "text"
      },
      "source": [
        "<a href=\"https://colab.research.google.com/github/muhammetsnts/AGILE/blob/main/Deloitte.ipynb\" target=\"_parent\"><img src=\"https://colab.research.google.com/assets/colab-badge.svg\" alt=\"Open In Colab\"/></a>"
      ]
    },
    {
      "cell_type": "markdown",
      "metadata": {
        "id": "46af8e37-87c5-4838-9d6e-4a85a850b819"
      },
      "source": [
        "# Use Case For Deloitte UK\n",
        "\n",
        "* Clinical NER\n",
        "* Clinical Spell Checker"
      ],
      "id": "46af8e37-87c5-4838-9d6e-4a85a850b819"
    },
    {
      "cell_type": "code",
      "metadata": {
        "id": "BWg0YhuW0EVF"
      },
      "source": [
        "import json\n",
        "\n",
        "from google.colab import files\n",
        "\n",
        "license_keys = files.upload()\n",
        "\n",
        "with open(list(license_keys.keys())[0]) as f:\n",
        "    license_keys = json.load(f)"
      ],
      "id": "BWg0YhuW0EVF",
      "execution_count": null,
      "outputs": []
    },
    {
      "cell_type": "code",
      "metadata": {
        "id": "a74f0a2b-0eaa-44af-ac5d-a4634e226783"
      },
      "source": [
        "%%capture\n",
        "for k,v in license_keys.items(): \n",
        "    %set_env $k=$v\n",
        "\n",
        "!wget https://raw.githubusercontent.com/JohnSnowLabs/spark-nlp-workshop/master/jsl_colab_setup.sh\n",
        "!bash jsl_colab_setup.sh\n",
        "\n",
        "! pip install spark-nlp-display"
      ],
      "id": "a74f0a2b-0eaa-44af-ac5d-a4634e226783",
      "execution_count": null,
      "outputs": []
    },
    {
      "cell_type": "markdown",
      "metadata": {
        "id": "048cc5a0-fa72-4183-b7ce-ee2f18aed523"
      },
      "source": [
        "## Importing Libraries"
      ],
      "id": "048cc5a0-fa72-4183-b7ce-ee2f18aed523"
    },
    {
      "cell_type": "code",
      "metadata": {
        "id": "ubiYIWel04sv"
      },
      "source": [
        "import json\n",
        "import os\n",
        "from pyspark.ml import Pipeline, PipelineModel\n",
        "from pyspark.sql import SparkSession\n",
        "\n",
        "from sparknlp.annotator import *\n",
        "from sparknlp_jsl.annotator import *\n",
        "from sparknlp.base import *\n",
        "import sparknlp_jsl\n",
        "import sparknlp\n",
        "\n",
        "from sparknlp.util import *\n",
        "from sparknlp.pretrained import ResourceDownloader\n",
        "from pyspark.sql import functions as F\n",
        "\n",
        "import pandas as pd\n",
        "\n",
        "pd.set_option('display.max_columns', None)  \n",
        "pd.set_option('display.expand_frame_repr', False)\n",
        "pd.set_option('max_colwidth', None)\n",
        "\n",
        "import string\n",
        "import numpy as np"
      ],
      "id": "ubiYIWel04sv",
      "execution_count": null,
      "outputs": []
    },
    {
      "cell_type": "markdown",
      "metadata": {
        "id": "705e0b88-d88a-4a75-921d-fdb4fdecdb14"
      },
      "source": [
        "## Starting Spark Session"
      ],
      "id": "705e0b88-d88a-4a75-921d-fdb4fdecdb14"
    },
    {
      "cell_type": "code",
      "metadata": {
        "colab": {
          "base_uri": "https://localhost:8080/",
          "height": 250
        },
        "id": "ja_73VOy1CgS",
        "outputId": "92f0f301-177c-4155-ad27-eef16f8db8d0"
      },
      "source": [
        "params = {\"spark.driver.memory\":\"16G\",\n",
        "\"spark.kryoserializer.buffer.max\":\"2000M\",\n",
        "\"spark.driver.maxResultSize\":\"2000M\"}\n",
        "\n",
        "\n",
        "spark = sparknlp_jsl.start(license_keys['SECRET'],params=params)\n",
        "\n",
        "print (\"Spark NLP Version :\", sparknlp.version())\n",
        "print (\"Spark NLP_JSL Version :\", sparknlp_jsl.version())\n",
        "\n",
        "spark"
      ],
      "id": "ja_73VOy1CgS",
      "execution_count": null,
      "outputs": [
        {
          "output_type": "stream",
          "text": [
            "Spark NLP Version : 3.0.3\n",
            "Spark NLP_JSL Version : 3.0.3\n"
          ],
          "name": "stdout"
        },
        {
          "output_type": "execute_result",
          "data": {
            "text/html": [
              "\n",
              "            <div>\n",
              "                <p><b>SparkSession - in-memory</b></p>\n",
              "                \n",
              "        <div>\n",
              "            <p><b>SparkContext</b></p>\n",
              "\n",
              "            <p><a href=\"http://245378953c70:4040\">Spark UI</a></p>\n",
              "\n",
              "            <dl>\n",
              "              <dt>Version</dt>\n",
              "                <dd><code>v3.1.1</code></dd>\n",
              "              <dt>Master</dt>\n",
              "                <dd><code>local[*]</code></dd>\n",
              "              <dt>AppName</dt>\n",
              "                <dd><code>Spark NLP Licensed</code></dd>\n",
              "            </dl>\n",
              "        </div>\n",
              "        \n",
              "            </div>\n",
              "        "
            ],
            "text/plain": [
              "<pyspark.sql.session.SparkSession at 0x7f32cddcd490>"
            ]
          },
          "metadata": {
            "tags": []
          },
          "execution_count": 168
        }
      ]
    },
    {
      "cell_type": "markdown",
      "metadata": {
        "id": "462494b0-27b9-4756-870f-7b7758b1f5e4"
      },
      "source": [
        "## Preparing Sample Data\n",
        "\n",
        "We have three text in a list. We are getting them to a spark dataframe."
      ],
      "id": "462494b0-27b9-4756-870f-7b7758b1f5e4"
    },
    {
      "cell_type": "code",
      "metadata": {
        "id": "39b724a8-5fa8-44d8-b8fd-209e26164ee8"
      },
      "source": [
        "sample_text = [\"\"\"Find upper GI endoscopy report on this patient from late 2016 and blood test results. I would be grateful if he could be seen to exclude GI malignancy. Adam has been feeling unwell for the past 2 weeks with abdominal pain, lethargy and concern from his family that he looks jaundiced. From his original referral, he has a long history of alcohol abuse, drinking more than 30 beers a week for more than 10 years. He has been alcohol free for the past several months now. In view of the drop in haemoglobin to 80 and his deranged U's & E's I would welcome an urgent opinion to exclude GI malignancy. Thank you for your help. Yours faithfully\"\"\",\n",
        "               \"\"\"Dear Doctor, Thanks for seeing Lily. She initially had heartburn in the form of indigestion post mealtime and then this developed into reflux and then dysphagia. She has been suffering from this for about 2 months and isn't able to take in any solids anymore. She used to be able to swallow these with some liquid but it is hard for her to even swallow water now. She is passing less urine than before. This is significantly affecting her work as a lab assistant. HP stool was negative and blood tests were fine. PPI tablets are causing regurgitation so she is taking the oral dispersible type. Ranitidine has no effect. There is a low risk of malignancy from my point of view but her symptoms are getting worse day by day. She has lost 30 kg and although she has been asked to lose weight, this method is not healthy. I would be grateful if she could be seen as soon as possible. Dr M. Christie GP.\"\"\",\n",
        "               \"\"\"I would be grateful if you could see this 79 y/o woman for a non-urgent OGD. She appears to have been suffering intermittently from dyspepsia and epigastric pain for the course of the last 3 months. She is keen to get it checked. Her pain relief comes in the form of bicarbonate of soda/ gaviscon but it is recently getting worse and she has had 2 episodes of dark vomit. She does not smoke and drinks only occasionally. H Pylori faecal tests have been requested and omeprazole has been prescribed. No weight loss or dysphagia has been reported but due to her age and symptoms, an OGD would provide good reassurance. Best regards, Dr Smith\"\"\"\n",
        "              ]"
      ],
      "id": "39b724a8-5fa8-44d8-b8fd-209e26164ee8",
      "execution_count": null,
      "outputs": []
    },
    {
      "cell_type": "code",
      "metadata": {
        "id": "9ef9e538-f4b1-4e2f-b611-adb4bae7cfa9"
      },
      "source": [
        "df = spark.createDataFrame(pd.DataFrame({\"text\":sample_text}))"
      ],
      "id": "9ef9e538-f4b1-4e2f-b611-adb4bae7cfa9",
      "execution_count": null,
      "outputs": []
    },
    {
      "cell_type": "code",
      "metadata": {
        "colab": {
          "base_uri": "https://localhost:8080/"
        },
        "id": "ed98d749-918e-49cf-a94b-dc6132dc7b8b",
        "outputId": "38141dae-b96a-49be-b780-71296a35f741"
      },
      "source": [
        "df.show(truncate=False, vertical=True)"
      ],
      "id": "ed98d749-918e-49cf-a94b-dc6132dc7b8b",
      "execution_count": null,
      "outputs": [
        {
          "output_type": "stream",
          "text": [
            "-RECORD 0-----------------------------------------------------------------------------------------------------------------------------------------------------------------------------------------------------------------------------------------------------------------------------------------------------------------------------------------------------------------------------------------------------------------------------------------------------------------------------------------------------------------------------------------------------------------------------------------------------------------------------------------------------------------------------------------------------------------------------------------------------------------------------------------------------------------------------------------------------------------------------------------------------------------------------------\n",
            " text | Find upper GI endoscopy report on this patient from late 2016 and blood test results. I would be grateful if he could be seen to exclude GI malignancy. Adam has been feeling unwell for the past 2 weeks with abdominal pain, lethargy and concern from his family that he looks jaundiced. From his original referral, he has a long history of alcohol abuse, drinking more than 30 beers a week for more than 10 years. He has been alcohol free for the past several months now. In view of the drop in haemoglobin to 80 and his deranged U's & E's I would welcome an urgent opinion to exclude GI malignancy. Thank you for your help. Yours faithfully                                                                                                                                                                                                                                                                     \n",
            "-RECORD 1-----------------------------------------------------------------------------------------------------------------------------------------------------------------------------------------------------------------------------------------------------------------------------------------------------------------------------------------------------------------------------------------------------------------------------------------------------------------------------------------------------------------------------------------------------------------------------------------------------------------------------------------------------------------------------------------------------------------------------------------------------------------------------------------------------------------------------------------------------------------------------------------------------------------------------------\n",
            " text | Dear Doctor, Thanks for seeing Lily. She initially had heartburn in the form of indigestion post mealtime and then this developed into reflux and then dysphagia. She has been suffering from this for about 2 months and isn't able to take in any solids anymore. She used to be able to swallow these with some liquid but it is hard for her to even swallow water now. She is passing less urine than before. This is significantly affecting her work as a lab assistant. HP stool was negative and blood tests were fine. PPI tablets are causing regurgitation so she is taking the oral dispersible type. Ranitidine has no effect. There is a low risk of malignancy from my point of view but her symptoms are getting worse day by day. She has lost 30 kg and although she has been asked to lose weight, this method is not healthy. I would be grateful if she could be seen as soon as possible. Dr M. Christie GP. \n",
            "-RECORD 2-----------------------------------------------------------------------------------------------------------------------------------------------------------------------------------------------------------------------------------------------------------------------------------------------------------------------------------------------------------------------------------------------------------------------------------------------------------------------------------------------------------------------------------------------------------------------------------------------------------------------------------------------------------------------------------------------------------------------------------------------------------------------------------------------------------------------------------------------------------------------------------------------------------------------------------\n",
            " text | I would be grateful if you could see this 79 y/o woman for a non-urgent OGD. She appears to have been suffering intermittently from dyspepsia and epigastric pain for the course of the last 3 months. She is keen to get it checked. Her pain relief comes in the form of bicarbonate of soda/ gaviscon but it is recently getting worse and she has had 2 episodes of dark vomit. She does not smoke and drinks only occasionally. H Pylori faecal tests have been requested and omeprazole has been prescribed. No weight loss or dysphagia has been reported but due to her age and symptoms, an OGD would provide good reassurance. Best regards, Dr Smith                                                                                                                                                                                                                                                                     \n",
            "\n"
          ],
          "name": "stdout"
        }
      ]
    },
    {
      "cell_type": "markdown",
      "metadata": {
        "id": "37QtMQuN1e91"
      },
      "source": [
        "## Creating pipeline for NER.  "
      ],
      "id": "37QtMQuN1e91"
    },
    {
      "cell_type": "code",
      "metadata": {
        "colab": {
          "base_uri": "https://localhost:8080/"
        },
        "id": "4069ed6f-c9b1-40bd-83c8-3433d22fa548",
        "outputId": "f14d87e8-20f3-4a50-dd4e-07bf94ea7095"
      },
      "source": [
        "# Annotator that transforms a text column from dataframe into an Annotation ready for NLP\n",
        "documentAssembler = DocumentAssembler()\\\n",
        "        .setInputCol(\"text\")\\\n",
        "        .setOutputCol(\"document\")\n",
        "\n",
        "# Sentence Detector annotator, processes various sentences per line\n",
        "sentenceDetector = SentenceDetectorDLModel.pretrained(\"sentence_detector_dl_healthcare\",\"en\",\"clinical/models\")\\\n",
        "        .setInputCols([\"document\"])\\\n",
        "        .setOutputCol(\"sentence\")\n",
        "\n",
        "# Tokenizer splits words in a relevant format for NLP \n",
        "tokenizer = Tokenizer()\\\n",
        "        .setInputCols([\"sentence\"])\\\n",
        "        .setOutputCol(\"token\")\n",
        "\n",
        "# Clinical word embeddings trained on PubMED dataset\n",
        "word_embeddings = WordEmbeddingsModel.pretrained(\"embeddings_clinical\",\"en\",\"clinical/models\")\\\n",
        "        .setInputCols([\"sentence\",\"token\"])\\\n",
        "        .setOutputCol(\"embeddings\")\n",
        "\n",
        "# NER model trained on i2b2 (sampled from MIMIC) dataset\n",
        "clinical_ner = MedicalNerModel.pretrained(\"ner_clinical_large\",\"en\",\"clinical/models\")\\\n",
        "        .setInputCols([\"sentence\",\"token\",\"embeddings\"])\\\n",
        "        .setOutputCol(\"ner\")\n",
        "\n",
        "ner_converter = NerConverter()\\\n",
        "        .setInputCols([\"sentence\",\"token\",\"ner\"])\\\n",
        "        .setOutputCol(\"ner_chunk\")\n",
        "       #.setWhiteList([\"PROBLEM\"])  #filter entities\n",
        "\n",
        "nlpPipeline = Pipeline(stages=[\n",
        "        documentAssembler,\n",
        "        sentenceDetector,\n",
        "        tokenizer,\n",
        "        word_embeddings,\n",
        "        clinical_ner,\n",
        "        ner_converter])\n",
        "\n",
        "empty_data = spark.createDataFrame([[\"\"]]).toDF(\"text\")\n",
        "\n",
        "model = nlpPipeline.fit(empty_data)"
      ],
      "id": "4069ed6f-c9b1-40bd-83c8-3433d22fa548",
      "execution_count": null,
      "outputs": [
        {
          "output_type": "stream",
          "text": [
            "sentence_detector_dl_healthcare download started this may take some time.\n",
            "Approximate size to download 363.9 KB\n",
            "[OK!]\n",
            "embeddings_clinical download started this may take some time.\n",
            "Approximate size to download 1.6 GB\n",
            "[OK!]\n",
            "ner_clinical_large download started this may take some time.\n",
            "Approximate size to download 13.9 MB\n",
            "[OK!]\n"
          ],
          "name": "stdout"
        }
      ]
    },
    {
      "cell_type": "markdown",
      "metadata": {
        "id": "UlH6gpA9D23L"
      },
      "source": [
        "- Lets take a look at the model stages"
      ],
      "id": "UlH6gpA9D23L"
    },
    {
      "cell_type": "code",
      "metadata": {
        "colab": {
          "base_uri": "https://localhost:8080/"
        },
        "id": "rXt-NJy4Dneu",
        "outputId": "4e9aeec0-6496-45a3-f866-136bef09ce11"
      },
      "source": [
        "model.stages"
      ],
      "id": "rXt-NJy4Dneu",
      "execution_count": null,
      "outputs": [
        {
          "output_type": "execute_result",
          "data": {
            "text/plain": [
              "[DocumentAssembler_2e7532991f4e,\n",
              " SentenceDetectorDLModel_d2546f0acfe2,\n",
              " REGEX_TOKENIZER_4e7f64a149c0,\n",
              " WORD_EMBEDDINGS_MODEL_9004b1d00302,\n",
              " MedicalNerModel_1a8637089929,\n",
              " NerConverter_550625fe573b]"
            ]
          },
          "metadata": {
            "tags": []
          },
          "execution_count": 14
        }
      ]
    },
    {
      "cell_type": "markdown",
      "metadata": {
        "id": "PAL0t-8O2wE9"
      },
      "source": [
        "- We have used a pretrained NER model named `ner_clinical_large` in the pipeline and the model has labelled the chunks as one of the followings:\n",
        "    * TEST\n",
        "    * PROBLEM\n",
        "    * TREATMENT"
      ],
      "id": "PAL0t-8O2wE9"
    },
    {
      "cell_type": "code",
      "metadata": {
        "colab": {
          "base_uri": "https://localhost:8080/"
        },
        "id": "scq7t8BtDsxL",
        "outputId": "b0d3d80a-c449-412e-bad7-9fe3007e1db5"
      },
      "source": [
        "clinical_ner.getClasses()"
      ],
      "id": "scq7t8BtDsxL",
      "execution_count": null,
      "outputs": [
        {
          "output_type": "execute_result",
          "data": {
            "text/plain": [
              "['O',\n",
              " 'B-TREATMENT',\n",
              " 'I-TREATMENT',\n",
              " 'B-PROBLEM',\n",
              " 'I-PROBLEM',\n",
              " 'B-TEST',\n",
              " 'I-TEST']"
            ]
          },
          "metadata": {
            "tags": []
          },
          "execution_count": 169
        }
      ]
    },
    {
      "cell_type": "markdown",
      "metadata": {
        "id": "kevr1lNfELSf"
      },
      "source": [
        "- Lets check params of the our clinical_ner annotator"
      ],
      "id": "kevr1lNfELSf"
    },
    {
      "cell_type": "code",
      "metadata": {
        "colab": {
          "base_uri": "https://localhost:8080/"
        },
        "id": "eyzrvyeMEKng",
        "outputId": "fb7dc74d-d4c2-45e2-c6e9-bee12364d2a3"
      },
      "source": [
        "clinical_ner.extractParamMap()"
      ],
      "id": "eyzrvyeMEKng",
      "execution_count": null,
      "outputs": [
        {
          "output_type": "execute_result",
          "data": {
            "text/plain": [
              "{Param(parent='MedicalNerModel_1a8637089929', name='batchSize', doc='Size of every batch'): 64,\n",
              " Param(parent='MedicalNerModel_1a8637089929', name='classes', doc='get the tags used to trained this MedicalNerModel'): ['O',\n",
              "  'B-TREATMENT',\n",
              "  'I-TREATMENT',\n",
              "  'B-PROBLEM',\n",
              "  'I-PROBLEM',\n",
              "  'B-TEST',\n",
              "  'I-TEST'],\n",
              " Param(parent='MedicalNerModel_1a8637089929', name='includeConfidence', doc='whether to include confidence scores in annotation metadata'): True,\n",
              " Param(parent='MedicalNerModel_1a8637089929', name='inputCols', doc='previous annotations columns, if renamed'): ['sentence',\n",
              "  'token',\n",
              "  'embeddings'],\n",
              " Param(parent='MedicalNerModel_1a8637089929', name='lazyAnnotator', doc='Whether this AnnotatorModel acts as lazy in RecursivePipelines'): False,\n",
              " Param(parent='MedicalNerModel_1a8637089929', name='outputCol', doc='output annotation column. can be left default.'): 'ner',\n",
              " Param(parent='MedicalNerModel_1a8637089929', name='storageRef', doc='unique reference name for identification'): 'clinical'}"
            ]
          },
          "metadata": {
            "tags": []
          },
          "execution_count": 16
        }
      ]
    },
    {
      "cell_type": "markdown",
      "metadata": {
        "id": "_Bn0D8CQ2VQQ"
      },
      "source": [
        "- After creating pipeline, we are transforming the dataframe by fitted model."
      ],
      "id": "_Bn0D8CQ2VQQ"
    },
    {
      "cell_type": "code",
      "metadata": {
        "id": "68879e94-300b-40ca-a629-cf4968a3989b"
      },
      "source": [
        "result = model.transform(df)"
      ],
      "id": "68879e94-300b-40ca-a629-cf4968a3989b",
      "execution_count": null,
      "outputs": []
    },
    {
      "cell_type": "code",
      "metadata": {
        "colab": {
          "base_uri": "https://localhost:8080/"
        },
        "id": "S5_CZ5QAEtsu",
        "outputId": "4a80dc13-d32a-4dc9-9fa5-65e242767f09"
      },
      "source": [
        "result.show()"
      ],
      "id": "S5_CZ5QAEtsu",
      "execution_count": null,
      "outputs": [
        {
          "output_type": "stream",
          "text": [
            "+--------------------+--------------------+--------------------+--------------------+--------------------+--------------------+--------------------+\n",
            "|                text|            document|            sentence|               token|          embeddings|                 ner|           ner_chunk|\n",
            "+--------------------+--------------------+--------------------+--------------------+--------------------+--------------------+--------------------+\n",
            "|Find upper GI end...|[{document, 0, 63...|[{document, 0, 84...|[{token, 0, 3, Fi...|[{word_embeddings...|[{named_entity, 0...|[{chunk, 5, 22, u...|\n",
            "|Dear Doctor, Than...|[{document, 0, 89...|[{document, 0, 35...|[{token, 0, 3, De...|[{word_embeddings...|[{named_entity, 0...|[{chunk, 55, 63, ...|\n",
            "|I would be gratef...|[{document, 0, 63...|[{document, 0, 75...|[{token, 0, 0, I,...|[{word_embeddings...|[{named_entity, 0...|[{chunk, 59, 74, ...|\n",
            "+--------------------+--------------------+--------------------+--------------------+--------------------+--------------------+--------------------+\n",
            "\n"
          ],
          "name": "stdout"
        }
      ]
    },
    {
      "cell_type": "markdown",
      "metadata": {
        "id": "y-_UgZuiGm0e"
      },
      "source": [
        "- Show the labels of the tokens"
      ],
      "id": "y-_UgZuiGm0e"
    },
    {
      "cell_type": "code",
      "metadata": {
        "colab": {
          "base_uri": "https://localhost:8080/"
        },
        "id": "SCpU6oikGCKc",
        "outputId": "fbda1d9d-5db1-4ba0-8d23-ae7eab072e5c"
      },
      "source": [
        "result_df = result.select(F.explode(F.arrays_zip('token.result', 'ner.result')).alias(\"cols\")) \\\n",
        "                  .select(F.expr(\"cols['0']\").alias(\"token\"),\n",
        "                          F.expr(\"cols['1']\").alias(\"ner_label\"))\n",
        "\n",
        "result_df.show(50, truncate=100)"
      ],
      "id": "SCpU6oikGCKc",
      "execution_count": null,
      "outputs": [
        {
          "output_type": "stream",
          "text": [
            "+----------+---------+\n",
            "|     token|ner_label|\n",
            "+----------+---------+\n",
            "|      Find|        O|\n",
            "|     upper|   B-TEST|\n",
            "|        GI|   I-TEST|\n",
            "| endoscopy|   I-TEST|\n",
            "|    report|        O|\n",
            "|        on|        O|\n",
            "|      this|        O|\n",
            "|   patient|        O|\n",
            "|      from|        O|\n",
            "|      late|        O|\n",
            "|      2016|        O|\n",
            "|       and|        O|\n",
            "|     blood|        O|\n",
            "|      test|        O|\n",
            "|   results|        O|\n",
            "|         .|        O|\n",
            "|         I|        O|\n",
            "|     would|        O|\n",
            "|        be|        O|\n",
            "|  grateful|        O|\n",
            "|        if|        O|\n",
            "|        he|        O|\n",
            "|     could|        O|\n",
            "|        be|        O|\n",
            "|      seen|        O|\n",
            "|        to|        O|\n",
            "|   exclude|        O|\n",
            "|        GI|B-PROBLEM|\n",
            "|malignancy|I-PROBLEM|\n",
            "|         .|        O|\n",
            "|      Adam|        O|\n",
            "|       has|        O|\n",
            "|      been|        O|\n",
            "|   feeling|        O|\n",
            "|    unwell|B-PROBLEM|\n",
            "|       for|        O|\n",
            "|       the|        O|\n",
            "|      past|        O|\n",
            "|         2|        O|\n",
            "|     weeks|        O|\n",
            "|      with|        O|\n",
            "| abdominal|B-PROBLEM|\n",
            "|      pain|I-PROBLEM|\n",
            "|         ,|        O|\n",
            "|  lethargy|B-PROBLEM|\n",
            "|       and|        O|\n",
            "|   concern|        O|\n",
            "|      from|        O|\n",
            "|       his|        O|\n",
            "|    family|        O|\n",
            "+----------+---------+\n",
            "only showing top 50 rows\n",
            "\n"
          ],
          "name": "stdout"
        }
      ]
    },
    {
      "cell_type": "markdown",
      "metadata": {
        "id": "9rHwZTT9Gs9C"
      },
      "source": [
        "- Count the labels of the tokens "
      ],
      "id": "9rHwZTT9Gs9C"
    },
    {
      "cell_type": "code",
      "metadata": {
        "colab": {
          "base_uri": "https://localhost:8080/"
        },
        "id": "RdDRd2EUE_31",
        "outputId": "a6505db6-956a-4191-bda1-f0e2d166f0f9"
      },
      "source": [
        "result_df.select(\"token\", \"ner_label\").groupby(\"ner_label\").count().orderBy('count', ascending=False).show(truncate=False)"
      ],
      "id": "RdDRd2EUE_31",
      "execution_count": null,
      "outputs": [
        {
          "output_type": "stream",
          "text": [
            "+-----------+-----+\n",
            "|ner_label  |count|\n",
            "+-----------+-----+\n",
            "|O          |370  |\n",
            "|B-PROBLEM  |26   |\n",
            "|I-PROBLEM  |17   |\n",
            "|I-TEST     |8    |\n",
            "|B-TEST     |6    |\n",
            "|B-TREATMENT|6    |\n",
            "|I-TREATMENT|2    |\n",
            "+-----------+-----+\n",
            "\n"
          ],
          "name": "stdout"
        }
      ]
    },
    {
      "cell_type": "markdown",
      "metadata": {
        "id": "Kw05qWsmHZX2"
      },
      "source": [
        "As you can see;\n",
        "\n",
        "- 26 PROBLEM\n",
        "- 6 TEST\n",
        "- 6 TREATMENT\n",
        "\n",
        "different entities detected."
      ],
      "id": "Kw05qWsmHZX2"
    },
    {
      "cell_type": "markdown",
      "metadata": {
        "id": "hFxIkD6rID0E"
      },
      "source": [
        "- List the entities with their labels"
      ],
      "id": "hFxIkD6rID0E"
    },
    {
      "cell_type": "code",
      "metadata": {
        "colab": {
          "base_uri": "https://localhost:8080/"
        },
        "id": "772b5bcc-15f2-468c-b287-e6c697fa5c8c",
        "outputId": "193e26af-6ce7-4c53-f5c0-217fd1c86519"
      },
      "source": [
        "result.select(F.explode(F.arrays_zip('ner_chunk.result', 'ner_chunk.metadata')).alias(\"cols\")) \\\n",
        ".select(F.expr(\"cols['0']\").alias(\"chunk\"),\n",
        "        F.expr(\"cols['1']['entity']\").alias(\"ner_label\")).show(truncate=False)"
      ],
      "id": "772b5bcc-15f2-468c-b287-e6c697fa5c8c",
      "execution_count": null,
      "outputs": [
        {
          "output_type": "stream",
          "text": [
            "+------------------+---------+\n",
            "|chunk             |ner_label|\n",
            "+------------------+---------+\n",
            "|upper GI endoscopy|TEST     |\n",
            "|GI malignancy     |PROBLEM  |\n",
            "|unwell            |PROBLEM  |\n",
            "|abdominal pain    |PROBLEM  |\n",
            "|lethargy          |PROBLEM  |\n",
            "|jaundiced         |PROBLEM  |\n",
            "|alcohol abuse     |PROBLEM  |\n",
            "|the drop          |PROBLEM  |\n",
            "|haemoglobin       |TEST     |\n",
            "|his deranged U's  |PROBLEM  |\n",
            "|GI malignancy     |PROBLEM  |\n",
            "|heartburn         |PROBLEM  |\n",
            "|indigestion       |PROBLEM  |\n",
            "|reflux            |PROBLEM  |\n",
            "|dysphagia         |PROBLEM  |\n",
            "|some liquid       |TREATMENT|\n",
            "|HP stool          |TEST     |\n",
            "|blood tests       |TEST     |\n",
            "|PPI tablets       |TREATMENT|\n",
            "|regurgitation     |PROBLEM  |\n",
            "+------------------+---------+\n",
            "only showing top 20 rows\n",
            "\n"
          ],
          "name": "stdout"
        }
      ]
    },
    {
      "cell_type": "markdown",
      "metadata": {
        "id": "tv4nCBWx32t6"
      },
      "source": [
        "## Show the entities in raw text"
      ],
      "id": "tv4nCBWx32t6"
    },
    {
      "cell_type": "markdown",
      "metadata": {
        "id": "hdC7pBswIxI2"
      },
      "source": [
        "- We can show the entities by using `sparknlp_display` library with LightPipeline."
      ],
      "id": "hdC7pBswIxI2"
    },
    {
      "cell_type": "code",
      "metadata": {
        "colab": {
          "base_uri": "https://localhost:8080/",
          "height": 999
        },
        "id": "25203b22-72b1-4806-9af3-6155b4b752dc",
        "outputId": "7bd808f2-b47b-44a0-8603-b090e605a3ba"
      },
      "source": [
        "from sparknlp_display import NerVisualizer\n",
        "\n",
        "light_model = LightPipeline(model)\n",
        "\n",
        "for index, text in enumerate(sample_text):\n",
        "    print(\"*\"*50)\n",
        "    print(f'Sample Text {index+1}')\n",
        "    print(\"*\"*50)\n",
        "    \n",
        "    light_result = light_model.fullAnnotate(text)\n",
        "    visualiser = NerVisualizer()\n",
        "    visualiser.display(light_result[0], \n",
        "                       label_col='ner_chunk', \n",
        "                       document_col='document')"
      ],
      "id": "25203b22-72b1-4806-9af3-6155b4b752dc",
      "execution_count": null,
      "outputs": [
        {
          "output_type": "stream",
          "text": [
            "**************************************************\n",
            "Sample Text 1\n",
            "**************************************************\n"
          ],
          "name": "stdout"
        },
        {
          "output_type": "display_data",
          "data": {
            "text/html": [
              "\n",
              "<style>\n",
              "    @import url('https://fonts.googleapis.com/css2?family=Montserrat:wght@300;400;500;600;700&display=swap');\n",
              "    @import url('https://fonts.googleapis.com/css2?family=Vistol Regular:wght@300;400;500;600;700&display=swap');\n",
              "    \n",
              "    .spark-nlp-display-scroll-entities {\n",
              "        border: 1px solid #E7EDF0;\n",
              "        border-radius: 3px;\n",
              "        text-align: justify;\n",
              "        \n",
              "    }\n",
              "    .spark-nlp-display-scroll-entities span {  \n",
              "        font-size: 14px;\n",
              "        line-height: 24px;\n",
              "        color: #536B76;\n",
              "        font-family: 'Montserrat', sans-serif !important;\n",
              "    }\n",
              "    \n",
              "    .spark-nlp-display-entity-wrapper{\n",
              "    \n",
              "        display: inline-grid;\n",
              "        text-align: center;\n",
              "        border-radius: 4px;\n",
              "        margin: 0 2px 5px 2px;\n",
              "        padding: 1px\n",
              "    }\n",
              "    .spark-nlp-display-entity-name{\n",
              "        font-size: 14px;\n",
              "        line-height: 24px;\n",
              "        font-family: 'Montserrat', sans-serif !important;\n",
              "        \n",
              "        background: #f1f2f3;\n",
              "        border-width: medium;\n",
              "        text-align: center;\n",
              "        \n",
              "        font-weight: 400;\n",
              "        \n",
              "        border-radius: 5px;\n",
              "        padding: 2px 5px;\n",
              "        display: block;\n",
              "        margin: 3px 2px;\n",
              "    \n",
              "    }\n",
              "    .spark-nlp-display-entity-type{\n",
              "        font-size: 14px;\n",
              "        line-height: 24px;\n",
              "        color: #ffffff;\n",
              "        font-family: 'Montserrat', sans-serif !important;\n",
              "        \n",
              "        text-transform: uppercase;\n",
              "        \n",
              "        font-weight: 500;\n",
              "\n",
              "        display: block;\n",
              "        padding: 3px 5px;\n",
              "    }\n",
              "    \n",
              "    .spark-nlp-display-entity-resolution{\n",
              "        font-size: 14px;\n",
              "        line-height: 24px;\n",
              "        color: #ffffff;\n",
              "        font-family: 'Vistol Regular', sans-serif !important;\n",
              "        \n",
              "        text-transform: uppercase;\n",
              "        \n",
              "        font-weight: 500;\n",
              "\n",
              "        display: block;\n",
              "        padding: 3px 5px;\n",
              "    }\n",
              "    \n",
              "    .spark-nlp-display-others{\n",
              "        font-size: 14px;\n",
              "        line-height: 24px;\n",
              "        font-family: 'Montserrat', sans-serif !important;\n",
              "        \n",
              "        font-weight: 400;\n",
              "    }\n",
              "\n",
              "</style>\n",
              " <span class=\"spark-nlp-display-others\" style=\"background-color: white\">Find </span><span class=\"spark-nlp-display-entity-wrapper\" style=\"background-color: #77b5fe\"><span class=\"spark-nlp-display-entity-name\">upper GI endoscopy </span><span class=\"spark-nlp-display-entity-type\">TEST</span></span><span class=\"spark-nlp-display-others\" style=\"background-color: white\"> report on this patient from late 2016 and blood test results. I would be grateful if he could be seen to exclude </span><span class=\"spark-nlp-display-entity-wrapper\" style=\"background-color: #800080\"><span class=\"spark-nlp-display-entity-name\">GI malignancy </span><span class=\"spark-nlp-display-entity-type\">PROBLEM</span></span><span class=\"spark-nlp-display-others\" style=\"background-color: white\">. Adam has been feeling </span><span class=\"spark-nlp-display-entity-wrapper\" style=\"background-color: #800080\"><span class=\"spark-nlp-display-entity-name\">unwell </span><span class=\"spark-nlp-display-entity-type\">PROBLEM</span></span><span class=\"spark-nlp-display-others\" style=\"background-color: white\"> for the past 2 weeks with </span><span class=\"spark-nlp-display-entity-wrapper\" style=\"background-color: #800080\"><span class=\"spark-nlp-display-entity-name\">abdominal pain </span><span class=\"spark-nlp-display-entity-type\">PROBLEM</span></span><span class=\"spark-nlp-display-others\" style=\"background-color: white\">, </span><span class=\"spark-nlp-display-entity-wrapper\" style=\"background-color: #800080\"><span class=\"spark-nlp-display-entity-name\">lethargy </span><span class=\"spark-nlp-display-entity-type\">PROBLEM</span></span><span class=\"spark-nlp-display-others\" style=\"background-color: white\"> and concern from his family that he looks </span><span class=\"spark-nlp-display-entity-wrapper\" style=\"background-color: #800080\"><span class=\"spark-nlp-display-entity-name\">jaundiced </span><span class=\"spark-nlp-display-entity-type\">PROBLEM</span></span><span class=\"spark-nlp-display-others\" style=\"background-color: white\">. From his original referral, he has a long history of </span><span class=\"spark-nlp-display-entity-wrapper\" style=\"background-color: #800080\"><span class=\"spark-nlp-display-entity-name\">alcohol abuse </span><span class=\"spark-nlp-display-entity-type\">PROBLEM</span></span><span class=\"spark-nlp-display-others\" style=\"background-color: white\">, drinking more than 30 beers a week for more than 10 years. He has been alcohol free for the past several months now. In view of </span><span class=\"spark-nlp-display-entity-wrapper\" style=\"background-color: #800080\"><span class=\"spark-nlp-display-entity-name\">the drop </span><span class=\"spark-nlp-display-entity-type\">PROBLEM</span></span><span class=\"spark-nlp-display-others\" style=\"background-color: white\"> in </span><span class=\"spark-nlp-display-entity-wrapper\" style=\"background-color: #77b5fe\"><span class=\"spark-nlp-display-entity-name\">haemoglobin </span><span class=\"spark-nlp-display-entity-type\">TEST</span></span><span class=\"spark-nlp-display-others\" style=\"background-color: white\"> to 80 and </span><span class=\"spark-nlp-display-entity-wrapper\" style=\"background-color: #800080\"><span class=\"spark-nlp-display-entity-name\">his deranged U's </span><span class=\"spark-nlp-display-entity-type\">PROBLEM</span></span><span class=\"spark-nlp-display-others\" style=\"background-color: white\"> & E's I would welcome an urgent opinion to exclude </span><span class=\"spark-nlp-display-entity-wrapper\" style=\"background-color: #800080\"><span class=\"spark-nlp-display-entity-name\">GI malignancy </span><span class=\"spark-nlp-display-entity-type\">PROBLEM</span></span><span class=\"spark-nlp-display-others\" style=\"background-color: white\">. Thank you for your help. Yours faithfully</span></div>"
            ],
            "text/plain": [
              "<IPython.core.display.HTML object>"
            ]
          },
          "metadata": {
            "tags": []
          }
        },
        {
          "output_type": "stream",
          "text": [
            "**************************************************\n",
            "Sample Text 2\n",
            "**************************************************\n"
          ],
          "name": "stdout"
        },
        {
          "output_type": "display_data",
          "data": {
            "text/html": [
              "\n",
              "<style>\n",
              "    @import url('https://fonts.googleapis.com/css2?family=Montserrat:wght@300;400;500;600;700&display=swap');\n",
              "    @import url('https://fonts.googleapis.com/css2?family=Vistol Regular:wght@300;400;500;600;700&display=swap');\n",
              "    \n",
              "    .spark-nlp-display-scroll-entities {\n",
              "        border: 1px solid #E7EDF0;\n",
              "        border-radius: 3px;\n",
              "        text-align: justify;\n",
              "        \n",
              "    }\n",
              "    .spark-nlp-display-scroll-entities span {  \n",
              "        font-size: 14px;\n",
              "        line-height: 24px;\n",
              "        color: #536B76;\n",
              "        font-family: 'Montserrat', sans-serif !important;\n",
              "    }\n",
              "    \n",
              "    .spark-nlp-display-entity-wrapper{\n",
              "    \n",
              "        display: inline-grid;\n",
              "        text-align: center;\n",
              "        border-radius: 4px;\n",
              "        margin: 0 2px 5px 2px;\n",
              "        padding: 1px\n",
              "    }\n",
              "    .spark-nlp-display-entity-name{\n",
              "        font-size: 14px;\n",
              "        line-height: 24px;\n",
              "        font-family: 'Montserrat', sans-serif !important;\n",
              "        \n",
              "        background: #f1f2f3;\n",
              "        border-width: medium;\n",
              "        text-align: center;\n",
              "        \n",
              "        font-weight: 400;\n",
              "        \n",
              "        border-radius: 5px;\n",
              "        padding: 2px 5px;\n",
              "        display: block;\n",
              "        margin: 3px 2px;\n",
              "    \n",
              "    }\n",
              "    .spark-nlp-display-entity-type{\n",
              "        font-size: 14px;\n",
              "        line-height: 24px;\n",
              "        color: #ffffff;\n",
              "        font-family: 'Montserrat', sans-serif !important;\n",
              "        \n",
              "        text-transform: uppercase;\n",
              "        \n",
              "        font-weight: 500;\n",
              "\n",
              "        display: block;\n",
              "        padding: 3px 5px;\n",
              "    }\n",
              "    \n",
              "    .spark-nlp-display-entity-resolution{\n",
              "        font-size: 14px;\n",
              "        line-height: 24px;\n",
              "        color: #ffffff;\n",
              "        font-family: 'Vistol Regular', sans-serif !important;\n",
              "        \n",
              "        text-transform: uppercase;\n",
              "        \n",
              "        font-weight: 500;\n",
              "\n",
              "        display: block;\n",
              "        padding: 3px 5px;\n",
              "    }\n",
              "    \n",
              "    .spark-nlp-display-others{\n",
              "        font-size: 14px;\n",
              "        line-height: 24px;\n",
              "        font-family: 'Montserrat', sans-serif !important;\n",
              "        \n",
              "        font-weight: 400;\n",
              "    }\n",
              "\n",
              "</style>\n",
              " <span class=\"spark-nlp-display-others\" style=\"background-color: white\">Dear Doctor, Thanks for seeing Lily. She initially had </span><span class=\"spark-nlp-display-entity-wrapper\" style=\"background-color: #800080\"><span class=\"spark-nlp-display-entity-name\">heartburn </span><span class=\"spark-nlp-display-entity-type\">PROBLEM</span></span><span class=\"spark-nlp-display-others\" style=\"background-color: white\"> in the form of </span><span class=\"spark-nlp-display-entity-wrapper\" style=\"background-color: #800080\"><span class=\"spark-nlp-display-entity-name\">indigestion </span><span class=\"spark-nlp-display-entity-type\">PROBLEM</span></span><span class=\"spark-nlp-display-others\" style=\"background-color: white\"> post mealtime and then this developed into </span><span class=\"spark-nlp-display-entity-wrapper\" style=\"background-color: #800080\"><span class=\"spark-nlp-display-entity-name\">reflux </span><span class=\"spark-nlp-display-entity-type\">PROBLEM</span></span><span class=\"spark-nlp-display-others\" style=\"background-color: white\"> and then </span><span class=\"spark-nlp-display-entity-wrapper\" style=\"background-color: #800080\"><span class=\"spark-nlp-display-entity-name\">dysphagia </span><span class=\"spark-nlp-display-entity-type\">PROBLEM</span></span><span class=\"spark-nlp-display-others\" style=\"background-color: white\">. She has been suffering from this for about 2 months and isn't able to take in any solids anymore. She used to be able to swallow these with </span><span class=\"spark-nlp-display-entity-wrapper\" style=\"background-color: #8b6673\"><span class=\"spark-nlp-display-entity-name\">some liquid </span><span class=\"spark-nlp-display-entity-type\">TREATMENT</span></span><span class=\"spark-nlp-display-others\" style=\"background-color: white\"> but it is hard for her to even swallow water now. She is passing less urine than before. This is significantly affecting her work as a lab assistant. </span><span class=\"spark-nlp-display-entity-wrapper\" style=\"background-color: #77b5fe\"><span class=\"spark-nlp-display-entity-name\">HP stool </span><span class=\"spark-nlp-display-entity-type\">TEST</span></span><span class=\"spark-nlp-display-others\" style=\"background-color: white\"> was negative and </span><span class=\"spark-nlp-display-entity-wrapper\" style=\"background-color: #77b5fe\"><span class=\"spark-nlp-display-entity-name\">blood tests </span><span class=\"spark-nlp-display-entity-type\">TEST</span></span><span class=\"spark-nlp-display-others\" style=\"background-color: white\"> were fine. </span><span class=\"spark-nlp-display-entity-wrapper\" style=\"background-color: #8b6673\"><span class=\"spark-nlp-display-entity-name\">PPI tablets </span><span class=\"spark-nlp-display-entity-type\">TREATMENT</span></span><span class=\"spark-nlp-display-others\" style=\"background-color: white\"> are causing </span><span class=\"spark-nlp-display-entity-wrapper\" style=\"background-color: #800080\"><span class=\"spark-nlp-display-entity-name\">regurgitation </span><span class=\"spark-nlp-display-entity-type\">PROBLEM</span></span><span class=\"spark-nlp-display-others\" style=\"background-color: white\"> so she is taking the oral dispersible type. </span><span class=\"spark-nlp-display-entity-wrapper\" style=\"background-color: #8b6673\"><span class=\"spark-nlp-display-entity-name\">Ranitidine </span><span class=\"spark-nlp-display-entity-type\">TREATMENT</span></span><span class=\"spark-nlp-display-others\" style=\"background-color: white\"> has no effect. There is a low risk of </span><span class=\"spark-nlp-display-entity-wrapper\" style=\"background-color: #800080\"><span class=\"spark-nlp-display-entity-name\">malignancy </span><span class=\"spark-nlp-display-entity-type\">PROBLEM</span></span><span class=\"spark-nlp-display-others\" style=\"background-color: white\"> from my point of view but </span><span class=\"spark-nlp-display-entity-wrapper\" style=\"background-color: #800080\"><span class=\"spark-nlp-display-entity-name\">her symptoms </span><span class=\"spark-nlp-display-entity-type\">PROBLEM</span></span><span class=\"spark-nlp-display-others\" style=\"background-color: white\"> are getting worse day by day. She has </span><span class=\"spark-nlp-display-entity-wrapper\" style=\"background-color: #800080\"><span class=\"spark-nlp-display-entity-name\">lost 30 kg </span><span class=\"spark-nlp-display-entity-type\">PROBLEM</span></span><span class=\"spark-nlp-display-others\" style=\"background-color: white\"> and although she has been asked to lose weight, </span><span class=\"spark-nlp-display-entity-wrapper\" style=\"background-color: #77b5fe\"><span class=\"spark-nlp-display-entity-name\">this method </span><span class=\"spark-nlp-display-entity-type\">TEST</span></span><span class=\"spark-nlp-display-others\" style=\"background-color: white\"> is not healthy. I would be grateful if she could be seen as soon as possible. Dr M. Christie GP.</span></div>"
            ],
            "text/plain": [
              "<IPython.core.display.HTML object>"
            ]
          },
          "metadata": {
            "tags": []
          }
        },
        {
          "output_type": "stream",
          "text": [
            "**************************************************\n",
            "Sample Text 3\n",
            "**************************************************\n"
          ],
          "name": "stdout"
        },
        {
          "output_type": "display_data",
          "data": {
            "text/html": [
              "\n",
              "<style>\n",
              "    @import url('https://fonts.googleapis.com/css2?family=Montserrat:wght@300;400;500;600;700&display=swap');\n",
              "    @import url('https://fonts.googleapis.com/css2?family=Vistol Regular:wght@300;400;500;600;700&display=swap');\n",
              "    \n",
              "    .spark-nlp-display-scroll-entities {\n",
              "        border: 1px solid #E7EDF0;\n",
              "        border-radius: 3px;\n",
              "        text-align: justify;\n",
              "        \n",
              "    }\n",
              "    .spark-nlp-display-scroll-entities span {  \n",
              "        font-size: 14px;\n",
              "        line-height: 24px;\n",
              "        color: #536B76;\n",
              "        font-family: 'Montserrat', sans-serif !important;\n",
              "    }\n",
              "    \n",
              "    .spark-nlp-display-entity-wrapper{\n",
              "    \n",
              "        display: inline-grid;\n",
              "        text-align: center;\n",
              "        border-radius: 4px;\n",
              "        margin: 0 2px 5px 2px;\n",
              "        padding: 1px\n",
              "    }\n",
              "    .spark-nlp-display-entity-name{\n",
              "        font-size: 14px;\n",
              "        line-height: 24px;\n",
              "        font-family: 'Montserrat', sans-serif !important;\n",
              "        \n",
              "        background: #f1f2f3;\n",
              "        border-width: medium;\n",
              "        text-align: center;\n",
              "        \n",
              "        font-weight: 400;\n",
              "        \n",
              "        border-radius: 5px;\n",
              "        padding: 2px 5px;\n",
              "        display: block;\n",
              "        margin: 3px 2px;\n",
              "    \n",
              "    }\n",
              "    .spark-nlp-display-entity-type{\n",
              "        font-size: 14px;\n",
              "        line-height: 24px;\n",
              "        color: #ffffff;\n",
              "        font-family: 'Montserrat', sans-serif !important;\n",
              "        \n",
              "        text-transform: uppercase;\n",
              "        \n",
              "        font-weight: 500;\n",
              "\n",
              "        display: block;\n",
              "        padding: 3px 5px;\n",
              "    }\n",
              "    \n",
              "    .spark-nlp-display-entity-resolution{\n",
              "        font-size: 14px;\n",
              "        line-height: 24px;\n",
              "        color: #ffffff;\n",
              "        font-family: 'Vistol Regular', sans-serif !important;\n",
              "        \n",
              "        text-transform: uppercase;\n",
              "        \n",
              "        font-weight: 500;\n",
              "\n",
              "        display: block;\n",
              "        padding: 3px 5px;\n",
              "    }\n",
              "    \n",
              "    .spark-nlp-display-others{\n",
              "        font-size: 14px;\n",
              "        line-height: 24px;\n",
              "        font-family: 'Montserrat', sans-serif !important;\n",
              "        \n",
              "        font-weight: 400;\n",
              "    }\n",
              "\n",
              "</style>\n",
              " <span class=\"spark-nlp-display-others\" style=\"background-color: white\">I would be grateful if you could see this 79 y/o woman for </span><span class=\"spark-nlp-display-entity-wrapper\" style=\"background-color: #800080\"><span class=\"spark-nlp-display-entity-name\">a non-urgent OGD </span><span class=\"spark-nlp-display-entity-type\">PROBLEM</span></span><span class=\"spark-nlp-display-others\" style=\"background-color: white\">. She appears to have been </span><span class=\"spark-nlp-display-entity-wrapper\" style=\"background-color: #800080\"><span class=\"spark-nlp-display-entity-name\">suffering intermittently </span><span class=\"spark-nlp-display-entity-type\">PROBLEM</span></span><span class=\"spark-nlp-display-others\" style=\"background-color: white\"> from </span><span class=\"spark-nlp-display-entity-wrapper\" style=\"background-color: #800080\"><span class=\"spark-nlp-display-entity-name\">dyspepsia </span><span class=\"spark-nlp-display-entity-type\">PROBLEM</span></span><span class=\"spark-nlp-display-others\" style=\"background-color: white\"> and </span><span class=\"spark-nlp-display-entity-wrapper\" style=\"background-color: #800080\"><span class=\"spark-nlp-display-entity-name\">epigastric pain </span><span class=\"spark-nlp-display-entity-type\">PROBLEM</span></span><span class=\"spark-nlp-display-others\" style=\"background-color: white\"> for the course of the last 3 months. She is keen to get it checked. </span><span class=\"spark-nlp-display-entity-wrapper\" style=\"background-color: #800080\"><span class=\"spark-nlp-display-entity-name\">Her pain </span><span class=\"spark-nlp-display-entity-type\">PROBLEM</span></span><span class=\"spark-nlp-display-others\" style=\"background-color: white\"> relief comes in the form of </span><span class=\"spark-nlp-display-entity-wrapper\" style=\"background-color: #8b6673\"><span class=\"spark-nlp-display-entity-name\">bicarbonate </span><span class=\"spark-nlp-display-entity-type\">TREATMENT</span></span><span class=\"spark-nlp-display-others\" style=\"background-color: white\"> of soda/ </span><span class=\"spark-nlp-display-entity-wrapper\" style=\"background-color: #8b6673\"><span class=\"spark-nlp-display-entity-name\">gaviscon </span><span class=\"spark-nlp-display-entity-type\">TREATMENT</span></span><span class=\"spark-nlp-display-others\" style=\"background-color: white\"> but it is recently getting worse and she has had 2 episodes of </span><span class=\"spark-nlp-display-entity-wrapper\" style=\"background-color: #800080\"><span class=\"spark-nlp-display-entity-name\">dark vomit </span><span class=\"spark-nlp-display-entity-type\">PROBLEM</span></span><span class=\"spark-nlp-display-others\" style=\"background-color: white\">. She does not smoke and drinks only occasionally. </span><span class=\"spark-nlp-display-entity-wrapper\" style=\"background-color: #77b5fe\"><span class=\"spark-nlp-display-entity-name\">H Pylori faecal tests </span><span class=\"spark-nlp-display-entity-type\">TEST</span></span><span class=\"spark-nlp-display-others\" style=\"background-color: white\"> have been requested and </span><span class=\"spark-nlp-display-entity-wrapper\" style=\"background-color: #8b6673\"><span class=\"spark-nlp-display-entity-name\">omeprazole </span><span class=\"spark-nlp-display-entity-type\">TREATMENT</span></span><span class=\"spark-nlp-display-others\" style=\"background-color: white\"> has been prescribed. No </span><span class=\"spark-nlp-display-entity-wrapper\" style=\"background-color: #800080\"><span class=\"spark-nlp-display-entity-name\">weight loss </span><span class=\"spark-nlp-display-entity-type\">PROBLEM</span></span><span class=\"spark-nlp-display-others\" style=\"background-color: white\"> or </span><span class=\"spark-nlp-display-entity-wrapper\" style=\"background-color: #800080\"><span class=\"spark-nlp-display-entity-name\">dysphagia </span><span class=\"spark-nlp-display-entity-type\">PROBLEM</span></span><span class=\"spark-nlp-display-others\" style=\"background-color: white\"> has been reported but due to her age and </span><span class=\"spark-nlp-display-entity-wrapper\" style=\"background-color: #800080\"><span class=\"spark-nlp-display-entity-name\">symptoms </span><span class=\"spark-nlp-display-entity-type\">PROBLEM</span></span><span class=\"spark-nlp-display-others\" style=\"background-color: white\">, an OGD would provide good reassurance. Best regards, Dr Smith</span></div>"
            ],
            "text/plain": [
              "<IPython.core.display.HTML object>"
            ]
          },
          "metadata": {
            "tags": []
          }
        }
      ]
    },
    {
      "cell_type": "markdown",
      "metadata": {
        "id": "eLvLy4AY4d_o"
      },
      "source": [
        "- In Spark NLP, we have many pretrained NER models for different purposes. Let's use another NER model this time."
      ],
      "id": "eLvLy4AY4d_o"
    },
    {
      "cell_type": "code",
      "metadata": {
        "colab": {
          "base_uri": "https://localhost:8080/"
        },
        "id": "Bm3YhL9i5QrQ",
        "outputId": "89bf5a86-6eec-48a6-9f41-491f0966f3dd"
      },
      "source": [
        "clinical_ner = MedicalNerModel.pretrained(\"ner_jsl\",\"en\",\"clinical/models\")\\\n",
        "        .setInputCols([\"sentence\",\"token\",\"embeddings\"])\\\n",
        "        .setOutputCol(\"ner\")\n",
        "\n",
        "ner_converter = NerConverter()\\\n",
        "        .setInputCols([\"sentence\",\"token\",\"ner\"])\\\n",
        "        .setOutputCol(\"ner_chunk\")\n",
        "\n",
        "nlpPipeline = Pipeline(stages=[\n",
        "        documentAssembler,\n",
        "        sentenceDetector,\n",
        "        tokenizer,\n",
        "        word_embeddings,\n",
        "        clinical_ner,\n",
        "        ner_converter])\n",
        "\n",
        "empty_data = spark.createDataFrame([[\"\"]]).toDF(\"text\")\n",
        "\n",
        "model = nlpPipeline.fit(empty_data)"
      ],
      "id": "Bm3YhL9i5QrQ",
      "execution_count": null,
      "outputs": [
        {
          "output_type": "stream",
          "text": [
            "ner_jsl download started this may take some time.\n",
            "Approximate size to download 14 MB\n",
            "[OK!]\n"
          ],
          "name": "stdout"
        }
      ]
    },
    {
      "cell_type": "code",
      "metadata": {
        "colab": {
          "base_uri": "https://localhost:8080/",
          "height": 1000
        },
        "id": "z6lGvjAE5j6b",
        "outputId": "64bfec8c-c6ff-4ce6-b348-53e25441291f"
      },
      "source": [
        "from sparknlp_display import NerVisualizer\n",
        "\n",
        "light_model = LightPipeline(model)\n",
        "\n",
        "for index, text in enumerate(sample_text):\n",
        "    print(\"*\"*50)\n",
        "    print(f'Sample Text {index+1}')\n",
        "    print(\"*\"*50)\n",
        "    \n",
        "    light_result = light_model.fullAnnotate(text)\n",
        "    visualiser = NerVisualizer()\n",
        "    visualiser.display(light_result[0], \n",
        "                       label_col='ner_chunk', \n",
        "                       document_col='document')"
      ],
      "id": "z6lGvjAE5j6b",
      "execution_count": null,
      "outputs": [
        {
          "output_type": "stream",
          "text": [
            "**************************************************\n",
            "Sample Text 1\n",
            "**************************************************\n"
          ],
          "name": "stdout"
        },
        {
          "output_type": "display_data",
          "data": {
            "text/html": [
              "\n",
              "<style>\n",
              "    @import url('https://fonts.googleapis.com/css2?family=Montserrat:wght@300;400;500;600;700&display=swap');\n",
              "    @import url('https://fonts.googleapis.com/css2?family=Vistol Regular:wght@300;400;500;600;700&display=swap');\n",
              "    \n",
              "    .spark-nlp-display-scroll-entities {\n",
              "        border: 1px solid #E7EDF0;\n",
              "        border-radius: 3px;\n",
              "        text-align: justify;\n",
              "        \n",
              "    }\n",
              "    .spark-nlp-display-scroll-entities span {  \n",
              "        font-size: 14px;\n",
              "        line-height: 24px;\n",
              "        color: #536B76;\n",
              "        font-family: 'Montserrat', sans-serif !important;\n",
              "    }\n",
              "    \n",
              "    .spark-nlp-display-entity-wrapper{\n",
              "    \n",
              "        display: inline-grid;\n",
              "        text-align: center;\n",
              "        border-radius: 4px;\n",
              "        margin: 0 2px 5px 2px;\n",
              "        padding: 1px\n",
              "    }\n",
              "    .spark-nlp-display-entity-name{\n",
              "        font-size: 14px;\n",
              "        line-height: 24px;\n",
              "        font-family: 'Montserrat', sans-serif !important;\n",
              "        \n",
              "        background: #f1f2f3;\n",
              "        border-width: medium;\n",
              "        text-align: center;\n",
              "        \n",
              "        font-weight: 400;\n",
              "        \n",
              "        border-radius: 5px;\n",
              "        padding: 2px 5px;\n",
              "        display: block;\n",
              "        margin: 3px 2px;\n",
              "    \n",
              "    }\n",
              "    .spark-nlp-display-entity-type{\n",
              "        font-size: 14px;\n",
              "        line-height: 24px;\n",
              "        color: #ffffff;\n",
              "        font-family: 'Montserrat', sans-serif !important;\n",
              "        \n",
              "        text-transform: uppercase;\n",
              "        \n",
              "        font-weight: 500;\n",
              "\n",
              "        display: block;\n",
              "        padding: 3px 5px;\n",
              "    }\n",
              "    \n",
              "    .spark-nlp-display-entity-resolution{\n",
              "        font-size: 14px;\n",
              "        line-height: 24px;\n",
              "        color: #ffffff;\n",
              "        font-family: 'Vistol Regular', sans-serif !important;\n",
              "        \n",
              "        text-transform: uppercase;\n",
              "        \n",
              "        font-weight: 500;\n",
              "\n",
              "        display: block;\n",
              "        padding: 3px 5px;\n",
              "    }\n",
              "    \n",
              "    .spark-nlp-display-others{\n",
              "        font-size: 14px;\n",
              "        line-height: 24px;\n",
              "        font-family: 'Montserrat', sans-serif !important;\n",
              "        \n",
              "        font-weight: 400;\n",
              "    }\n",
              "\n",
              "</style>\n",
              " <span class=\"spark-nlp-display-others\" style=\"background-color: white\">Find upper GI endoscopy report on this patient from late 2016 and blood test results. I would be grateful if </span><span class=\"spark-nlp-display-entity-wrapper\" style=\"background-color: #ffacb7\"><span class=\"spark-nlp-display-entity-name\">he </span><span class=\"spark-nlp-display-entity-type\">Gender</span></span><span class=\"spark-nlp-display-others\" style=\"background-color: white\"> could be seen to exclude GI malignancy. Adam has been feeling </span><span class=\"spark-nlp-display-entity-wrapper\" style=\"background-color: #CDB7B5\"><span class=\"spark-nlp-display-entity-name\">unwell </span><span class=\"spark-nlp-display-entity-type\">Symptom_Name</span></span><span class=\"spark-nlp-display-others\" style=\"background-color: white\"> for the past 2 weeks with </span><span class=\"spark-nlp-display-entity-wrapper\" style=\"background-color: #CDB7B5\"><span class=\"spark-nlp-display-entity-name\">abdominal pain </span><span class=\"spark-nlp-display-entity-type\">Symptom_Name</span></span><span class=\"spark-nlp-display-others\" style=\"background-color: white\">, </span><span class=\"spark-nlp-display-entity-wrapper\" style=\"background-color: #CDB7B5\"><span class=\"spark-nlp-display-entity-name\">lethargy </span><span class=\"spark-nlp-display-entity-type\">Symptom_Name</span></span><span class=\"spark-nlp-display-others\" style=\"background-color: white\"> and concern from </span><span class=\"spark-nlp-display-entity-wrapper\" style=\"background-color: #ffacb7\"><span class=\"spark-nlp-display-entity-name\">his </span><span class=\"spark-nlp-display-entity-type\">Gender</span></span><span class=\"spark-nlp-display-others\" style=\"background-color: white\"> family that </span><span class=\"spark-nlp-display-entity-wrapper\" style=\"background-color: #ffacb7\"><span class=\"spark-nlp-display-entity-name\">he </span><span class=\"spark-nlp-display-entity-type\">Gender</span></span><span class=\"spark-nlp-display-others\" style=\"background-color: white\"> looks </span><span class=\"spark-nlp-display-entity-wrapper\" style=\"background-color: #b5a1c9\"><span class=\"spark-nlp-display-entity-name\">jaundiced </span><span class=\"spark-nlp-display-entity-type\">Diagnosis</span></span><span class=\"spark-nlp-display-others\" style=\"background-color: white\">. From </span><span class=\"spark-nlp-display-entity-wrapper\" style=\"background-color: #ffacb7\"><span class=\"spark-nlp-display-entity-name\">his </span><span class=\"spark-nlp-display-entity-type\">Gender</span></span><span class=\"spark-nlp-display-others\" style=\"background-color: white\"> original referral, </span><span class=\"spark-nlp-display-entity-wrapper\" style=\"background-color: #ffacb7\"><span class=\"spark-nlp-display-entity-name\">he </span><span class=\"spark-nlp-display-entity-type\">Gender</span></span><span class=\"spark-nlp-display-others\" style=\"background-color: white\"> has a long history of </span><span class=\"spark-nlp-display-entity-wrapper\" style=\"background-color: #B9A582\"><span class=\"spark-nlp-display-entity-name\">alcohol </span><span class=\"spark-nlp-display-entity-type\">Substance_Name</span></span><span class=\"spark-nlp-display-others\" style=\"background-color: white\"> abuse, drinking more than 30 </span><span class=\"spark-nlp-display-entity-wrapper\" style=\"background-color: #B9A582\"><span class=\"spark-nlp-display-entity-name\">beers </span><span class=\"spark-nlp-display-entity-type\">Substance_Name</span></span><span class=\"spark-nlp-display-others\" style=\"background-color: white\"> a week for more than 10 years. </span><span class=\"spark-nlp-display-entity-wrapper\" style=\"background-color: #ffacb7\"><span class=\"spark-nlp-display-entity-name\">He </span><span class=\"spark-nlp-display-entity-type\">Gender</span></span><span class=\"spark-nlp-display-others\" style=\"background-color: white\"> has been </span><span class=\"spark-nlp-display-entity-wrapper\" style=\"background-color: #B9A582\"><span class=\"spark-nlp-display-entity-name\">alcohol </span><span class=\"spark-nlp-display-entity-type\">Substance_Name</span></span><span class=\"spark-nlp-display-others\" style=\"background-color: white\"> free for the past several months now. In view of the drop in </span><span class=\"spark-nlp-display-entity-wrapper\" style=\"background-color: #698B22\"><span class=\"spark-nlp-display-entity-name\">haemoglobin </span><span class=\"spark-nlp-display-entity-type\">Lab_Name</span></span><span class=\"spark-nlp-display-others\" style=\"background-color: white\"> to </span><span class=\"spark-nlp-display-entity-wrapper\" style=\"background-color: #3abd80\"><span class=\"spark-nlp-display-entity-name\">80 </span><span class=\"spark-nlp-display-entity-type\">Lab_Result</span></span><span class=\"spark-nlp-display-others\" style=\"background-color: white\"> and </span><span class=\"spark-nlp-display-entity-wrapper\" style=\"background-color: #ffacb7\"><span class=\"spark-nlp-display-entity-name\">his </span><span class=\"spark-nlp-display-entity-type\">Gender</span></span><span class=\"spark-nlp-display-others\" style=\"background-color: white\"> deranged U's & E's I would welcome an urgent opinion to exclude GI malignancy. Thank you for your help. Yours faithfully</span></div>"
            ],
            "text/plain": [
              "<IPython.core.display.HTML object>"
            ]
          },
          "metadata": {
            "tags": []
          }
        },
        {
          "output_type": "stream",
          "text": [
            "**************************************************\n",
            "Sample Text 2\n",
            "**************************************************\n"
          ],
          "name": "stdout"
        },
        {
          "output_type": "display_data",
          "data": {
            "text/html": [
              "\n",
              "<style>\n",
              "    @import url('https://fonts.googleapis.com/css2?family=Montserrat:wght@300;400;500;600;700&display=swap');\n",
              "    @import url('https://fonts.googleapis.com/css2?family=Vistol Regular:wght@300;400;500;600;700&display=swap');\n",
              "    \n",
              "    .spark-nlp-display-scroll-entities {\n",
              "        border: 1px solid #E7EDF0;\n",
              "        border-radius: 3px;\n",
              "        text-align: justify;\n",
              "        \n",
              "    }\n",
              "    .spark-nlp-display-scroll-entities span {  \n",
              "        font-size: 14px;\n",
              "        line-height: 24px;\n",
              "        color: #536B76;\n",
              "        font-family: 'Montserrat', sans-serif !important;\n",
              "    }\n",
              "    \n",
              "    .spark-nlp-display-entity-wrapper{\n",
              "    \n",
              "        display: inline-grid;\n",
              "        text-align: center;\n",
              "        border-radius: 4px;\n",
              "        margin: 0 2px 5px 2px;\n",
              "        padding: 1px\n",
              "    }\n",
              "    .spark-nlp-display-entity-name{\n",
              "        font-size: 14px;\n",
              "        line-height: 24px;\n",
              "        font-family: 'Montserrat', sans-serif !important;\n",
              "        \n",
              "        background: #f1f2f3;\n",
              "        border-width: medium;\n",
              "        text-align: center;\n",
              "        \n",
              "        font-weight: 400;\n",
              "        \n",
              "        border-radius: 5px;\n",
              "        padding: 2px 5px;\n",
              "        display: block;\n",
              "        margin: 3px 2px;\n",
              "    \n",
              "    }\n",
              "    .spark-nlp-display-entity-type{\n",
              "        font-size: 14px;\n",
              "        line-height: 24px;\n",
              "        color: #ffffff;\n",
              "        font-family: 'Montserrat', sans-serif !important;\n",
              "        \n",
              "        text-transform: uppercase;\n",
              "        \n",
              "        font-weight: 500;\n",
              "\n",
              "        display: block;\n",
              "        padding: 3px 5px;\n",
              "    }\n",
              "    \n",
              "    .spark-nlp-display-entity-resolution{\n",
              "        font-size: 14px;\n",
              "        line-height: 24px;\n",
              "        color: #ffffff;\n",
              "        font-family: 'Vistol Regular', sans-serif !important;\n",
              "        \n",
              "        text-transform: uppercase;\n",
              "        \n",
              "        font-weight: 500;\n",
              "\n",
              "        display: block;\n",
              "        padding: 3px 5px;\n",
              "    }\n",
              "    \n",
              "    .spark-nlp-display-others{\n",
              "        font-size: 14px;\n",
              "        line-height: 24px;\n",
              "        font-family: 'Montserrat', sans-serif !important;\n",
              "        \n",
              "        font-weight: 400;\n",
              "    }\n",
              "\n",
              "</style>\n",
              " <span class=\"spark-nlp-display-others\" style=\"background-color: white\">Dear Doctor, Thanks for seeing Lily. </span><span class=\"spark-nlp-display-entity-wrapper\" style=\"background-color: #ffacb7\"><span class=\"spark-nlp-display-entity-name\">She </span><span class=\"spark-nlp-display-entity-type\">Gender</span></span><span class=\"spark-nlp-display-others\" style=\"background-color: white\"> initially had </span><span class=\"spark-nlp-display-entity-wrapper\" style=\"background-color: #CDB7B5\"><span class=\"spark-nlp-display-entity-name\">heartburn </span><span class=\"spark-nlp-display-entity-type\">Symptom_Name</span></span><span class=\"spark-nlp-display-others\" style=\"background-color: white\"> in the form of </span><span class=\"spark-nlp-display-entity-wrapper\" style=\"background-color: #CDB7B5\"><span class=\"spark-nlp-display-entity-name\">indigestion </span><span class=\"spark-nlp-display-entity-type\">Symptom_Name</span></span><span class=\"spark-nlp-display-others\" style=\"background-color: white\"> post mealtime and then this developed into </span><span class=\"spark-nlp-display-entity-wrapper\" style=\"background-color: #CDB7B5\"><span class=\"spark-nlp-display-entity-name\">reflux </span><span class=\"spark-nlp-display-entity-type\">Symptom_Name</span></span><span class=\"spark-nlp-display-others\" style=\"background-color: white\"> and then </span><span class=\"spark-nlp-display-entity-wrapper\" style=\"background-color: #CDB7B5\"><span class=\"spark-nlp-display-entity-name\">dysphagia </span><span class=\"spark-nlp-display-entity-type\">Symptom_Name</span></span><span class=\"spark-nlp-display-others\" style=\"background-color: white\">. </span><span class=\"spark-nlp-display-entity-wrapper\" style=\"background-color: #ffacb7\"><span class=\"spark-nlp-display-entity-name\">She </span><span class=\"spark-nlp-display-entity-type\">Gender</span></span><span class=\"spark-nlp-display-others\" style=\"background-color: white\"> has been suffering from this for about 2 months and isn't able to take in any solids anymore. </span><span class=\"spark-nlp-display-entity-wrapper\" style=\"background-color: #ffacb7\"><span class=\"spark-nlp-display-entity-name\">She </span><span class=\"spark-nlp-display-entity-type\">Gender</span></span><span class=\"spark-nlp-display-others\" style=\"background-color: white\"> used to be able to swallow these with some liquid but it is hard for </span><span class=\"spark-nlp-display-entity-wrapper\" style=\"background-color: #ffacb7\"><span class=\"spark-nlp-display-entity-name\">her </span><span class=\"spark-nlp-display-entity-type\">Gender</span></span><span class=\"spark-nlp-display-others\" style=\"background-color: white\"> to even swallow water now. </span><span class=\"spark-nlp-display-entity-wrapper\" style=\"background-color: #ffacb7\"><span class=\"spark-nlp-display-entity-name\">She </span><span class=\"spark-nlp-display-entity-type\">Gender</span></span><span class=\"spark-nlp-display-others\" style=\"background-color: white\"> is passing less urine than before. This is significantly affecting </span><span class=\"spark-nlp-display-entity-wrapper\" style=\"background-color: #ffacb7\"><span class=\"spark-nlp-display-entity-name\">her </span><span class=\"spark-nlp-display-entity-type\">Gender</span></span><span class=\"spark-nlp-display-others\" style=\"background-color: white\"> work as a lab assistant. </span><span class=\"spark-nlp-display-entity-wrapper\" style=\"background-color: #698B22\"><span class=\"spark-nlp-display-entity-name\">HP stool </span><span class=\"spark-nlp-display-entity-type\">Lab_Name</span></span><span class=\"spark-nlp-display-others\" style=\"background-color: white\"> was </span><span class=\"spark-nlp-display-entity-wrapper\" style=\"background-color: #3abd80\"><span class=\"spark-nlp-display-entity-name\">negative </span><span class=\"spark-nlp-display-entity-type\">Lab_Result</span></span><span class=\"spark-nlp-display-others\" style=\"background-color: white\"> and </span><span class=\"spark-nlp-display-entity-wrapper\" style=\"background-color: #698B22\"><span class=\"spark-nlp-display-entity-name\">blood tests </span><span class=\"spark-nlp-display-entity-type\">Lab_Name</span></span><span class=\"spark-nlp-display-others\" style=\"background-color: white\"> were fine. PPI tablets are causing </span><span class=\"spark-nlp-display-entity-wrapper\" style=\"background-color: #CDB7B5\"><span class=\"spark-nlp-display-entity-name\">regurgitation </span><span class=\"spark-nlp-display-entity-type\">Symptom_Name</span></span><span class=\"spark-nlp-display-others\" style=\"background-color: white\"> so </span><span class=\"spark-nlp-display-entity-wrapper\" style=\"background-color: #ffacb7\"><span class=\"spark-nlp-display-entity-name\">she </span><span class=\"spark-nlp-display-entity-type\">Gender</span></span><span class=\"spark-nlp-display-others\" style=\"background-color: white\"> is taking the </span><span class=\"spark-nlp-display-entity-wrapper\" style=\"background-color: #A14D7E\"><span class=\"spark-nlp-display-entity-name\">oral </span><span class=\"spark-nlp-display-entity-type\">Route</span></span><span class=\"spark-nlp-display-others\" style=\"background-color: white\"> </span><span class=\"spark-nlp-display-entity-wrapper\" style=\"background-color: #a3496c\"><span class=\"spark-nlp-display-entity-name\">dispersible </span><span class=\"spark-nlp-display-entity-type\">Drug_Name</span></span><span class=\"spark-nlp-display-others\" style=\"background-color: white\"> type. </span><span class=\"spark-nlp-display-entity-wrapper\" style=\"background-color: #a3496c\"><span class=\"spark-nlp-display-entity-name\">Ranitidine </span><span class=\"spark-nlp-display-entity-type\">Drug_Name</span></span><span class=\"spark-nlp-display-others\" style=\"background-color: white\"> has no effect. There is a low risk of </span><span class=\"spark-nlp-display-entity-wrapper\" style=\"background-color: #b5a1c9\"><span class=\"spark-nlp-display-entity-name\">malignancy </span><span class=\"spark-nlp-display-entity-type\">Diagnosis</span></span><span class=\"spark-nlp-display-others\" style=\"background-color: white\"> from my point of view but </span><span class=\"spark-nlp-display-entity-wrapper\" style=\"background-color: #ffacb7\"><span class=\"spark-nlp-display-entity-name\">her </span><span class=\"spark-nlp-display-entity-type\">Gender</span></span><span class=\"spark-nlp-display-others\" style=\"background-color: white\"> symptoms are getting worse day by day. </span><span class=\"spark-nlp-display-entity-wrapper\" style=\"background-color: #ffacb7\"><span class=\"spark-nlp-display-entity-name\">She </span><span class=\"spark-nlp-display-entity-type\">Gender</span></span><span class=\"spark-nlp-display-others\" style=\"background-color: white\"> has lost 30 kg and although </span><span class=\"spark-nlp-display-entity-wrapper\" style=\"background-color: #ffacb7\"><span class=\"spark-nlp-display-entity-name\">she </span><span class=\"spark-nlp-display-entity-type\">Gender</span></span><span class=\"spark-nlp-display-others\" style=\"background-color: white\"> has been asked to lose weight, this method is not healthy. I would be grateful if </span><span class=\"spark-nlp-display-entity-wrapper\" style=\"background-color: #ffacb7\"><span class=\"spark-nlp-display-entity-name\">she </span><span class=\"spark-nlp-display-entity-type\">Gender</span></span><span class=\"spark-nlp-display-others\" style=\"background-color: white\"> could be seen as soon as possible. Dr M. Christie GP.</span></div>"
            ],
            "text/plain": [
              "<IPython.core.display.HTML object>"
            ]
          },
          "metadata": {
            "tags": []
          }
        },
        {
          "output_type": "stream",
          "text": [
            "**************************************************\n",
            "Sample Text 3\n",
            "**************************************************\n"
          ],
          "name": "stdout"
        },
        {
          "output_type": "display_data",
          "data": {
            "text/html": [
              "\n",
              "<style>\n",
              "    @import url('https://fonts.googleapis.com/css2?family=Montserrat:wght@300;400;500;600;700&display=swap');\n",
              "    @import url('https://fonts.googleapis.com/css2?family=Vistol Regular:wght@300;400;500;600;700&display=swap');\n",
              "    \n",
              "    .spark-nlp-display-scroll-entities {\n",
              "        border: 1px solid #E7EDF0;\n",
              "        border-radius: 3px;\n",
              "        text-align: justify;\n",
              "        \n",
              "    }\n",
              "    .spark-nlp-display-scroll-entities span {  \n",
              "        font-size: 14px;\n",
              "        line-height: 24px;\n",
              "        color: #536B76;\n",
              "        font-family: 'Montserrat', sans-serif !important;\n",
              "    }\n",
              "    \n",
              "    .spark-nlp-display-entity-wrapper{\n",
              "    \n",
              "        display: inline-grid;\n",
              "        text-align: center;\n",
              "        border-radius: 4px;\n",
              "        margin: 0 2px 5px 2px;\n",
              "        padding: 1px\n",
              "    }\n",
              "    .spark-nlp-display-entity-name{\n",
              "        font-size: 14px;\n",
              "        line-height: 24px;\n",
              "        font-family: 'Montserrat', sans-serif !important;\n",
              "        \n",
              "        background: #f1f2f3;\n",
              "        border-width: medium;\n",
              "        text-align: center;\n",
              "        \n",
              "        font-weight: 400;\n",
              "        \n",
              "        border-radius: 5px;\n",
              "        padding: 2px 5px;\n",
              "        display: block;\n",
              "        margin: 3px 2px;\n",
              "    \n",
              "    }\n",
              "    .spark-nlp-display-entity-type{\n",
              "        font-size: 14px;\n",
              "        line-height: 24px;\n",
              "        color: #ffffff;\n",
              "        font-family: 'Montserrat', sans-serif !important;\n",
              "        \n",
              "        text-transform: uppercase;\n",
              "        \n",
              "        font-weight: 500;\n",
              "\n",
              "        display: block;\n",
              "        padding: 3px 5px;\n",
              "    }\n",
              "    \n",
              "    .spark-nlp-display-entity-resolution{\n",
              "        font-size: 14px;\n",
              "        line-height: 24px;\n",
              "        color: #ffffff;\n",
              "        font-family: 'Vistol Regular', sans-serif !important;\n",
              "        \n",
              "        text-transform: uppercase;\n",
              "        \n",
              "        font-weight: 500;\n",
              "\n",
              "        display: block;\n",
              "        padding: 3px 5px;\n",
              "    }\n",
              "    \n",
              "    .spark-nlp-display-others{\n",
              "        font-size: 14px;\n",
              "        line-height: 24px;\n",
              "        font-family: 'Montserrat', sans-serif !important;\n",
              "        \n",
              "        font-weight: 400;\n",
              "    }\n",
              "\n",
              "</style>\n",
              " <span class=\"spark-nlp-display-others\" style=\"background-color: white\">I would be grateful if you could see this 79 y/o </span><span class=\"spark-nlp-display-entity-wrapper\" style=\"background-color: #ffacb7\"><span class=\"spark-nlp-display-entity-name\">woman </span><span class=\"spark-nlp-display-entity-type\">Gender</span></span><span class=\"spark-nlp-display-others\" style=\"background-color: white\"> for a non-urgent </span><span class=\"spark-nlp-display-entity-wrapper\" style=\"background-color: #48D1CC\"><span class=\"spark-nlp-display-entity-name\">OGD </span><span class=\"spark-nlp-display-entity-type\">Procedure_Name</span></span><span class=\"spark-nlp-display-others\" style=\"background-color: white\">. </span><span class=\"spark-nlp-display-entity-wrapper\" style=\"background-color: #ffacb7\"><span class=\"spark-nlp-display-entity-name\">She </span><span class=\"spark-nlp-display-entity-type\">Gender</span></span><span class=\"spark-nlp-display-others\" style=\"background-color: white\"> appears to have been suffering intermittently from dysppsia and epigastrc </span><span class=\"spark-nlp-display-entity-wrapper\" style=\"background-color: #CDB7B5\"><span class=\"spark-nlp-display-entity-name\">pain </span><span class=\"spark-nlp-display-entity-type\">Symptom_Name</span></span><span class=\"spark-nlp-display-others\" style=\"background-color: white\"> for the course of the last 3 months. </span><span class=\"spark-nlp-display-entity-wrapper\" style=\"background-color: #ffacb7\"><span class=\"spark-nlp-display-entity-name\">She </span><span class=\"spark-nlp-display-entity-type\">Gender</span></span><span class=\"spark-nlp-display-others\" style=\"background-color: white\"> is keen to get it checked. </span><span class=\"spark-nlp-display-entity-wrapper\" style=\"background-color: #ffacb7\"><span class=\"spark-nlp-display-entity-name\">Her </span><span class=\"spark-nlp-display-entity-type\">Gender</span></span><span class=\"spark-nlp-display-others\" style=\"background-color: white\"> </span><span class=\"spark-nlp-display-entity-wrapper\" style=\"background-color: #CDB7B5\"><span class=\"spark-nlp-display-entity-name\">pain </span><span class=\"spark-nlp-display-entity-type\">Symptom_Name</span></span><span class=\"spark-nlp-display-others\" style=\"background-color: white\"> relief comes in the form of </span><span class=\"spark-nlp-display-entity-wrapper\" style=\"background-color: #a3496c\"><span class=\"spark-nlp-display-entity-name\">bicarbonate </span><span class=\"spark-nlp-display-entity-type\">Drug_Name</span></span><span class=\"spark-nlp-display-others\" style=\"background-color: white\"> of soda/ </span><span class=\"spark-nlp-display-entity-wrapper\" style=\"background-color: #a3496c\"><span class=\"spark-nlp-display-entity-name\">gaviscon </span><span class=\"spark-nlp-display-entity-type\">Drug_Name</span></span><span class=\"spark-nlp-display-others\" style=\"background-color: white\"> but it is recently getting worse and </span><span class=\"spark-nlp-display-entity-wrapper\" style=\"background-color: #ffacb7\"><span class=\"spark-nlp-display-entity-name\">she </span><span class=\"spark-nlp-display-entity-type\">Gender</span></span><span class=\"spark-nlp-display-others\" style=\"background-color: white\"> has had 2 episodes of </span><span class=\"spark-nlp-display-entity-wrapper\" style=\"background-color: #8B475D\"><span class=\"spark-nlp-display-entity-name\">dark </span><span class=\"spark-nlp-display-entity-type\">Modifier</span></span><span class=\"spark-nlp-display-others\" style=\"background-color: white\"> </span><span class=\"spark-nlp-display-entity-wrapper\" style=\"background-color: #CDB7B5\"><span class=\"spark-nlp-display-entity-name\">vomit </span><span class=\"spark-nlp-display-entity-type\">Symptom_Name</span></span><span class=\"spark-nlp-display-others\" style=\"background-color: white\">. </span><span class=\"spark-nlp-display-entity-wrapper\" style=\"background-color: #ffacb7\"><span class=\"spark-nlp-display-entity-name\">She </span><span class=\"spark-nlp-display-entity-type\">Gender</span></span><span class=\"spark-nlp-display-others\" style=\"background-color: white\"> does </span><span class=\"spark-nlp-display-entity-wrapper\" style=\"background-color: #2F1020\"><span class=\"spark-nlp-display-entity-name\">not </span><span class=\"spark-nlp-display-entity-type\">Negation</span></span><span class=\"spark-nlp-display-others\" style=\"background-color: white\"> </span><span class=\"spark-nlp-display-entity-wrapper\" style=\"background-color: #9C276B\"><span class=\"spark-nlp-display-entity-name\">smoke </span><span class=\"spark-nlp-display-entity-type\">Substance_Name</span></span><span class=\"spark-nlp-display-others\" style=\"background-color: white\"> and drinks only occasionally. </span><span class=\"spark-nlp-display-entity-wrapper\" style=\"background-color: #698B22\"><span class=\"spark-nlp-display-entity-name\">H Pylori faecal tests </span><span class=\"spark-nlp-display-entity-type\">Lab_Name</span></span><span class=\"spark-nlp-display-others\" style=\"background-color: white\"> have been requested and </span><span class=\"spark-nlp-display-entity-wrapper\" style=\"background-color: #a3496c\"><span class=\"spark-nlp-display-entity-name\">omeprazole </span><span class=\"spark-nlp-display-entity-type\">Drug_Name</span></span><span class=\"spark-nlp-display-others\" style=\"background-color: white\"> has been prescribed. </span><span class=\"spark-nlp-display-entity-wrapper\" style=\"background-color: #CD3700\"><span class=\"spark-nlp-display-entity-name\">No </span><span class=\"spark-nlp-display-entity-type\">Negated</span></span><span class=\"spark-nlp-display-others\" style=\"background-color: white\"> </span><span class=\"spark-nlp-display-entity-wrapper\" style=\"background-color: #CDB7B5\"><span class=\"spark-nlp-display-entity-name\">weight loss </span><span class=\"spark-nlp-display-entity-type\">Symptom_Name</span></span><span class=\"spark-nlp-display-others\" style=\"background-color: white\"> or </span><span class=\"spark-nlp-display-entity-wrapper\" style=\"background-color: #CDB7B5\"><span class=\"spark-nlp-display-entity-name\">dysphagia </span><span class=\"spark-nlp-display-entity-type\">Symptom_Name</span></span><span class=\"spark-nlp-display-others\" style=\"background-color: white\"> has been reported but due to </span><span class=\"spark-nlp-display-entity-wrapper\" style=\"background-color: #ffacb7\"><span class=\"spark-nlp-display-entity-name\">her </span><span class=\"spark-nlp-display-entity-type\">Gender</span></span><span class=\"spark-nlp-display-others\" style=\"background-color: white\"> age and symptoms, an OGD would provide good reassurance. Best regards, Dr Smith</span></div>"
            ],
            "text/plain": [
              "<IPython.core.display.HTML object>"
            ]
          },
          "metadata": {
            "tags": []
          }
        }
      ]
    },
    {
      "cell_type": "markdown",
      "metadata": {
        "id": "57e4865d-71ef-47f4-ac36-9a8646c1d93e"
      },
      "source": [
        "# Spell Checking"
      ],
      "id": "57e4865d-71ef-47f4-ac36-9a8646c1d93e"
    },
    {
      "cell_type": "code",
      "metadata": {
        "colab": {
          "base_uri": "https://localhost:8080/"
        },
        "id": "Ggmm2GOMN8QJ",
        "outputId": "ebff2c32-9383-49ac-be89-f8b9b405355e"
      },
      "source": [
        "documentAssembler = DocumentAssembler()\\\n",
        "    .setInputCol(\"text\")\\\n",
        "    .setOutputCol(\"document\")\n",
        "\n",
        "tokenizer = RecursiveTokenizer()\\\n",
        "    .setInputCols([\"document\"])\\\n",
        "    .setOutputCol(\"token\")\\\n",
        "    .setPrefixes([\"\\\"\", \"(\", \"[\", \"\\n\"])\\\n",
        "    .setSuffixes([\".\", \",\", \"?\", \")\",\"!\", \"'s\"])\n",
        "\n",
        "spellModel = ContextSpellCheckerModel\\\n",
        "    .pretrained('spellcheck_dl')\\\n",
        "    .setInputCols(\"token\")\\\n",
        "    .setOutputCol(\"checked\")\\\n",
        "    .setErrorThreshold(4.0)\\\n",
        "    .setTradeoff(6.0)\n",
        "\n",
        "clinical_spellModel = ContextSpellCheckerModel\\\n",
        "    .pretrained('spellcheck_clinical', 'en', 'clinical/models')\\\n",
        "    .setInputCols(\"token\")\\\n",
        "    .setOutputCol(\"checked_clinical\")"
      ],
      "id": "Ggmm2GOMN8QJ",
      "execution_count": null,
      "outputs": [
        {
          "output_type": "stream",
          "text": [
            "spellcheck_dl download started this may take some time.\n",
            "Approximate size to download 111.4 MB\n",
            "[OK!]\n",
            "spellcheck_clinical download started this may take some time.\n",
            "Approximate size to download 142.2 MB\n",
            "[OK!]\n"
          ],
          "name": "stdout"
        }
      ]
    },
    {
      "cell_type": "code",
      "metadata": {
        "colab": {
          "base_uri": "https://localhost:8080/"
        },
        "id": "mBocxSOPD4Sr",
        "outputId": "908a63ac-1006-4985-e348-b19a09d6d91d"
      },
      "source": [
        "spellModel.getErrorThreshold()"
      ],
      "id": "mBocxSOPD4Sr",
      "execution_count": null,
      "outputs": [
        {
          "output_type": "execute_result",
          "data": {
            "text/plain": [
              "4.0"
            ]
          },
          "metadata": {
            "tags": []
          },
          "execution_count": 10
        }
      ]
    },
    {
      "cell_type": "code",
      "metadata": {
        "id": "45ad0d5a-3cd0-4a31-80c7-94f623ca40e1"
      },
      "source": [
        "def spell_check(trade_off=18, threshold=4) :\n",
        "  \n",
        "  clinical_spellModel.setTradeoff(trade_off)\n",
        "  spellModel.setTradeoff(trade_off)\n",
        "\n",
        "  clinical_spellModel.setErrorThreshold(threshold)\n",
        "  spellModel.setErrorThreshold(threshold)\n",
        "\n",
        "  print(\"Trade off: \", clinical_spellModel.getTradeoff())\n",
        "  print(\"Threshold: \", clinical_spellModel.getErrorThreshold())\n",
        "\n",
        "  pipeline = Pipeline(\n",
        "      stages = [\n",
        "      documentAssembler,\n",
        "      tokenizer,\n",
        "      clinical_spellModel,\n",
        "      spellModel\n",
        "      ])\n",
        "\n",
        "  empty_ds = spark.createDataFrame([[\"\"]]).toDF(\"text\")\n",
        "\n",
        "  return LightPipeline(pipeline.fit(empty_ds))"
      ],
      "id": "45ad0d5a-3cd0-4a31-80c7-94f623ca40e1",
      "execution_count": null,
      "outputs": []
    },
    {
      "cell_type": "code",
      "metadata": {
        "id": "mDViiLHdBi5_"
      },
      "source": [
        "sample_new = lp.annotate(sample_text[0])"
      ],
      "id": "mDViiLHdBi5_",
      "execution_count": null,
      "outputs": []
    },
    {
      "cell_type": "code",
      "metadata": {
        "colab": {
          "base_uri": "https://localhost:8080/",
          "height": 88
        },
        "id": "rcwqReT8DeIW",
        "outputId": "4fa131ee-8234-4bc4-be26-f6b52545dff1"
      },
      "source": [
        "\" \".join(sample_new['checked']).replace(\" .\", \".\").replace(\" '\",\"'\")"
      ],
      "id": "rcwqReT8DeIW",
      "execution_count": null,
      "outputs": [
        {
          "output_type": "execute_result",
          "data": {
            "application/vnd.google.colaboratory.intrinsic+json": {
              "type": "string"
            },
            "text/plain": [
              "\"Find upper II endoscopy report on this patient from late 2016 and blood test results. I would be careful if he could be seen to exclude I malignancy. Adams has been feeling unwell for the past 2 weeks with abdominal pain , lethargy and concern from his family that he looks jaundiced. From his original referral , he has a long history of alcohol abuse , drinking more than 30 beers a week for more than 10 years. He has been alcohol free for the past several months now. In view of the drop in haemoglobin to 80 and his arranged U's & E's I would welcome an urgent opinion to exclude I malignancy. Thank you for your help. hours faithfully\""
            ]
          },
          "metadata": {
            "tags": []
          },
          "execution_count": 67
        }
      ]
    },
    {
      "cell_type": "code",
      "metadata": {
        "colab": {
          "base_uri": "https://localhost:8080/"
        },
        "id": "H-DShCfYhlJI",
        "outputId": "2bc8ac97-49e4-4218-d35c-98cb1f4cbb0d"
      },
      "source": [
        "for trade_off in list(range(24, 2, -3)) :\n",
        "  for threshold in list(range(8,1,-1)):\n",
        "\n",
        "    print(\"*\"*30)\n",
        "    lp = spell_check(trade_off, threshold)\n",
        "    token_list = []\n",
        "    for sample in sample_text:\n",
        "      sample_checked = lp.annotate(sample)\n",
        "      token_list.append([(a,b) for a, b in zip(sample_checked['token'], sample_checked['checked_clinical']) if a!=b ])\n",
        " \n",
        "    print(token_list)"
      ],
      "id": "H-DShCfYhlJI",
      "execution_count": null,
      "outputs": [
        {
          "output_type": "stream",
          "text": [
            "******************************\n",
            "Trade off:  24.0\n",
            "Threshold:  8.0\n",
            "[[('GI', 'I'), ('grateful', 'careful'), ('GI', 'I'), ('Adam', 'Adams'), ('deranged', 'arranged'), ('GI', 'I'), ('Yours', 'Your')], [('Dear', 'near'), ('Lily', 'oily'), ('mealtime', 'meantime'), (\"isn't\", \"don't\"), ('dispersible', 'dispersive'), ('grateful', 'careful'), ('Christie', 'Cristae')], [('grateful', 'careful'), ('non-urgent', 'concurrent'), ('keen', 'seen'), ('soda/', 'soda'), ('gaviscon', 'Gaviscon'), ('reassurance', 'assurance')]]\n",
            "******************************\n",
            "Trade off:  24.0\n",
            "Threshold:  7.0\n",
            "[[('GI', 'I'), ('grateful', 'careful'), ('GI', 'I'), ('Adam', 'Adams'), ('deranged', 'arranged'), ('GI', 'I'), ('Yours', 'Your')], [('Dear', 'near'), ('Lily', 'oily'), ('mealtime', 'meantime'), (\"isn't\", \"don't\"), ('dispersible', 'dispersive'), ('grateful', 'careful'), ('Christie', 'Cristae')], [('grateful', 'careful'), ('non-urgent', 'concurrent'), ('keen', 'seen'), ('soda/', 'soda'), ('gaviscon', 'Gaviscon'), ('reassurance', 'assurance')]]\n",
            "******************************\n",
            "Trade off:  24.0\n",
            "Threshold:  6.0\n",
            "[[('GI', 'I'), ('grateful', 'careful'), ('GI', 'I'), ('Adam', 'Adams'), ('deranged', 'arranged'), ('GI', 'I'), ('Yours', 'Your')], [('Dear', 'near'), ('Lily', 'oily'), ('mealtime', 'meantime'), (\"isn't\", \"don't\"), ('dispersible', 'dispersive'), ('grateful', 'careful'), ('Christie', 'Cristae')], [('grateful', 'careful'), ('non-urgent', 'concurrent'), ('keen', 'seen'), ('soda/', 'soda'), ('gaviscon', 'Gaviscon'), ('reassurance', 'assurance')]]\n",
            "******************************\n",
            "Trade off:  24.0\n",
            "Threshold:  5.0\n",
            "[[('GI', 'I'), ('grateful', 'careful'), ('GI', 'I'), ('Adam', 'Adami'), ('deranged', 'arranged'), ('GI', 'I'), ('Yours', 'Your')], [('Dear', 'near'), ('Lily', 'oily'), ('mealtime', 'meantime'), (\"isn't\", \"don't\"), ('dispersible', 'dispersive'), ('grateful', 'careful'), ('Christie', 'Cristae')], [('grateful', 'careful'), ('non-urgent', 'concurrent'), ('keen', 'seen'), ('soda/', 'soda'), ('gaviscon', 'Gaviscon'), ('reassurance', 'assurance')]]\n",
            "******************************\n",
            "Trade off:  24.0\n",
            "Threshold:  4.0\n",
            "[[('GI', 'I'), ('grateful', 'careful'), ('GI', 'I'), ('Adam', 'Adami'), ('deranged', 'arranged'), ('GI', 'I'), ('Yours', 'Your')], [('Dear', 'near'), ('Lily', 'oily'), ('mealtime', 'meantime'), (\"isn't\", \"don't\"), ('dispersible', 'dispersive'), ('grateful', 'careful'), ('Christie', 'Cristae')], [('grateful', 'careful'), ('non-urgent', 'concurrent'), ('keen', 'seen'), ('soda/', 'soda'), ('gaviscon', 'Gaviscon'), ('reassurance', 'assurance')]]\n",
            "******************************\n",
            "Trade off:  24.0\n",
            "Threshold:  3.0\n",
            "[[('GI', 'I'), ('grateful', 'careful'), ('GI', 'I'), ('Adam', 'Adami'), ('deranged', 'arranged'), ('GI', 'I'), ('Yours', 'Your')], [('Dear', 'near'), ('Lily', 'oily'), ('mealtime', 'meantime'), (\"isn't\", \"don't\"), ('dispersible', 'dispersive'), ('grateful', 'careful'), ('Christie', 'Cristae')], [('grateful', 'careful'), ('non-urgent', 'concurrent'), ('keen', 'seen'), ('soda/', 'soda'), ('gaviscon', 'Gaviscon'), ('reassurance', 'assurance')]]\n",
            "******************************\n",
            "Trade off:  24.0\n",
            "Threshold:  2.0\n",
            "[[('GI', 'I'), ('grateful', 'careful'), ('GI', 'I'), ('Adam', 'Adami'), ('deranged', 'arranged'), ('GI', 'I'), ('Yours', 'Your')], [('Dear', 'near'), ('Lily', 'oily'), ('mealtime', 'meantime'), (\"isn't\", \"don't\"), ('dispersible', 'dispersive'), ('grateful', 'careful'), ('Christie', 'Christian')], [('grateful', 'careful'), ('non-urgent', 'concurrent'), ('keen', 'seen'), ('soda/', 'soda'), ('gaviscon', 'Gaviscon'), ('reassurance', 'assurance')]]\n",
            "******************************\n",
            "Trade off:  21.0\n",
            "Threshold:  8.0\n",
            "[[('GI', 'I'), ('grateful', 'careful'), ('GI', 'I'), ('Adam', 'Adams'), ('deranged', 'arranged'), ('GI', 'I'), ('Yours', 'Your')], [('Dear', 'near'), ('Lily', 'oily'), ('mealtime', 'meantime'), (\"isn't\", \"don't\"), ('dispersible', 'dispersive'), ('grateful', 'careful'), ('Christie', 'Christian')], [('grateful', 'careful'), ('non-urgent', 'concurrent'), ('keen', 'seen'), ('soda/', 'soda'), ('gaviscon', 'Gaviscon'), ('reassurance', 'assurance'), ('Dr', 'or')]]\n",
            "******************************\n",
            "Trade off:  21.0\n",
            "Threshold:  7.0\n",
            "[[('GI', 'I'), ('grateful', 'careful'), ('GI', 'I'), ('Adam', 'Adams'), ('deranged', 'arranged'), ('GI', 'I'), ('Yours', 'Your')], [('Dear', 'near'), ('Lily', 'oily'), ('mealtime', 'meantime'), (\"isn't\", \"don't\"), ('dispersible', 'dispersive'), ('grateful', 'careful'), ('Christie', 'Christian')], [('grateful', 'careful'), ('non-urgent', 'concurrent'), ('keen', 'seen'), ('soda/', 'soda'), ('gaviscon', 'Gaviscon'), ('reassurance', 'assurance'), ('Dr', 'or')]]\n",
            "******************************\n",
            "Trade off:  21.0\n",
            "Threshold:  6.0\n",
            "[[('GI', 'I'), ('grateful', 'careful'), ('GI', 'I'), ('Adam', 'Adams'), ('deranged', 'arranged'), ('GI', 'I'), ('Yours', 'Your')], [('Dear', 'near'), ('Lily', 'oily'), ('mealtime', 'meantime'), (\"isn't\", \"don't\"), ('dispersible', 'dispersive'), ('grateful', 'careful'), ('Christie', 'Christian')], [('grateful', 'careful'), ('non-urgent', 'concurrent'), ('keen', 'seen'), ('soda/', 'soda'), ('gaviscon', 'Gaviscon'), ('reassurance', 'assurance'), ('Dr', 'or')]]\n",
            "******************************\n",
            "Trade off:  21.0\n",
            "Threshold:  5.0\n",
            "[[('GI', 'I'), ('grateful', 'careful'), ('GI', 'I'), ('Adam', 'Adami'), ('deranged', 'arranged'), ('GI', 'I'), ('Yours', 'Your')], [('Dear', 'near'), ('Lily', 'oily'), ('mealtime', 'meantime'), (\"isn't\", \"don't\"), ('dispersible', 'dispersive'), ('grateful', 'careful'), ('Christie', 'Christian')], [('grateful', 'careful'), ('non-urgent', 'concurrent'), ('keen', 'seen'), ('soda/', 'soda'), ('gaviscon', 'Gaviscon'), ('reassurance', 'assurance'), ('Dr', 'or')]]\n",
            "******************************\n",
            "Trade off:  21.0\n",
            "Threshold:  4.0\n",
            "[[('GI', 'I'), ('grateful', 'careful'), ('GI', 'I'), ('Adam', 'Adami'), ('deranged', 'arranged'), ('GI', 'I'), ('Yours', 'Your')], [('Dear', 'near'), ('Lily', 'oily'), ('mealtime', 'meantime'), (\"isn't\", \"don't\"), ('dispersible', 'dispersive'), ('grateful', 'careful'), ('Christie', 'Christian')], [('grateful', 'careful'), ('non-urgent', 'concurrent'), ('keen', 'seen'), ('soda/', 'soda'), ('gaviscon', 'Gaviscon'), ('reassurance', 'assurance'), ('Dr', 'or')]]\n",
            "******************************\n",
            "Trade off:  21.0\n",
            "Threshold:  3.0\n",
            "[[('GI', 'I'), ('grateful', 'careful'), ('GI', 'I'), ('Adam', 'Adami'), ('deranged', 'arranged'), ('GI', 'I'), ('Yours', 'Your')], [('Dear', 'near'), ('Lily', 'oily'), ('mealtime', 'meantime'), (\"isn't\", \"don't\"), ('dispersible', 'dispersive'), ('grateful', 'careful'), ('Christie', 'Christian')], [('grateful', 'careful'), ('non-urgent', 'concurrent'), ('keen', 'seen'), ('soda/', 'soda'), ('gaviscon', 'Gaviscon'), ('reassurance', 'assurance'), ('Dr', 'or')]]\n",
            "******************************\n",
            "Trade off:  21.0\n",
            "Threshold:  2.0\n",
            "[[('GI', 'I'), ('grateful', 'careful'), ('GI', 'I'), ('Adam', 'Adami'), ('deranged', 'arranged'), ('GI', 'I'), ('Yours', 'Your')], [('Dear', 'near'), ('Lily', 'oily'), ('mealtime', 'meantime'), (\"isn't\", \"don't\"), ('dispersible', 'dispersive'), ('grateful', 'careful'), ('Christie', 'Christian')], [('grateful', 'careful'), ('non-urgent', 'concurrent'), ('keen', 'seen'), ('soda/', 'soda'), ('gaviscon', 'Gaviscon'), ('reassurance', 'assurance'), ('Dr', 'or')]]\n",
            "******************************\n",
            "Trade off:  18.0\n",
            "Threshold:  8.0\n",
            "[[('GI', 'I'), ('grateful', 'careful'), ('GI', 'I'), ('Adam', 'Adams'), ('deranged', 'arranged'), ('GI', 'I'), ('Yours', 'Your')], [('Dear', 'near'), ('Lily', 'oily'), ('mealtime', 'meantime'), (\"isn't\", \"don't\"), ('dispersible', 'dispersive'), ('grateful', 'careful'), ('M', '.'), ('Christie', 'Christian')], [('grateful', 'careful'), ('non-urgent', 'concurrent'), ('keen', 'seen'), ('soda/', 'soda'), ('gaviscon', 'Gaviscon'), ('reassurance', 'assurance'), ('Dr', 'or')]]\n",
            "******************************\n",
            "Trade off:  18.0\n",
            "Threshold:  7.0\n",
            "[[('GI', 'I'), ('grateful', 'careful'), ('GI', 'I'), ('Adam', 'Adams'), ('deranged', 'arranged'), ('GI', 'I'), ('Yours', 'Your')], [('Dear', 'near'), ('Lily', 'oily'), ('mealtime', 'meantime'), (\"isn't\", \"don't\"), ('dispersible', 'dispersive'), ('grateful', 'careful'), ('M', '.'), ('Christie', 'Christian')], [('grateful', 'careful'), ('non-urgent', 'concurrent'), ('keen', 'seen'), ('soda/', 'soda'), ('gaviscon', 'Gaviscon'), ('reassurance', 'assurance'), ('Dr', 'or')]]\n",
            "******************************\n",
            "Trade off:  18.0\n",
            "Threshold:  6.0\n",
            "[[('GI', 'I'), ('grateful', 'careful'), ('GI', 'I'), ('Adam', 'Adams'), ('deranged', 'arranged'), ('GI', 'I'), ('Yours', 'Your')], [('Dear', 'near'), ('Lily', 'oily'), ('mealtime', 'meantime'), (\"isn't\", \"don't\"), ('dispersible', 'dispersive'), ('grateful', 'careful'), ('M', '.'), ('Christie', 'Christian')], [('grateful', 'careful'), ('non-urgent', 'concurrent'), ('keen', 'seen'), ('soda/', 'soda'), ('gaviscon', 'Gaviscon'), ('reassurance', 'assurance'), ('Dr', 'or')]]\n",
            "******************************\n",
            "Trade off:  18.0\n",
            "Threshold:  5.0\n",
            "[[('GI', 'I'), ('grateful', 'careful'), ('GI', 'I'), ('Adam', 'Adami'), ('deranged', 'arranged'), ('GI', 'I'), ('Yours', 'Your')], [('Dear', 'near'), ('Lily', 'oily'), ('mealtime', 'meantime'), (\"isn't\", \"don't\"), ('dispersible', 'dispersive'), ('grateful', 'careful'), ('M', '.'), ('Christie', 'Christian')], [('grateful', 'careful'), ('non-urgent', 'concurrent'), ('keen', 'seen'), ('soda/', 'soda'), ('gaviscon', 'Gaviscon'), ('reassurance', 'assurance'), ('Dr', 'or')]]\n",
            "******************************\n",
            "Trade off:  18.0\n",
            "Threshold:  4.0\n",
            "[[('GI', 'I'), ('grateful', 'careful'), ('GI', 'I'), ('Adam', 'Adami'), ('deranged', 'arranged'), ('GI', 'I'), ('Yours', 'Your')], [('Dear', 'near'), ('Lily', 'oily'), ('mealtime', 'meantime'), (\"isn't\", \"don't\"), ('dispersible', 'dispersive'), ('grateful', 'careful'), ('M', '.'), ('Christie', 'Christian')], [('grateful', 'careful'), ('non-urgent', 'concurrent'), ('keen', 'seen'), ('soda/', 'soda'), ('gaviscon', 'Gaviscon'), ('reassurance', 'assurance'), ('Dr', 'or')]]\n",
            "******************************\n",
            "Trade off:  18.0\n",
            "Threshold:  3.0\n",
            "[[('GI', 'I'), ('grateful', 'careful'), ('GI', 'I'), ('Adam', 'Adami'), ('deranged', 'arranged'), ('GI', 'I'), ('Yours', 'Your')], [('Dear', 'near'), ('Lily', 'oily'), ('mealtime', 'meantime'), (\"isn't\", \"don't\"), ('dispersible', 'dispersive'), ('grateful', 'careful'), ('M', '.'), ('Christie', 'Christian')], [('grateful', 'careful'), ('non-urgent', 'concurrent'), ('keen', 'seen'), ('soda/', 'soda'), ('gaviscon', 'Gaviscon'), ('reassurance', 'assurance'), ('Dr', 'or')]]\n",
            "******************************\n",
            "Trade off:  18.0\n",
            "Threshold:  2.0\n",
            "[[('GI', 'I'), ('grateful', 'careful'), ('GI', 'I'), ('Adam', 'Adami'), ('deranged', 'arranged'), ('GI', 'I'), ('Yours', 'Your')], [('Dear', 'near'), ('Lily', 'oily'), ('mealtime', 'meantime'), (\"isn't\", \"don't\"), ('dispersible', 'dispersive'), ('grateful', 'careful'), ('M', '.'), ('Christie', 'Christian')], [('grateful', 'careful'), ('non-urgent', 'concurrent'), ('keen', 'seen'), ('soda/', 'soda'), ('gaviscon', 'Gaviscon'), ('reassurance', 'assurance'), ('Dr', 'or')]]\n",
            "******************************\n",
            "Trade off:  15.0\n",
            "Threshold:  8.0\n",
            "[[('GI', 'I'), ('grateful', 'careful'), ('GI', 'I'), ('Adam', 'Adams'), ('deranged', 'ranged'), ('U', ','), ('GI', 'I'), ('Yours', 'Your')], [('Dear', 'near'), ('Lily', 'only'), ('mealtime', 'meantime'), (\"isn't\", \"don't\"), ('dispersible', 'dispersive'), ('grateful', 'careful'), ('M', '.'), ('Christie', 'Christian')], [('grateful', 'careful'), ('non-urgent', 'concurrent'), ('keen', 'seen'), ('soda/', 'soda'), ('gaviscon', 'Gaviscon'), ('reassurance', 'assurance'), ('Dr', 'or')]]\n",
            "******************************\n",
            "Trade off:  15.0\n",
            "Threshold:  7.0\n",
            "[[('GI', 'I'), ('grateful', 'careful'), ('GI', 'I'), ('Adam', 'Adams'), ('deranged', 'arranged'), ('GI', 'I'), ('Yours', 'Your')], [('Dear', 'near'), ('Lily', 'only'), ('mealtime', 'meantime'), (\"isn't\", \"don't\"), ('dispersible', 'dispersive'), ('grateful', 'careful'), ('M', '.'), ('Christie', 'Christian')], [('grateful', 'careful'), ('non-urgent', 'concurrent'), ('keen', 'seen'), ('soda/', 'soda'), ('gaviscon', 'Gaviscon'), ('reassurance', 'assurance'), ('Dr', 'or')]]\n",
            "******************************\n",
            "Trade off:  15.0\n",
            "Threshold:  6.0\n",
            "[[('GI', 'I'), ('grateful', 'careful'), ('GI', 'I'), ('Adam', 'Adams'), ('deranged', 'arranged'), ('GI', 'I'), ('Yours', 'Your')], [('Dear', 'near'), ('Lily', 'only'), ('mealtime', 'meantime'), (\"isn't\", \"don't\"), ('dispersible', 'dispersive'), ('grateful', 'careful'), ('M', '.'), ('Christie', 'Christian')], [('grateful', 'careful'), ('non-urgent', 'concurrent'), ('keen', 'seen'), ('soda/', 'soda'), ('gaviscon', 'Gaviscon'), ('reassurance', 'assurance'), ('Dr', 'or')]]\n",
            "******************************\n",
            "Trade off:  15.0\n",
            "Threshold:  5.0\n",
            "[[('GI', 'I'), ('grateful', 'careful'), ('GI', 'I'), ('Adam', 'Adami'), ('deranged', 'arranged'), ('GI', 'I'), ('Yours', 'Your')], [('Dear', 'near'), ('Lily', 'only'), ('mealtime', 'meantime'), (\"isn't\", \"don't\"), ('dispersible', 'dispersive'), ('grateful', 'careful'), ('M', '.'), ('Christie', 'Christian')], [('grateful', 'careful'), ('non-urgent', 'concurrent'), ('keen', 'seen'), ('soda/', 'soda'), ('gaviscon', 'Gaviscon'), ('reassurance', 'assurance'), ('Dr', 'or')]]\n",
            "******************************\n",
            "Trade off:  15.0\n",
            "Threshold:  4.0\n",
            "[[('GI', 'I'), ('grateful', 'careful'), ('GI', 'I'), ('Adam', 'Adami'), ('deranged', 'arranged'), ('GI', 'I'), ('Yours', 'Your')], [('Dear', 'near'), ('Lily', 'only'), ('mealtime', 'meantime'), (\"isn't\", \"don't\"), ('dispersible', 'dispersive'), ('grateful', 'careful'), ('M', '.'), ('Christie', 'Christian')], [('grateful', 'careful'), ('non-urgent', 'concurrent'), ('keen', 'seen'), ('soda/', 'soda'), ('gaviscon', 'Gaviscon'), ('reassurance', 'assurance'), ('Dr', 'or')]]\n",
            "******************************\n",
            "Trade off:  15.0\n",
            "Threshold:  3.0\n",
            "[[('GI', 'I'), ('grateful', 'careful'), ('GI', 'I'), ('Adam', 'Adami'), ('deranged', 'arranged'), ('GI', 'I'), ('Yours', 'Your')], [('Dear', 'near'), ('Lily', 'only'), ('mealtime', 'meantime'), (\"isn't\", \"don't\"), ('dispersible', 'dispersive'), ('grateful', 'careful'), ('M', '.'), ('Christie', 'Christian')], [('grateful', 'careful'), ('non-urgent', 'concurrent'), ('keen', 'seen'), ('soda/', 'soda'), ('gaviscon', 'Gaviscon'), ('reassurance', 'assurance'), ('Dr', 'or')]]\n",
            "******************************\n",
            "Trade off:  15.0\n",
            "Threshold:  2.0\n",
            "[[('GI', 'I'), ('grateful', 'careful'), ('GI', 'I'), ('Adam', 'Adami'), ('deranged', 'arranged'), ('GI', 'I'), ('Yours', 'Your')], [('Dear', 'near'), ('Lily', 'only'), ('mealtime', 'meantime'), (\"isn't\", \"don't\"), ('dispersible', 'dispersive'), ('grateful', 'careful'), ('M', '.'), ('Christie', 'Christian')], [('grateful', 'careful'), ('non-urgent', 'concurrent'), ('keen', 'seen'), ('soda/', 'soda'), ('gaviscon', 'Gaviscon'), ('reassurance', 'assurance'), ('Dr', 'or')]]\n",
            "******************************\n",
            "Trade off:  12.0\n",
            "Threshold:  8.0\n",
            "[[('GI', 'I'), ('grateful', 'careful'), ('GI', 'I'), ('Adam', 'Adams'), ('deranged', 'ranged'), ('U', ','), ('GI', 'I'), ('Thank', 'Than'), ('Yours', 'Your')], [('Dear', 'near'), ('Lily', 'only'), ('mealtime', 'meantime'), (\"isn't\", \"don't\"), ('dispersible', 'dispersive'), ('grateful', 'careful'), ('M', '.'), ('Christie', 'Christian')], [('grateful', 'careful'), ('non-urgent', 'concurrent'), ('keen', 'seen'), ('soda/', 'soda'), ('gaviscon', 'Gaviscon'), ('reassurance', 'assurance'), ('Dr', 'or')]]\n",
            "******************************\n",
            "Trade off:  12.0\n",
            "Threshold:  7.0\n",
            "[[('GI', 'I'), ('grateful', 'careful'), ('GI', 'I'), ('Adam', 'Adams'), ('deranged', 'ranged'), ('U', ','), ('GI', 'I'), ('Thank', 'Than'), ('Yours', 'Your')], [('Dear', 'near'), ('Lily', 'only'), ('mealtime', 'meantime'), (\"isn't\", \"don't\"), ('dispersible', 'dispersive'), ('grateful', 'careful'), ('M', '.'), ('Christie', 'Christian')], [('grateful', 'careful'), ('non-urgent', 'concurrent'), ('keen', 'seen'), ('soda/', 'soda'), ('gaviscon', 'Gaviscon'), ('reassurance', 'assurance'), ('Dr', 'or')]]\n",
            "******************************\n",
            "Trade off:  12.0\n",
            "Threshold:  6.0\n",
            "[[('GI', 'I'), ('grateful', 'careful'), ('GI', 'I'), ('Adam', 'Adams'), ('deranged', 'ranged'), ('U', ','), ('GI', 'I'), ('Thank', 'Than'), ('Yours', 'Your')], [('Dear', 'near'), ('Lily', 'only'), ('mealtime', 'meantime'), (\"isn't\", \"don't\"), ('solids', 'solid'), ('dispersible', 'dispersive'), ('grateful', 'careful'), ('M', '.'), ('Christie', 'Christian')], [('grateful', 'careful'), ('non-urgent', 'concurrent'), ('keen', 'seen'), ('soda/', 'soda'), ('gaviscon', 'Gaviscon'), ('reassurance', 'assurance'), ('Dr', 'or')]]\n",
            "******************************\n",
            "Trade off:  12.0\n",
            "Threshold:  5.0\n",
            "[[('GI', 'I'), ('grateful', 'careful'), ('GI', 'I'), ('Adam', 'Adami'), ('deranged', 'ranged'), ('U', ','), ('GI', 'I'), ('Yours', 'Your')], [('Dear', 'near'), ('Lily', 'only'), ('mealtime', 'meantime'), (\"isn't\", \"don't\"), ('solids', 'solid'), ('dispersible', 'dispersive'), ('grateful', 'careful'), ('M', '.'), ('Christie', 'Christian')], [('grateful', 'careful'), ('non-urgent', 'concurrent'), ('keen', 'seen'), ('soda/', 'soda'), ('gaviscon', 'Gaviscon'), ('reassurance', 'assurance'), ('Dr', 'or')]]\n",
            "******************************\n",
            "Trade off:  12.0\n",
            "Threshold:  4.0\n",
            "[[('GI', 'I'), ('grateful', 'careful'), ('GI', 'I'), ('Adam', 'Adami'), ('deranged', 'ranged'), ('U', ','), ('GI', 'I'), ('Yours', 'Your')], [('Dear', 'near'), ('Lily', 'only'), ('mealtime', 'meantime'), (\"isn't\", \"don't\"), ('solids', 'solid'), ('dispersible', 'dispersive'), ('grateful', 'careful'), ('M', '.'), ('Christie', 'Christian')], [('grateful', 'careful'), ('non-urgent', 'concurrent'), ('keen', 'seen'), ('soda/', 'soda'), ('gaviscon', 'Gaviscon'), ('reassurance', 'assurance'), ('Dr', 'or')]]\n",
            "******************************\n",
            "Trade off:  12.0\n",
            "Threshold:  3.0\n",
            "[[('GI', 'I'), ('grateful', 'careful'), ('GI', 'I'), ('Adam', 'Adami'), ('deranged', 'arranged'), ('GI', 'I'), ('Yours', 'Your')], [('Dear', 'near'), ('Lily', 'only'), ('mealtime', 'meantime'), (\"isn't\", \"don't\"), ('solids', 'solid'), ('dispersible', 'dispersive'), ('grateful', 'careful'), ('M', '.'), ('Christie', 'Christian')], [('grateful', 'careful'), ('non-urgent', 'concurrent'), ('keen', 'seen'), ('soda/', 'soda'), ('gaviscon', 'Gaviscon'), ('reassurance', 'assurance'), ('Dr', 'or')]]\n",
            "******************************\n",
            "Trade off:  12.0\n",
            "Threshold:  2.0\n",
            "[[('GI', 'I'), ('grateful', 'careful'), ('GI', 'I'), ('Adam', 'Adami'), ('deranged', 'arranged'), ('GI', 'I'), ('Yours', 'Your')], [('Dear', 'near'), ('Lily', 'only'), ('mealtime', 'meantime'), (\"isn't\", \"don't\"), ('solids', 'solid'), ('dispersible', 'dispersive'), ('grateful', 'careful'), ('M', '.'), ('Christie', 'Christian')], [('grateful', 'careful'), ('non-urgent', 'concurrent'), ('keen', 'seen'), ('soda/', 'soda'), ('gaviscon', 'Gaviscon'), ('reassurance', 'assurance'), ('Dr', 'or')]]\n",
            "******************************\n",
            "Trade off:  9.0\n",
            "Threshold:  8.0\n",
            "[[('GI', 'I'), ('grateful', 'careful'), ('GI', 'I'), ('Adam', 'Adams'), ('unwell', 'well'), ('deranged', 'ranged'), ('U', ','), ('GI', 'I'), ('Thank', 'Than'), ('Yours', 'Your')], [('Dear', 'near'), ('Lily', 'only'), ('mealtime', 'meantime'), (\"isn't\", \"don't\"), ('solids', 'solid'), ('HP', 'UP'), ('stool', 'tool'), ('dispersible', 'dispersive'), ('grateful', 'careful'), ('M', '.'), ('Christie', 'Christian')], [('grateful', 'careful'), ('non-urgent', 'concurrent'), ('keen', 'seen'), ('soda/', 'soda'), ('gaviscon', 'Gaviscon'), ('reassurance', 'assurance'), ('Dr', 'or')]]\n",
            "******************************\n",
            "Trade off:  9.0\n",
            "Threshold:  7.0\n",
            "[[('GI', 'I'), ('grateful', 'careful'), ('GI', 'I'), ('Adam', 'Adams'), ('unwell', 'well'), ('deranged', 'ranged'), ('U', ','), (\"'s\", 'as'), ('GI', 'I'), ('Thank', 'Than'), ('Yours', 'Your')], [('Dear', 'near'), ('Lily', 'only'), ('mealtime', 'meantime'), (\"isn't\", \"don't\"), ('solids', 'solid'), ('HP', 'UP'), ('stool', 'tool'), ('dispersible', 'dispersive'), ('grateful', 'careful'), ('M', '.'), ('Christie', 'Christian')], [('grateful', 'careful'), ('non-urgent', 'concurrent'), ('keen', 'seen'), ('soda/', 'soda'), ('gaviscon', 'Gaviscon'), ('reassurance', 'assurance'), ('Dr', 'or')]]\n",
            "******************************\n",
            "Trade off:  9.0\n",
            "Threshold:  6.0\n",
            "[[('GI', 'I'), ('grateful', 'careful'), ('GI', 'I'), ('Adam', 'Adams'), ('unwell', 'well'), ('deranged', 'ranged'), ('U', ','), (\"'s\", 'as'), ('GI', 'I'), ('Thank', 'Than'), ('Yours', 'Your')], [('Dear', 'near'), ('Lily', 'only'), ('mealtime', 'meantime'), (\"isn't\", \"don't\"), ('solids', 'solid'), ('HP', 'UP'), ('stool', 'tool'), ('dispersible', 'dispersive'), ('grateful', 'careful'), ('M', '.'), ('Christie', 'Christian')], [('grateful', 'careful'), ('non-urgent', 'concurrent'), ('keen', 'seen'), ('soda/', 'soda'), ('gaviscon', 'Gaviscon'), ('reassurance', 'assurance'), ('Dr', 'or')]]\n",
            "******************************\n",
            "Trade off:  9.0\n",
            "Threshold:  5.0\n",
            "[[('GI', 'I'), ('grateful', 'careful'), ('GI', 'I'), ('Adam', 'day'), ('unwell', 'well'), ('deranged', 'ranged'), ('U', ','), (\"'s\", 'as'), ('GI', 'I'), ('Yours', 'Your')], [('Dear', 'near'), ('Lily', 'only'), ('mealtime', 'meantime'), (\"isn't\", \"don't\"), ('solids', 'solid'), ('HP', 'UP'), ('stool', 'tool'), ('dispersible', 'dispersive'), ('grateful', 'careful'), ('M', '.'), ('Christie', 'Christian')], [('grateful', 'careful'), ('non-urgent', 'concurrent'), ('keen', 'seen'), ('soda/', 'soda'), ('gaviscon', 'Gaviscon'), ('reassurance', 'assurance'), ('Dr', 'or')]]\n",
            "******************************\n",
            "Trade off:  9.0\n",
            "Threshold:  4.0\n",
            "[[('GI', 'I'), ('grateful', 'careful'), ('GI', 'I'), ('Adam', 'day'), ('unwell', 'well'), ('deranged', 'ranged'), ('U', ','), (\"'s\", 'as'), ('GI', 'I'), ('Yours', 'Your')], [('Dear', 'near'), ('Lily', 'only'), ('mealtime', 'meantime'), (\"isn't\", \"don't\"), ('solids', 'solid'), ('HP', 'UP'), ('stool', 'tool'), ('dispersible', 'dispersive'), ('grateful', 'careful'), ('M', '.'), ('Christie', 'Christian')], [('grateful', 'careful'), ('non-urgent', 'concurrent'), ('keen', 'seen'), ('soda/', 'soda'), ('gaviscon', 'Gaviscon'), ('reassurance', 'assurance'), ('Dr', 'or')]]\n",
            "******************************\n",
            "Trade off:  9.0\n",
            "Threshold:  3.0\n",
            "[[('GI', 'I'), ('grateful', 'careful'), ('GI', 'I'), ('Adam', 'day'), ('deranged', 'arranged'), ('GI', 'I'), ('Yours', 'Your')], [('Dear', 'near'), ('Lily', 'only'), ('mealtime', 'meantime'), (\"isn't\", \"don't\"), ('solids', 'solid'), ('HP', 'HE'), ('dispersible', 'dispersive'), ('grateful', 'careful'), ('M', '.'), ('Christie', 'Christian')], [('grateful', 'careful'), ('non-urgent', 'concurrent'), ('keen', 'seen'), ('soda/', 'soda'), ('gaviscon', 'Gaviscon'), ('reassurance', 'assurance'), ('Dr', 'or')]]\n",
            "******************************\n",
            "Trade off:  9.0\n",
            "Threshold:  2.0\n",
            "[[('GI', 'I'), ('grateful', 'careful'), ('GI', 'I'), ('Adam', 'day'), ('deranged', 'arranged'), ('GI', 'I'), ('Yours', 'Your')], [('Dear', 'near'), ('Lily', 'only'), ('mealtime', 'meantime'), (\"isn't\", \"don't\"), ('solids', 'solid'), ('HP', 'HE'), ('dispersible', 'dispersive'), ('grateful', 'careful'), ('M', '.'), ('Christie', 'Christian')], [('grateful', 'careful'), ('non-urgent', 'concurrent'), ('keen', 'seen'), ('soda/', 'soda'), ('gaviscon', 'Gaviscon'), ('reassurance', 'assurance'), ('Dr', 'or')]]\n",
            "******************************\n",
            "Trade off:  6.0\n",
            "Threshold:  8.0\n",
            "[[('GI', 'I'), ('grateful', 'careful'), ('GI', 'I'), ('Adam', 'day'), ('unwell', 'well'), ('2', ','), ('He', 'The'), ('deranged', 'ranged'), ('U', ','), ('GI', 'I'), ('Thank', 'Than'), ('Yours', 'Your')], [('Dear', 'near'), ('Lily', 'only'), ('She', 'the'), ('mealtime', 'meantime'), (\"isn't\", \"don't\"), ('solids', 'solid'), ('hard', 'had'), ('swallow', 'shallow'), ('a', '('), ('HP', 'P'), ('stool', 'tool'), ('so', 'to'), ('dispersible', 'dispersive'), ('There', 'where'), ('day', 'da'), ('grateful', 'careful'), ('M', '.'), ('Christie', 'Christian')], [('grateful', 'careful'), ('non-urgent', 'concurrent'), ('keen', 'seen'), ('soda/', 'soda'), ('gaviscon', 'Gaviscon'), ('She', 'the'), ('H', ','), ('OGD', 'OCD'), ('reassurance', 'assurance'), ('Dr', 'or')]]\n",
            "******************************\n",
            "Trade off:  6.0\n",
            "Threshold:  7.0\n",
            "[[('GI', 'I'), ('I', ','), ('grateful', 'careful'), ('GI', 'I'), ('Adam', 'day'), ('unwell', 'well'), ('2', ','), ('He', 'The'), ('deranged', 'ranged'), ('U', ','), (\"'s\", 'as'), ('GI', 'I'), ('Thank', 'Than'), ('Yours', 'Your')], [('Dear', 'near'), ('Lily', 'only'), ('mealtime', 'meantime'), (\"isn't\", \"don't\"), ('solids', 'solid'), ('hard', 'had'), ('swallow', 'shallow'), ('lab', 'la'), ('HP', 'UP'), ('stool', 'tool'), ('dispersible', 'dispersive'), ('day', 'da'), ('grateful', 'careful'), ('M', '.'), ('Christie', 'Christian')], [('grateful', 'careful'), ('non-urgent', 'concurrent'), ('keen', 'seen'), ('soda/', 'soda'), ('gaviscon', 'Gaviscon'), ('She', 'the'), ('H', ','), ('OGD', 'OCD'), ('reassurance', 'assurance'), ('Dr', 'or')]]\n",
            "******************************\n",
            "Trade off:  6.0\n",
            "Threshold:  6.0\n",
            "[[('GI', 'I'), ('I', ','), ('grateful', 'careful'), ('GI', 'I'), ('Adam', 'day'), ('unwell', 'well'), ('2', ','), ('He', 'The'), ('deranged', 'ranged'), ('U', ','), (\"'s\", 'as'), ('GI', 'I'), ('Thank', 'Than'), ('Yours', 'Your')], [('Dear', 'near'), ('Lily', 'only'), ('mealtime', 'meantime'), (\"isn't\", \"don't\"), ('solids', 'solid'), ('hard', 'had'), ('swallow', 'shallow'), ('lab', 'la'), ('HP', 'UP'), ('stool', 'tool'), ('dispersible', 'dispersive'), ('day', 'da'), ('grateful', 'careful'), ('M', '.'), ('Christie', 'Christian')], [('grateful', 'careful'), ('non-urgent', 'concurrent'), ('keen', 'seen'), ('soda/', 'soda'), ('gaviscon', 'Gaviscon'), ('She', 'the'), ('H', ','), ('OGD', 'OCD'), ('reassurance', 'assurance'), ('Dr', 'or')]]\n",
            "******************************\n",
            "Trade off:  6.0\n",
            "Threshold:  5.0\n",
            "[[('GI', 'I'), ('I', ','), ('grateful', 'careful'), ('GI', 'I'), ('Adam', 'day'), ('unwell', 'well'), ('He', 'The'), ('deranged', 'ranged'), ('U', ','), (\"'s\", 'as'), ('GI', 'I'), ('Yours', 'Your')], [('Dear', 'near'), ('Lily', 'only'), ('mealtime', 'meantime'), ('She', 'the'), (\"isn't\", \"don't\"), ('solids', 'solid'), ('hard', 'had'), ('swallow', 'shallow'), ('lab', 'la'), ('HP', 'UP'), ('stool', 'tool'), ('dispersible', 'dispersive'), ('day', 'da'), ('grateful', 'careful'), ('M', '.'), ('Christie', 'Christian')], [('grateful', 'careful'), ('non-urgent', 'concurrent'), ('keen', 'seen'), ('soda/', 'soda'), ('gaviscon', 'Gaviscon'), ('H', ','), ('an', 'and'), ('reassurance', 'assurance'), ('Dr', 'or')]]\n",
            "******************************\n",
            "Trade off:  6.0\n",
            "Threshold:  4.0\n",
            "[[('GI', 'I'), ('grateful', 'careful'), ('GI', 'I'), ('Adam', 'day'), ('unwell', 'well'), ('deranged', 'ranged'), ('U', ','), (\"'s\", 'as'), ('GI', 'I'), ('Yours', 'Your')], [('Dear', 'near'), ('Lily', 'only'), ('mealtime', 'meantime'), (\"isn't\", \"don't\"), ('solids', 'solid'), ('hard', 'had'), ('swallow', 'shallow'), ('lab', 'la'), ('HP', 'UP'), ('stool', 'tool'), ('dispersible', 'dispersive'), ('day', 'da'), ('grateful', 'careful'), ('M', '.'), ('Christie', 'Christian')], [('grateful', 'careful'), ('non-urgent', 'concurrent'), ('keen', 'seen'), ('soda/', 'soda'), ('gaviscon', 'Gaviscon'), ('H', ','), ('an', 'and'), ('reassurance', 'assurance'), ('Dr', 'or')]]\n",
            "******************************\n",
            "Trade off:  6.0\n",
            "Threshold:  3.0\n",
            "[[('GI', 'I'), ('grateful', 'careful'), ('GI', 'I'), ('Adam', 'day'), ('unwell', 'well'), ('deranged', 'arranged'), ('GI', 'I'), ('Yours', 'Your')], [('Dear', 'near'), ('Lily', 'only'), ('mealtime', 'meantime'), (\"isn't\", \"don't\"), ('solids', 'solid'), ('swallow', 'shallow'), ('lab', 'la'), ('HP', 'UP'), ('stool', 'tool'), ('dispersible', 'dispersive'), ('day', 'da'), ('grateful', 'careful'), ('M', '.'), ('Christie', 'Christian')], [('grateful', 'careful'), ('non-urgent', 'concurrent'), ('keen', 'seen'), ('soda/', 'soda'), ('gaviscon', 'Gaviscon'), ('H', ','), ('an', 'and'), ('reassurance', 'assurance'), ('Dr', 'or')]]\n",
            "******************************\n",
            "Trade off:  6.0\n",
            "Threshold:  2.0\n",
            "[[('GI', 'I'), ('grateful', 'careful'), ('GI', 'I'), ('Adam', 'day'), ('unwell', 'well'), ('deranged', 'arranged'), ('GI', 'I'), ('Yours', 'Your')], [('Dear', 'near'), ('Lily', 'only'), ('mealtime', 'meantime'), (\"isn't\", \"don't\"), ('solids', 'solid'), ('swallow', 'shallow'), ('lab', 'la'), ('HP', 'UP'), ('stool', 'tool'), ('dispersible', 'dispersive'), ('day', 'da'), ('grateful', 'careful'), ('M', '.'), ('Christie', 'Christian')], [('grateful', 'careful'), ('non-urgent', 'concurrent'), ('keen', 'seen'), ('soda/', 'soda'), ('gaviscon', 'Gaviscon'), ('H', ','), ('an', 'and'), ('reassurance', 'assurance'), ('Dr', 'or')]]\n",
            "******************************\n",
            "Trade off:  3.0\n",
            "Threshold:  8.0\n",
            "[[('Find', 'bind'), ('GI', 'I'), ('2016', '2011'), ('I', '.'), ('grateful', 'careful'), ('exclude', 'include'), ('GI', 'I'), ('Adam', 'day'), ('unwell', 'well'), ('2', ','), ('looks', 'locus'), ('alcohol', 'alcoholic'), ('beers', 'bears'), ('He', 'The'), ('been', 'bean'), ('deranged', 'ranged'), ('U', ','), ('welcome', 'become'), ('opinion', 'option'), ('exclude', 'include'), ('GI', 'I'), ('Thank', 'Than'), ('your', 'our'), ('Yours', 'Your')], [('Dear', 'near'), ('Doctor', 'Doctar'), ('Thanks', 'Than'), ('Lily', 'only'), ('She', 'the'), ('post', 'most'), ('mealtime', 'real-time'), ('then', 'the'), ('She', 'the'), ('been', 'bean'), (\"isn't\", \"don't\"), ('any', 'and'), ('solids', 'solid'), ('She', 'the'), ('swallow', 'shallow'), ('hard', 'had'), ('swallow', 'shallow'), ('now', 'low'), ('a', '('), ('HP', 'P'), ('stool', 'tool'), ('fine', 'five'), ('so', 'to'), ('dispersible', 'dispersive'), ('There', 'where'), ('day', 'da'), ('kg', 'mg'), ('I', ','), ('grateful', 'careful'), ('as', 'is'), ('soon', 'on'), ('M', '.'), ('Christie', 'Colistin'), ('GP', 'UP')], [('grateful', 'careful'), ('if', 'of'), ('woman', 'women'), ('non-urgent', 'concurrent'), ('OGD', 'RGD'), ('She', 'the'), ('suffering', 'offering'), ('She', 'the'), ('keen', 'seen'), ('get', 'set'), ('it', 'in'), ('soda/', 'modal'), ('gaviscon', 'Gaviscon'), ('vomit', 'visit'), ('She', 'the'), ('H', ','), ('Pylori', 'Pylorid'), ('omeprazole', 'Omeprazole'), ('No', 'to'), ('OGD', 'OCD'), ('reassurance', 'assurance'), ('Dr', 'or')]]\n",
            "******************************\n",
            "Trade off:  3.0\n",
            "Threshold:  7.0\n",
            "[[('Find', 'bind'), ('GI', 'I'), ('2016', '2011'), ('I', ','), ('grateful', 'careful'), ('exclude', 'include'), ('GI', 'I'), ('Adam', 'day'), ('unwell', 'well'), ('2', ','), ('looks', 'locus'), ('abuse', 'use'), ('beers', 'bears'), ('He', 'The'), ('alcohol', 'alcoholic'), ('deranged', 'ranged'), ('U', ','), (\"'s\", 'as'), ('E', ','), (\"'s\", 'as'), ('welcome', 'become'), ('exclude', 'include'), ('GI', 'I'), ('Thank', 'Than'), ('your', 'our'), ('Yours', 'Your')], [('Dear', 'near'), ('Doctor', 'Doctar'), ('Thanks', 'Than'), ('Lily', 'only'), ('post', 'most'), ('mealtime', 'real-time'), ('then', 'when'), ('then', 'the'), ('She', 'the'), ('been', 'bean'), (\"isn't\", \"don't\"), ('any', 'and'), ('solids', 'solid'), ('She', 'the'), ('swallow', 'shallow'), ('hard', 'had'), ('swallow', 'shallow'), ('now', 'low'), ('a', '('), ('HP', 'P'), ('stool', 'tool'), ('fine', 'five'), ('so', 'to'), ('dispersible', 'dispersive'), ('There', 'These'), ('a', ','), ('day', 'da'), ('kg', 'mg'), ('I', ','), ('grateful', 'careful'), ('as', 'is'), ('soon', 'on'), ('M', '.'), ('Christie', 'Colistin'), ('GP', 'UP')], [('grateful', 'careful'), ('if', 'of'), ('woman', 'women'), ('non-urgent', 'concurrent'), ('OGD', 'RGD'), ('suffering', 'offering'), ('She', 'the'), ('keen', 'seen'), ('get', 'set'), ('it', 'in'), ('soda/', 'modal'), ('gaviscon', 'Gaviscon'), ('vomit', 'visit'), ('She', 'the'), ('H', ','), ('Pylori', 'Pylorid'), ('omeprazole', 'Omeprazole'), ('No', 'to'), ('OGD', 'OCD'), ('reassurance', 'assurance'), ('Dr', 'or')]]\n",
            "******************************\n",
            "Trade off:  3.0\n",
            "Threshold:  6.0\n",
            "[[('Find', 'bind'), ('GI', 'I'), ('2016', '2011'), ('I', ','), ('grateful', 'careful'), ('exclude', 'include'), ('GI', 'I'), ('Adam', 'day'), ('unwell', 'well'), ('2', ','), ('looks', 'locus'), ('abuse', 'use'), ('beers', 'bears'), ('He', 'The'), ('alcohol', 'alcoholic'), ('deranged', 'ranged'), ('U', ','), (\"'s\", 'as'), ('E', ','), (\"'s\", 'as'), ('welcome', 'become'), ('exclude', 'include'), ('GI', 'I'), ('Thank', 'Than'), ('your', 'our'), ('Yours', 'Your')], [('Dear', 'near'), ('Doctor', 'Doctar'), ('Thanks', 'Than'), ('Lily', 'only'), ('mealtime', 'meantime'), ('then', 'the'), ('She', 'the'), ('been', 'bean'), (\"isn't\", \"don't\"), ('solids', 'solid'), ('She', 'the'), ('is', 'as'), ('swallow', 'shallow'), ('now', 'low'), ('a', '('), ('HP', 'P'), ('stool', 'tool'), ('fine', 'five'), ('so', 'to'), ('dispersible', 'dispersive'), ('There', 'These'), ('a', ','), ('day', 'da'), ('kg', 'mg'), ('I', ','), ('grateful', 'careful'), ('as', 'is'), ('soon', 'on'), ('M', '.'), ('Christie', 'Colistin'), ('GP', 'UP')], [('grateful', 'careful'), ('if', 'of'), ('woman', 'women'), ('non-urgent', 'concurrent'), ('OGD', 'RGD'), ('suffering', 'offering'), ('She', 'the'), ('keen', 'seen'), ('get', 'set'), ('it', 'in'), ('soda/', 'nodal'), ('gaviscon', 'Gaviscon'), ('vomit', 'visit'), ('She', 'the'), ('H', ','), ('Pylori', 'Pylorid'), ('omeprazole', 'Omeprazole'), ('No', 'to'), ('OGD', 'OCD'), ('reassurance', 'assurance'), ('Dr', 'or')]]\n",
            "******************************\n",
            "Trade off:  3.0\n",
            "Threshold:  5.0\n",
            "[[('Find', 'bind'), ('GI', 'I'), ('2016', '2011'), ('I', ','), ('grateful', 'careful'), ('exclude', 'include'), ('GI', 'I'), ('Adam', 'day'), ('unwell', 'well'), ('looks', 'locus'), ('abuse', 'use'), ('beers', 'bears'), ('He', 'The'), ('alcohol', 'alcoholic'), ('deranged', 'ranged'), ('U', ','), (\"'s\", 'as'), ('E', ','), (\"'s\", 'as'), ('welcome', 'become'), ('exclude', 'include'), ('GI', 'I'), ('Yours', 'Your')], [('Dear', 'near'), ('Doctor', 'Doctar'), ('Thanks', 'Than'), ('Lily', 'only'), ('mealtime', 'meantime'), ('then', 'the'), ('She', 'the'), ('been', 'bean'), (\"isn't\", \"don't\"), ('solids', 'solid'), ('She', 'the'), ('hard', 'had'), ('swallow', 'shallow'), ('now', 'low'), ('a', '('), ('HP', 'P'), ('stool', 'tool'), ('fine', 'five'), ('so', 'to'), ('dispersible', 'dispersive'), ('There', 'These'), ('a', ','), ('day', 'may'), ('by', 'be'), ('day', 'da'), ('kg', 'mg'), ('I', ','), ('grateful', 'careful'), ('as', 'is'), ('soon', 'on'), ('M', '.'), ('Christie', 'Colistin'), ('GP', 'UP')], [('grateful', 'careful'), ('woman', 'women'), ('non-urgent', 'concurrent'), ('OGD', 'RGD'), ('suffering', 'offering'), ('3', ','), ('She', 'the'), ('keen', 'seen'), ('get', 'set'), ('it', 'in'), ('soda/', 'nodal'), ('gaviscon', 'Gaviscon'), ('vomit', 'visit'), ('H', ','), ('Pylori', 'Pylorid'), ('omeprazole', 'Omeprazole'), ('No', 'to'), ('an', 'and'), ('reassurance', 'assurance'), ('Dr', 'or')]]\n",
            "******************************\n",
            "Trade off:  3.0\n",
            "Threshold:  4.0\n",
            "[[('Find', 'bind'), ('GI', 'I'), ('2016', '2011'), ('I', ','), ('grateful', 'careful'), ('exclude', 'include'), ('GI', 'I'), ('Adam', 'day'), ('unwell', 'well'), ('looks', 'locus'), ('abuse', 'use'), ('beers', 'bears'), ('alcohol', 'alcoholic'), ('deranged', 'ranged'), ('U', ','), (\"'s\", 'as'), ('E', ','), (\"'s\", 'as'), ('welcome', 'become'), ('exclude', 'include'), ('GI', 'I'), ('Yours', 'Your')], [('Dear', 'near'), ('Doctor', 'Doctar'), ('Thanks', 'Than'), ('Lily', 'only'), ('mealtime', 'meantime'), ('then', 'the'), (\"isn't\", \"don't\"), ('solids', 'solid'), ('She', 'the'), ('hard', 'had'), ('swallow', 'shallow'), ('now', 'low'), ('a', '('), ('HP', 'P'), ('stool', 'tool'), ('fine', 'five'), ('dispersible', 'dispersive'), ('There', 'These'), ('a', ','), ('day', 'may'), ('by', 'be'), ('day', 'da'), ('kg', 'mg'), ('grateful', 'careful'), ('soon', 'on'), ('M', '.'), ('Christie', 'Colistin'), ('GP', 'UP')], [('grateful', 'careful'), ('y/o', 'to'), ('non-urgent', 'concurrent'), ('OGD', 'RGD'), ('suffering', 'offering'), ('keen', 'seen'), ('checked', 'chicken'), ('soda/', 'nodal'), ('gaviscon', 'Gaviscon'), ('vomit', 'visit'), ('H', ','), ('Pylori', 'Pylorid'), ('omeprazole', 'Omeprazole'), ('No', 'to'), ('an', 'and'), ('reassurance', 'assurance'), ('Dr', 'or')]]\n",
            "******************************\n",
            "Trade off:  3.0\n",
            "Threshold:  3.0\n",
            "[[('Find', 'bind'), ('GI', 'I'), ('2016', '2011'), ('I', ','), ('grateful', 'careful'), ('exclude', 'include'), ('GI', 'I'), ('Adam', 'day'), ('unwell', 'well'), ('looks', 'locus'), ('abuse', 'use'), ('alcohol', 'alcoholic'), ('his', 'this'), ('deranged', 'ranged'), ('U', ','), (\"'s\", 'as'), ('E', ','), (\"'s\", 'as'), ('welcome', 'become'), ('exclude', 'include'), ('GI', 'I'), ('Yours', 'Your')], [('Dear', 'near'), ('Doctor', 'Doctar'), ('Thanks', 'Than'), ('Lily', 'only'), ('mealtime', 'meantime'), ('then', 'the'), (\"isn't\", \"don't\"), ('solids', 'solid'), ('She', 'the'), ('swallow', 'shallow'), ('swallow', 'shallow'), ('now', 'low'), ('lab', 'la'), ('HP', 'UP'), ('stool', 'tool'), ('fine', 'five'), ('dispersible', 'dispersive'), ('day', 'may'), ('by', 'be'), ('day', 'da'), ('kg', 'mg'), ('grateful', 'careful'), ('soon', 'on'), ('M', '.'), ('Christie', 'Colistin'), ('GP', 'UP')], [('grateful', 'careful'), ('y/o', 'to'), ('non-urgent', 'concurrent'), ('OGD', 'OLD'), ('suffering', 'offering'), ('keen', 'seen'), ('checked', 'chicken'), ('of', 'or'), ('soda/', 'modal'), ('gaviscon', 'Gaviscon'), ('vomit', 'visit'), ('H', ','), ('Pylori', 'Pylorid'), ('No', 'to'), ('an', 'and'), ('reassurance', 'assurance'), ('Dr', 'or')]]\n",
            "******************************\n",
            "Trade off:  3.0\n",
            "Threshold:  2.0\n",
            "[[('Find', 'bind'), ('GI', 'I'), ('2016', '2011'), ('I', ','), ('grateful', 'careful'), ('exclude', 'include'), ('GI', 'I'), ('Adam', 'day'), ('unwell', 'well'), ('looks', 'locus'), ('abuse', 'use'), ('alcohol', 'alcoholic'), ('his', 'this'), ('deranged', 'ranged'), ('U', ','), (\"'s\", 'as'), ('E', ','), (\"'s\", 'as'), ('welcome', 'become'), ('exclude', 'include'), ('GI', 'I'), ('Yours', 'Your')], [('Dear', 'near'), ('Doctor', 'Doctar'), ('Thanks', 'Than'), ('Lily', 'only'), ('mealtime', 'meantime'), ('then', 'the'), (\"isn't\", \"don't\"), ('solids', 'solid'), ('She', 'the'), ('swallow', 'shallow'), ('swallow', 'shallow'), ('now', 'low'), ('lab', 'la'), ('HP', 'UP'), ('stool', 'tool'), ('fine', 'five'), ('dispersible', 'dispersive'), ('day', 'may'), ('by', 'be'), ('day', 'da'), ('kg', 'mg'), ('I', ','), ('grateful', 'careful'), ('Dr', 'D'), ('M', '.'), ('Christie', 'Christian'), ('GP', 'P')], [('grateful', 'careful'), ('y/o', 'to'), ('non-urgent', 'concurrent'), ('OGD', 'OLD'), ('suffering', 'offering'), ('keen', 'seen'), ('checked', 'chicken'), ('of', 'or'), ('soda/', 'modal'), ('gaviscon', 'Gaviscon'), ('vomit', 'visit'), ('H', ','), ('Pylori', 'Pylorid'), ('No', 'to'), ('an', 'and'), ('reassurance', 'assurance'), ('Dr', 'or')]]\n"
          ],
          "name": "stdout"
        }
      ]
    },
    {
      "cell_type": "code",
      "metadata": {
        "colab": {
          "base_uri": "https://localhost:8080/"
        },
        "id": "DSGonO1moNW1",
        "outputId": "bd4603b8-30fc-48e0-dd58-63bc2ee1a826"
      },
      "source": [
        "clinical_spellModel.setTradeoff(18)"
      ],
      "id": "DSGonO1moNW1",
      "execution_count": null,
      "outputs": [
        {
          "output_type": "execute_result",
          "data": {
            "text/plain": [
              "SPELL_ee443bf328dc"
            ]
          },
          "metadata": {
            "tags": []
          },
          "execution_count": 116
        }
      ]
    },
    {
      "cell_type": "code",
      "metadata": {
        "id": "P2wkB2XsFv3F"
      },
      "source": [
        "token_list = []\n",
        "for sample in sample_text:\n",
        "  sample_checked = lp.annotate(sample)\n",
        "  token_list.append([(a,b,c) for a, b, c in zip(sample_checked['token'], sample_checked['checked'], sample_checked['checked_clinical']) if (a!=b)|(a!=c) ])"
      ],
      "id": "P2wkB2XsFv3F",
      "execution_count": null,
      "outputs": []
    },
    {
      "cell_type": "code",
      "metadata": {
        "id": "Nx0V1CGrVyn3"
      },
      "source": [
        "new_list=[]\n",
        "for sample in token_list:\n",
        "  for token in sample:\n",
        "    if token[2].lower() == token[0].lower() :\n",
        "      selected = token[2]\n",
        "    elif token[1].lower() == token[0].lower():\n",
        "      selected = token[1]\n",
        "    else:\n",
        "      selected = \"**\"\n",
        "    new_list.append((token[0], token[1], token[2], selected))"
      ],
      "id": "Nx0V1CGrVyn3",
      "execution_count": null,
      "outputs": []
    },
    {
      "cell_type": "code",
      "metadata": {
        "id": "KUUH4pyKPnRT"
      },
      "source": [
        "pd.set_option(\"display.max_rows\", 100)"
      ],
      "id": "KUUH4pyKPnRT",
      "execution_count": null,
      "outputs": []
    },
    {
      "cell_type": "code",
      "metadata": {
        "colab": {
          "base_uri": "https://localhost:8080/",
          "height": 1000
        },
        "id": "rjBKuJ4vWwKe",
        "outputId": "f63449c7-5e26-4865-fd84-7a9752f2e399"
      },
      "source": [
        "df = pd.DataFrame(new_list, columns=[\"Token\", \"spellcheck_dl\", \"spellcheck_clinical\", \"selected\"])\n",
        "df"
      ],
      "id": "rjBKuJ4vWwKe",
      "execution_count": null,
      "outputs": [
        {
          "output_type": "execute_result",
          "data": {
            "text/html": [
              "<div>\n",
              "<style scoped>\n",
              "    .dataframe tbody tr th:only-of-type {\n",
              "        vertical-align: middle;\n",
              "    }\n",
              "\n",
              "    .dataframe tbody tr th {\n",
              "        vertical-align: top;\n",
              "    }\n",
              "\n",
              "    .dataframe thead th {\n",
              "        text-align: right;\n",
              "    }\n",
              "</style>\n",
              "<table border=\"1\" class=\"dataframe\">\n",
              "  <thead>\n",
              "    <tr style=\"text-align: right;\">\n",
              "      <th></th>\n",
              "      <th>Token</th>\n",
              "      <th>spellcheck_dl</th>\n",
              "      <th>spellcheck_clinical</th>\n",
              "      <th>selected</th>\n",
              "    </tr>\n",
              "  </thead>\n",
              "  <tbody>\n",
              "    <tr>\n",
              "      <th>0</th>\n",
              "      <td>Find</td>\n",
              "      <td>Find</td>\n",
              "      <td>bind</td>\n",
              "      <td>Find</td>\n",
              "    </tr>\n",
              "    <tr>\n",
              "      <th>1</th>\n",
              "      <td>GI</td>\n",
              "      <td>GI</td>\n",
              "      <td>II</td>\n",
              "      <td>GI</td>\n",
              "    </tr>\n",
              "    <tr>\n",
              "      <th>2</th>\n",
              "      <td>I</td>\n",
              "      <td>I</td>\n",
              "      <td>,</td>\n",
              "      <td>I</td>\n",
              "    </tr>\n",
              "    <tr>\n",
              "      <th>3</th>\n",
              "      <td>grateful</td>\n",
              "      <td>grateful</td>\n",
              "      <td>careful</td>\n",
              "      <td>grateful</td>\n",
              "    </tr>\n",
              "    <tr>\n",
              "      <th>4</th>\n",
              "      <td>exclude</td>\n",
              "      <td>exclude</td>\n",
              "      <td>include</td>\n",
              "      <td>exclude</td>\n",
              "    </tr>\n",
              "    <tr>\n",
              "      <th>5</th>\n",
              "      <td>GI</td>\n",
              "      <td>GI</td>\n",
              "      <td>I</td>\n",
              "      <td>GI</td>\n",
              "    </tr>\n",
              "    <tr>\n",
              "      <th>6</th>\n",
              "      <td>Adam</td>\n",
              "      <td>Adam</td>\n",
              "      <td>day</td>\n",
              "      <td>Adam</td>\n",
              "    </tr>\n",
              "    <tr>\n",
              "      <th>7</th>\n",
              "      <td>unwell</td>\n",
              "      <td>well</td>\n",
              "      <td>well</td>\n",
              "      <td>**</td>\n",
              "    </tr>\n",
              "    <tr>\n",
              "      <th>8</th>\n",
              "      <td>2</td>\n",
              "      <td>2</td>\n",
              "      <td>,</td>\n",
              "      <td>2</td>\n",
              "    </tr>\n",
              "    <tr>\n",
              "      <th>9</th>\n",
              "      <td>lethargy</td>\n",
              "      <td>Bethany</td>\n",
              "      <td>lethargy</td>\n",
              "      <td>lethargy</td>\n",
              "    </tr>\n",
              "    <tr>\n",
              "      <th>10</th>\n",
              "      <td>looks</td>\n",
              "      <td>looks</td>\n",
              "      <td>locus</td>\n",
              "      <td>looks</td>\n",
              "    </tr>\n",
              "    <tr>\n",
              "      <th>11</th>\n",
              "      <td>jaundiced</td>\n",
              "      <td>Candice</td>\n",
              "      <td>jaundiced</td>\n",
              "      <td>jaundiced</td>\n",
              "    </tr>\n",
              "    <tr>\n",
              "      <th>12</th>\n",
              "      <td>He</td>\n",
              "      <td>He</td>\n",
              "      <td>The</td>\n",
              "      <td>He</td>\n",
              "    </tr>\n",
              "    <tr>\n",
              "      <th>13</th>\n",
              "      <td>been</td>\n",
              "      <td>been</td>\n",
              "      <td>bean</td>\n",
              "      <td>been</td>\n",
              "    </tr>\n",
              "    <tr>\n",
              "      <th>14</th>\n",
              "      <td>haemoglobin</td>\n",
              "      <td>hemoglobin</td>\n",
              "      <td>haemoglobin</td>\n",
              "      <td>haemoglobin</td>\n",
              "    </tr>\n",
              "    <tr>\n",
              "      <th>15</th>\n",
              "      <td>deranged</td>\n",
              "      <td>deranged</td>\n",
              "      <td>ranged</td>\n",
              "      <td>deranged</td>\n",
              "    </tr>\n",
              "    <tr>\n",
              "      <th>16</th>\n",
              "      <td>U</td>\n",
              "      <td>U</td>\n",
              "      <td>,</td>\n",
              "      <td>U</td>\n",
              "    </tr>\n",
              "    <tr>\n",
              "      <th>17</th>\n",
              "      <td>E</td>\n",
              "      <td>,</td>\n",
              "      <td>E</td>\n",
              "      <td>E</td>\n",
              "    </tr>\n",
              "    <tr>\n",
              "      <th>18</th>\n",
              "      <td>'s</td>\n",
              "      <td>as</td>\n",
              "      <td>'s</td>\n",
              "      <td>'s</td>\n",
              "    </tr>\n",
              "    <tr>\n",
              "      <th>19</th>\n",
              "      <td>welcome</td>\n",
              "      <td>welcome</td>\n",
              "      <td>become</td>\n",
              "      <td>welcome</td>\n",
              "    </tr>\n",
              "    <tr>\n",
              "      <th>20</th>\n",
              "      <td>exclude</td>\n",
              "      <td>exclude</td>\n",
              "      <td>include</td>\n",
              "      <td>exclude</td>\n",
              "    </tr>\n",
              "    <tr>\n",
              "      <th>21</th>\n",
              "      <td>GI</td>\n",
              "      <td>GI</td>\n",
              "      <td>I</td>\n",
              "      <td>GI</td>\n",
              "    </tr>\n",
              "    <tr>\n",
              "      <th>22</th>\n",
              "      <td>Thank</td>\n",
              "      <td>Thank</td>\n",
              "      <td>Than</td>\n",
              "      <td>Thank</td>\n",
              "    </tr>\n",
              "    <tr>\n",
              "      <th>23</th>\n",
              "      <td>Yours</td>\n",
              "      <td>Your</td>\n",
              "      <td>hours</td>\n",
              "      <td>**</td>\n",
              "    </tr>\n",
              "    <tr>\n",
              "      <th>24</th>\n",
              "      <td>Dear</td>\n",
              "      <td>near</td>\n",
              "      <td>near</td>\n",
              "      <td>**</td>\n",
              "    </tr>\n",
              "    <tr>\n",
              "      <th>25</th>\n",
              "      <td>Doctor</td>\n",
              "      <td>Doctor</td>\n",
              "      <td>Doctar</td>\n",
              "      <td>Doctor</td>\n",
              "    </tr>\n",
              "    <tr>\n",
              "      <th>26</th>\n",
              "      <td>Thanks</td>\n",
              "      <td>Thanks</td>\n",
              "      <td>Than</td>\n",
              "      <td>Thanks</td>\n",
              "    </tr>\n",
              "    <tr>\n",
              "      <th>27</th>\n",
              "      <td>Lily</td>\n",
              "      <td>Lily</td>\n",
              "      <td>only</td>\n",
              "      <td>Lily</td>\n",
              "    </tr>\n",
              "    <tr>\n",
              "      <th>28</th>\n",
              "      <td>She</td>\n",
              "      <td>the</td>\n",
              "      <td>the</td>\n",
              "      <td>**</td>\n",
              "    </tr>\n",
              "    <tr>\n",
              "      <th>29</th>\n",
              "      <td>heartburn</td>\n",
              "      <td>Dearborn</td>\n",
              "      <td>heartburn</td>\n",
              "      <td>heartburn</td>\n",
              "    </tr>\n",
              "    <tr>\n",
              "      <th>30</th>\n",
              "      <td>indigestion</td>\n",
              "      <td>digestion</td>\n",
              "      <td>indigestion</td>\n",
              "      <td>indigestion</td>\n",
              "    </tr>\n",
              "    <tr>\n",
              "      <th>31</th>\n",
              "      <td>post</td>\n",
              "      <td>post</td>\n",
              "      <td>most</td>\n",
              "      <td>post</td>\n",
              "    </tr>\n",
              "    <tr>\n",
              "      <th>32</th>\n",
              "      <td>mealtime</td>\n",
              "      <td>mealtime</td>\n",
              "      <td>real-time</td>\n",
              "      <td>mealtime</td>\n",
              "    </tr>\n",
              "    <tr>\n",
              "      <th>33</th>\n",
              "      <td>dysphagia</td>\n",
              "      <td>dysphoria</td>\n",
              "      <td>dysphagia</td>\n",
              "      <td>dysphagia</td>\n",
              "    </tr>\n",
              "    <tr>\n",
              "      <th>34</th>\n",
              "      <td>She</td>\n",
              "      <td>She</td>\n",
              "      <td>the</td>\n",
              "      <td>She</td>\n",
              "    </tr>\n",
              "    <tr>\n",
              "      <th>35</th>\n",
              "      <td>been</td>\n",
              "      <td>been</td>\n",
              "      <td>bean</td>\n",
              "      <td>been</td>\n",
              "    </tr>\n",
              "    <tr>\n",
              "      <th>36</th>\n",
              "      <td>isn't</td>\n",
              "      <td>isn't</td>\n",
              "      <td>didn't</td>\n",
              "      <td>isn't</td>\n",
              "    </tr>\n",
              "    <tr>\n",
              "      <th>37</th>\n",
              "      <td>able</td>\n",
              "      <td>able</td>\n",
              "      <td>be</td>\n",
              "      <td>able</td>\n",
              "    </tr>\n",
              "    <tr>\n",
              "      <th>38</th>\n",
              "      <td>any</td>\n",
              "      <td>any</td>\n",
              "      <td>and</td>\n",
              "      <td>any</td>\n",
              "    </tr>\n",
              "    <tr>\n",
              "      <th>39</th>\n",
              "      <td>solids</td>\n",
              "      <td>solid</td>\n",
              "      <td>solid</td>\n",
              "      <td>**</td>\n",
              "    </tr>\n",
              "    <tr>\n",
              "      <th>40</th>\n",
              "      <td>She</td>\n",
              "      <td>She</td>\n",
              "      <td>the</td>\n",
              "      <td>She</td>\n",
              "    </tr>\n",
              "    <tr>\n",
              "      <th>41</th>\n",
              "      <td>swallow</td>\n",
              "      <td>swallow</td>\n",
              "      <td>shallow</td>\n",
              "      <td>swallow</td>\n",
              "    </tr>\n",
              "    <tr>\n",
              "      <th>42</th>\n",
              "      <td>hard</td>\n",
              "      <td>hard</td>\n",
              "      <td>had</td>\n",
              "      <td>hard</td>\n",
              "    </tr>\n",
              "    <tr>\n",
              "      <th>43</th>\n",
              "      <td>swallow</td>\n",
              "      <td>swallow</td>\n",
              "      <td>shallow</td>\n",
              "      <td>swallow</td>\n",
              "    </tr>\n",
              "    <tr>\n",
              "      <th>44</th>\n",
              "      <td>a</td>\n",
              "      <td>a</td>\n",
              "      <td>(</td>\n",
              "      <td>a</td>\n",
              "    </tr>\n",
              "    <tr>\n",
              "      <th>45</th>\n",
              "      <td>HP</td>\n",
              "      <td>HE</td>\n",
              "      <td>P</td>\n",
              "      <td>**</td>\n",
              "    </tr>\n",
              "    <tr>\n",
              "      <th>46</th>\n",
              "      <td>stool</td>\n",
              "      <td>stool</td>\n",
              "      <td>tool</td>\n",
              "      <td>stool</td>\n",
              "    </tr>\n",
              "    <tr>\n",
              "      <th>47</th>\n",
              "      <td>fine</td>\n",
              "      <td>fine</td>\n",
              "      <td>five</td>\n",
              "      <td>fine</td>\n",
              "    </tr>\n",
              "    <tr>\n",
              "      <th>48</th>\n",
              "      <td>PPI</td>\n",
              "      <td>PP</td>\n",
              "      <td>PPI</td>\n",
              "      <td>PPI</td>\n",
              "    </tr>\n",
              "    <tr>\n",
              "      <th>49</th>\n",
              "      <td>dispersible</td>\n",
              "      <td>discernible</td>\n",
              "      <td>dispersive</td>\n",
              "      <td>**</td>\n",
              "    </tr>\n",
              "    <tr>\n",
              "      <th>50</th>\n",
              "      <td>There</td>\n",
              "      <td>here</td>\n",
              "      <td>where</td>\n",
              "      <td>**</td>\n",
              "    </tr>\n",
              "    <tr>\n",
              "      <th>51</th>\n",
              "      <td>day</td>\n",
              "      <td>day</td>\n",
              "      <td>da</td>\n",
              "      <td>day</td>\n",
              "    </tr>\n",
              "    <tr>\n",
              "      <th>52</th>\n",
              "      <td>kg</td>\n",
              "      <td>kg</td>\n",
              "      <td>mg</td>\n",
              "      <td>kg</td>\n",
              "    </tr>\n",
              "    <tr>\n",
              "      <th>53</th>\n",
              "      <td>asked</td>\n",
              "      <td>asked</td>\n",
              "      <td>used</td>\n",
              "      <td>asked</td>\n",
              "    </tr>\n",
              "    <tr>\n",
              "      <th>54</th>\n",
              "      <td>grateful</td>\n",
              "      <td>grateful</td>\n",
              "      <td>careful</td>\n",
              "      <td>grateful</td>\n",
              "    </tr>\n",
              "    <tr>\n",
              "      <th>55</th>\n",
              "      <td>as</td>\n",
              "      <td>as</td>\n",
              "      <td>is</td>\n",
              "      <td>as</td>\n",
              "    </tr>\n",
              "    <tr>\n",
              "      <th>56</th>\n",
              "      <td>soon</td>\n",
              "      <td>soon</td>\n",
              "      <td>on</td>\n",
              "      <td>soon</td>\n",
              "    </tr>\n",
              "    <tr>\n",
              "      <th>57</th>\n",
              "      <td>M</td>\n",
              "      <td>.</td>\n",
              "      <td>.</td>\n",
              "      <td>**</td>\n",
              "    </tr>\n",
              "    <tr>\n",
              "      <th>58</th>\n",
              "      <td>Christie</td>\n",
              "      <td>Christie</td>\n",
              "      <td>Colistin</td>\n",
              "      <td>Christie</td>\n",
              "    </tr>\n",
              "    <tr>\n",
              "      <th>59</th>\n",
              "      <td>GP</td>\n",
              "      <td>P</td>\n",
              "      <td>UP</td>\n",
              "      <td>**</td>\n",
              "    </tr>\n",
              "    <tr>\n",
              "      <th>60</th>\n",
              "      <td>grateful</td>\n",
              "      <td>grateful</td>\n",
              "      <td>careful</td>\n",
              "      <td>grateful</td>\n",
              "    </tr>\n",
              "    <tr>\n",
              "      <th>61</th>\n",
              "      <td>if</td>\n",
              "      <td>if</td>\n",
              "      <td>is</td>\n",
              "      <td>if</td>\n",
              "    </tr>\n",
              "    <tr>\n",
              "      <th>62</th>\n",
              "      <td>you</td>\n",
              "      <td>you</td>\n",
              "      <td>of</td>\n",
              "      <td>you</td>\n",
              "    </tr>\n",
              "    <tr>\n",
              "      <th>63</th>\n",
              "      <td>this</td>\n",
              "      <td>this</td>\n",
              "      <td>the</td>\n",
              "      <td>this</td>\n",
              "    </tr>\n",
              "    <tr>\n",
              "      <th>64</th>\n",
              "      <td>y/o</td>\n",
              "      <td>to</td>\n",
              "      <td>y/o</td>\n",
              "      <td>y/o</td>\n",
              "    </tr>\n",
              "    <tr>\n",
              "      <th>65</th>\n",
              "      <td>woman</td>\n",
              "      <td>woman</td>\n",
              "      <td>women</td>\n",
              "      <td>woman</td>\n",
              "    </tr>\n",
              "    <tr>\n",
              "      <th>66</th>\n",
              "      <td>non-urgent</td>\n",
              "      <td>concurrent</td>\n",
              "      <td>concurrent</td>\n",
              "      <td>**</td>\n",
              "    </tr>\n",
              "    <tr>\n",
              "      <th>67</th>\n",
              "      <td>OGD</td>\n",
              "      <td>ODD</td>\n",
              "      <td>RGD</td>\n",
              "      <td>**</td>\n",
              "    </tr>\n",
              "    <tr>\n",
              "      <th>68</th>\n",
              "      <td>She</td>\n",
              "      <td>She</td>\n",
              "      <td>the</td>\n",
              "      <td>She</td>\n",
              "    </tr>\n",
              "    <tr>\n",
              "      <th>69</th>\n",
              "      <td>suffering</td>\n",
              "      <td>suffering</td>\n",
              "      <td>offering</td>\n",
              "      <td>suffering</td>\n",
              "    </tr>\n",
              "    <tr>\n",
              "      <th>70</th>\n",
              "      <td>dyspepsia</td>\n",
              "      <td>dysplasia</td>\n",
              "      <td>dyspepsia</td>\n",
              "      <td>dyspepsia</td>\n",
              "    </tr>\n",
              "    <tr>\n",
              "      <th>71</th>\n",
              "      <td>epigastric</td>\n",
              "      <td>gastric</td>\n",
              "      <td>epigastric</td>\n",
              "      <td>epigastric</td>\n",
              "    </tr>\n",
              "    <tr>\n",
              "      <th>72</th>\n",
              "      <td>She</td>\n",
              "      <td>She</td>\n",
              "      <td>the</td>\n",
              "      <td>She</td>\n",
              "    </tr>\n",
              "    <tr>\n",
              "      <th>73</th>\n",
              "      <td>keen</td>\n",
              "      <td>seen</td>\n",
              "      <td>when</td>\n",
              "      <td>**</td>\n",
              "    </tr>\n",
              "    <tr>\n",
              "      <th>74</th>\n",
              "      <td>it</td>\n",
              "      <td>it</td>\n",
              "      <td>is</td>\n",
              "      <td>it</td>\n",
              "    </tr>\n",
              "    <tr>\n",
              "      <th>75</th>\n",
              "      <td>soda/</td>\n",
              "      <td>Kodak</td>\n",
              "      <td>nodal</td>\n",
              "      <td>**</td>\n",
              "    </tr>\n",
              "    <tr>\n",
              "      <th>76</th>\n",
              "      <td>gaviscon</td>\n",
              "      <td>Davison</td>\n",
              "      <td>Gaviscon</td>\n",
              "      <td>Gaviscon</td>\n",
              "    </tr>\n",
              "    <tr>\n",
              "      <th>77</th>\n",
              "      <td>vomit</td>\n",
              "      <td>visit</td>\n",
              "      <td>visit</td>\n",
              "      <td>**</td>\n",
              "    </tr>\n",
              "    <tr>\n",
              "      <th>78</th>\n",
              "      <td>She</td>\n",
              "      <td>She</td>\n",
              "      <td>the</td>\n",
              "      <td>She</td>\n",
              "    </tr>\n",
              "    <tr>\n",
              "      <th>79</th>\n",
              "      <td>H</td>\n",
              "      <td>,</td>\n",
              "      <td>,</td>\n",
              "      <td>**</td>\n",
              "    </tr>\n",
              "    <tr>\n",
              "      <th>80</th>\n",
              "      <td>Pylori</td>\n",
              "      <td>Pylori</td>\n",
              "      <td>Pylorid</td>\n",
              "      <td>Pylori</td>\n",
              "    </tr>\n",
              "    <tr>\n",
              "      <th>81</th>\n",
              "      <td>omeprazole</td>\n",
              "      <td>omeprazole</td>\n",
              "      <td>Omeprazole</td>\n",
              "      <td>Omeprazole</td>\n",
              "    </tr>\n",
              "    <tr>\n",
              "      <th>82</th>\n",
              "      <td>No</td>\n",
              "      <td>to</td>\n",
              "      <td>to</td>\n",
              "      <td>**</td>\n",
              "    </tr>\n",
              "    <tr>\n",
              "      <th>83</th>\n",
              "      <td>dysphagia</td>\n",
              "      <td>dysplasia</td>\n",
              "      <td>dysphagia</td>\n",
              "      <td>dysphagia</td>\n",
              "    </tr>\n",
              "    <tr>\n",
              "      <th>84</th>\n",
              "      <td>has</td>\n",
              "      <td>as</td>\n",
              "      <td>has</td>\n",
              "      <td>has</td>\n",
              "    </tr>\n",
              "    <tr>\n",
              "      <th>85</th>\n",
              "      <td>OGD</td>\n",
              "      <td>OLD</td>\n",
              "      <td>OCD</td>\n",
              "      <td>**</td>\n",
              "    </tr>\n",
              "    <tr>\n",
              "      <th>86</th>\n",
              "      <td>reassurance</td>\n",
              "      <td>reassurance</td>\n",
              "      <td>assurance</td>\n",
              "      <td>reassurance</td>\n",
              "    </tr>\n",
              "    <tr>\n",
              "      <th>87</th>\n",
              "      <td>Dr</td>\n",
              "      <td>or</td>\n",
              "      <td>or</td>\n",
              "      <td>**</td>\n",
              "    </tr>\n",
              "  </tbody>\n",
              "</table>\n",
              "</div>"
            ],
            "text/plain": [
              "          Token spellcheck_dl spellcheck_clinical     selected\n",
              "0          Find          Find                bind         Find\n",
              "1            GI            GI                  II           GI\n",
              "2             I             I                   ,            I\n",
              "3      grateful      grateful             careful     grateful\n",
              "4       exclude       exclude             include      exclude\n",
              "5            GI            GI                   I           GI\n",
              "6          Adam          Adam                 day         Adam\n",
              "7        unwell          well                well           **\n",
              "8             2             2                   ,            2\n",
              "9      lethargy       Bethany            lethargy     lethargy\n",
              "10        looks         looks               locus        looks\n",
              "11    jaundiced       Candice           jaundiced    jaundiced\n",
              "12           He            He                 The           He\n",
              "13         been          been                bean         been\n",
              "14  haemoglobin    hemoglobin         haemoglobin  haemoglobin\n",
              "15     deranged      deranged              ranged     deranged\n",
              "16            U             U                   ,            U\n",
              "17            E             ,                   E            E\n",
              "18           's            as                  's           's\n",
              "19      welcome       welcome              become      welcome\n",
              "20      exclude       exclude             include      exclude\n",
              "21           GI            GI                   I           GI\n",
              "22        Thank         Thank                Than        Thank\n",
              "23        Yours          Your               hours           **\n",
              "24         Dear          near                near           **\n",
              "25       Doctor        Doctor              Doctar       Doctor\n",
              "26       Thanks        Thanks                Than       Thanks\n",
              "27         Lily          Lily                only         Lily\n",
              "28          She           the                 the           **\n",
              "29    heartburn      Dearborn           heartburn    heartburn\n",
              "30  indigestion     digestion         indigestion  indigestion\n",
              "31         post          post                most         post\n",
              "32     mealtime      mealtime           real-time     mealtime\n",
              "33    dysphagia     dysphoria           dysphagia    dysphagia\n",
              "34          She           She                 the          She\n",
              "35         been          been                bean         been\n",
              "36        isn't         isn't              didn't        isn't\n",
              "37         able          able                  be         able\n",
              "38          any           any                 and          any\n",
              "39       solids         solid               solid           **\n",
              "40          She           She                 the          She\n",
              "41      swallow       swallow             shallow      swallow\n",
              "42         hard          hard                 had         hard\n",
              "43      swallow       swallow             shallow      swallow\n",
              "44            a             a                   (            a\n",
              "45           HP            HE                   P           **\n",
              "46        stool         stool                tool        stool\n",
              "47         fine          fine                five         fine\n",
              "48          PPI            PP                 PPI          PPI\n",
              "49  dispersible   discernible          dispersive           **\n",
              "50        There          here               where           **\n",
              "51          day           day                  da          day\n",
              "52           kg            kg                  mg           kg\n",
              "53        asked         asked                used        asked\n",
              "54     grateful      grateful             careful     grateful\n",
              "55           as            as                  is           as\n",
              "56         soon          soon                  on         soon\n",
              "57            M             .                   .           **\n",
              "58     Christie      Christie            Colistin     Christie\n",
              "59           GP             P                  UP           **\n",
              "60     grateful      grateful             careful     grateful\n",
              "61           if            if                  is           if\n",
              "62          you           you                  of          you\n",
              "63         this          this                 the         this\n",
              "64          y/o            to                 y/o          y/o\n",
              "65        woman         woman               women        woman\n",
              "66   non-urgent    concurrent          concurrent           **\n",
              "67          OGD           ODD                 RGD           **\n",
              "68          She           She                 the          She\n",
              "69    suffering     suffering            offering    suffering\n",
              "70    dyspepsia     dysplasia           dyspepsia    dyspepsia\n",
              "71   epigastric       gastric          epigastric   epigastric\n",
              "72          She           She                 the          She\n",
              "73         keen          seen                when           **\n",
              "74           it            it                  is           it\n",
              "75        soda/         Kodak               nodal           **\n",
              "76     gaviscon       Davison            Gaviscon     Gaviscon\n",
              "77        vomit         visit               visit           **\n",
              "78          She           She                 the          She\n",
              "79            H             ,                   ,           **\n",
              "80       Pylori        Pylori             Pylorid       Pylori\n",
              "81   omeprazole    omeprazole          Omeprazole   Omeprazole\n",
              "82           No            to                  to           **\n",
              "83    dysphagia     dysplasia           dysphagia    dysphagia\n",
              "84          has            as                 has          has\n",
              "85          OGD           OLD                 OCD           **\n",
              "86  reassurance   reassurance           assurance  reassurance\n",
              "87           Dr            or                  or           **"
            ]
          },
          "metadata": {
            "tags": []
          },
          "execution_count": 120
        }
      ]
    },
    {
      "cell_type": "code",
      "metadata": {
        "colab": {
          "base_uri": "https://localhost:8080/"
        },
        "id": "x7BQKeIKS2mS",
        "outputId": "84e97946-eb2c-4bae-cd68-c8f7970b8449"
      },
      "source": [
        "for sample in token_list:\n",
        "  for token in sample:\n",
        "    print(token, end=\"-\")\n",
        "    if token[2] == token[0]:\n",
        "      print(token[2])\n",
        "    elif token[1] == token[0]:\n",
        "      print(token[1])\n",
        "    else:\n",
        "      print(\"*********\")"
      ],
      "id": "x7BQKeIKS2mS",
      "execution_count": null,
      "outputs": [
        {
          "output_type": "stream",
          "text": [
            "('Find', 'Find', 'bind')-Find\n",
            "('GI', 'GI', 'II')-GI\n",
            "('I', 'I', ',')-I\n",
            "('grateful', 'grateful', 'careful')-grateful\n",
            "('exclude', 'exclude', 'include')-exclude\n",
            "('GI', 'GI', 'I')-GI\n",
            "('Adam', 'Adam', 'day')-Adam\n",
            "('unwell', 'well', 'well')-*********\n",
            "('2', '2', ',')-2\n",
            "('lethargy', 'Bethany', 'lethargy')-lethargy\n",
            "('looks', 'looks', 'locus')-looks\n",
            "('jaundiced', 'Candice', 'jaundiced')-jaundiced\n",
            "('He', 'He', 'The')-He\n",
            "('been', 'been', 'bean')-been\n",
            "('haemoglobin', 'hemoglobin', 'haemoglobin')-haemoglobin\n",
            "('deranged', 'deranged', 'ranged')-deranged\n",
            "('U', 'U', ',')-U\n",
            "('E', ',', 'E')-E\n",
            "(\"'s\", 'as', \"'s\")-'s\n",
            "('welcome', 'welcome', 'become')-welcome\n",
            "('exclude', 'exclude', 'include')-exclude\n",
            "('GI', 'GI', 'I')-GI\n",
            "('Thank', 'Thank', 'Than')-Thank\n",
            "('Yours', 'Your', 'hours')-*********\n",
            "('Dear', 'near', 'near')-*********\n",
            "('Doctor', 'Doctor', 'Doctar')-Doctor\n",
            "('Thanks', 'Thanks', 'Than')-Thanks\n",
            "('Lily', 'Lily', 'only')-Lily\n",
            "('She', 'the', 'the')-*********\n",
            "('heartburn', 'Dearborn', 'heartburn')-heartburn\n",
            "('indigestion', 'digestion', 'indigestion')-indigestion\n",
            "('post', 'post', 'most')-post\n",
            "('mealtime', 'mealtime', 'real-time')-mealtime\n",
            "('dysphagia', 'dysphoria', 'dysphagia')-dysphagia\n",
            "('She', 'She', 'the')-She\n",
            "('been', 'been', 'bean')-been\n",
            "(\"isn't\", \"isn't\", \"didn't\")-isn't\n",
            "('able', 'able', 'be')-able\n",
            "('any', 'any', 'and')-any\n",
            "('solids', 'solid', 'solid')-*********\n",
            "('She', 'She', 'the')-She\n",
            "('swallow', 'swallow', 'shallow')-swallow\n",
            "('hard', 'hard', 'had')-hard\n",
            "('swallow', 'swallow', 'shallow')-swallow\n",
            "('a', 'a', '(')-a\n",
            "('HP', 'HE', 'P')-*********\n",
            "('stool', 'stool', 'tool')-stool\n",
            "('fine', 'fine', 'five')-fine\n",
            "('PPI', 'PP', 'PPI')-PPI\n",
            "('dispersible', 'discernible', 'dispersive')-*********\n",
            "('There', 'here', 'where')-*********\n",
            "('day', 'day', 'da')-day\n",
            "('kg', 'kg', 'mg')-kg\n",
            "('asked', 'asked', 'used')-asked\n",
            "('grateful', 'grateful', 'careful')-grateful\n",
            "('as', 'as', 'is')-as\n",
            "('soon', 'soon', 'on')-soon\n",
            "('M', '.', '.')-*********\n",
            "('Christie', 'Christie', 'Colistin')-Christie\n",
            "('GP', 'P', 'UP')-*********\n",
            "('grateful', 'grateful', 'careful')-grateful\n",
            "('if', 'if', 'is')-if\n",
            "('you', 'you', 'of')-you\n",
            "('this', 'this', 'the')-this\n",
            "('y/o', 'to', 'y/o')-y/o\n",
            "('woman', 'woman', 'women')-woman\n",
            "('non-urgent', 'concurrent', 'concurrent')-*********\n",
            "('OGD', 'ODD', 'RGD')-*********\n",
            "('She', 'She', 'the')-She\n",
            "('suffering', 'suffering', 'offering')-suffering\n",
            "('dyspepsia', 'dysplasia', 'dyspepsia')-dyspepsia\n",
            "('epigastric', 'gastric', 'epigastric')-epigastric\n",
            "('She', 'She', 'the')-She\n",
            "('keen', 'seen', 'when')-*********\n",
            "('it', 'it', 'is')-it\n",
            "('soda/', 'Kodak', 'nodal')-*********\n",
            "('gaviscon', 'Davison', 'Gaviscon')-*********\n",
            "('vomit', 'visit', 'visit')-*********\n",
            "('She', 'She', 'the')-She\n",
            "('H', ',', ',')-*********\n",
            "('Pylori', 'Pylori', 'Pylorid')-Pylori\n",
            "('omeprazole', 'omeprazole', 'Omeprazole')-omeprazole\n",
            "('No', 'to', 'to')-*********\n",
            "('dysphagia', 'dysplasia', 'dysphagia')-dysphagia\n",
            "('has', 'as', 'has')-has\n",
            "('OGD', 'OLD', 'OCD')-*********\n",
            "('reassurance', 'reassurance', 'assurance')-reassurance\n",
            "('Dr', 'or', 'or')-*********\n"
          ],
          "name": "stdout"
        }
      ]
    },
    {
      "cell_type": "code",
      "metadata": {
        "id": "GYFvIL119atO"
      },
      "source": [
        "from IPython.utils.text import columnize\n",
        "beautify = lambda annotations: [columnize(sent['checked']) for sent in annotations]"
      ],
      "id": "GYFvIL119atO",
      "execution_count": null,
      "outputs": []
    },
    {
      "cell_type": "code",
      "metadata": {
        "colab": {
          "base_uri": "https://localhost:8080/"
        },
        "id": "KWvAaplW9uF7",
        "outputId": "eac56c4a-9709-45be-974d-ad14c1e5f576"
      },
      "source": [
        "sample = 'We are going to meet Jovita in the city hall.'\n",
        "beautify([lp.annotate(sample)])"
      ],
      "id": "KWvAaplW9uF7",
      "execution_count": null,
      "outputs": [
        {
          "output_type": "execute_result",
          "data": {
            "text/plain": [
              "['We  are  going  to  meet  Avita  in  the  city  half  .\\n']"
            ]
          },
          "metadata": {
            "tags": []
          },
          "execution_count": 38
        }
      ]
    },
    {
      "cell_type": "code",
      "metadata": {
        "colab": {
          "base_uri": "https://localhost:8080/",
          "height": 181
        },
        "id": "234d52dd-4fcb-4ad5-8d50-5484172fd545",
        "outputId": "75b3d031-3297-46c2-dce9-bdcf39e6f45b"
      },
      "source": [
        "for pairs in lp.annotate(sample_text[0]):\n",
        "    print (list(zip(pairs['token'],pairs['checked'])))"
      ],
      "id": "234d52dd-4fcb-4ad5-8d50-5484172fd545",
      "execution_count": null,
      "outputs": [
        {
          "output_type": "error",
          "ename": "TypeError",
          "evalue": "ignored",
          "traceback": [
            "\u001b[0;31m---------------------------------------------------------------------------\u001b[0m",
            "\u001b[0;31mTypeError\u001b[0m                                 Traceback (most recent call last)",
            "\u001b[0;32m<ipython-input-68-3e698cbd19e6>\u001b[0m in \u001b[0;36m<module>\u001b[0;34m()\u001b[0m\n\u001b[1;32m      1\u001b[0m \u001b[0;32mfor\u001b[0m \u001b[0mpairs\u001b[0m \u001b[0;32min\u001b[0m \u001b[0mlp\u001b[0m\u001b[0;34m.\u001b[0m\u001b[0mannotate\u001b[0m\u001b[0;34m(\u001b[0m\u001b[0msample_text\u001b[0m\u001b[0;34m[\u001b[0m\u001b[0;36m0\u001b[0m\u001b[0;34m]\u001b[0m\u001b[0;34m)\u001b[0m\u001b[0;34m:\u001b[0m\u001b[0;34m\u001b[0m\u001b[0;34m\u001b[0m\u001b[0m\n\u001b[0;32m----> 2\u001b[0;31m     \u001b[0mprint\u001b[0m \u001b[0;34m(\u001b[0m\u001b[0mlist\u001b[0m\u001b[0;34m(\u001b[0m\u001b[0mzip\u001b[0m\u001b[0;34m(\u001b[0m\u001b[0mpairs\u001b[0m\u001b[0;34m[\u001b[0m\u001b[0;34m'token'\u001b[0m\u001b[0;34m]\u001b[0m\u001b[0;34m,\u001b[0m\u001b[0mpairs\u001b[0m\u001b[0;34m[\u001b[0m\u001b[0;34m'checked'\u001b[0m\u001b[0;34m]\u001b[0m\u001b[0;34m)\u001b[0m\u001b[0;34m)\u001b[0m\u001b[0;34m)\u001b[0m\u001b[0;34m\u001b[0m\u001b[0;34m\u001b[0m\u001b[0m\n\u001b[0m",
            "\u001b[0;31mTypeError\u001b[0m: string indices must be integers"
          ]
        }
      ]
    },
    {
      "cell_type": "code",
      "metadata": {
        "colab": {
          "base_uri": "https://localhost:8080/"
        },
        "id": "3d52d7ec-022d-4cc1-bbbc-a94c30df66db",
        "outputId": "166684b1-e2d1-4e2f-b6d9-7cab05afd05d"
      },
      "source": [
        "for sample in sample_text:\n",
        "  print(beautify([lp.annotate(sample)]))"
      ],
      "id": "3d52d7ec-022d-4cc1-bbbc-a94c30df66db",
      "execution_count": null,
      "outputs": [
        {
          "output_type": "stream",
          "text": [
            "[\"Find       careful     2          original  for      view         an        \\nupper      if          weeks      referral  more     of           urgent    \\nII         he          with       ,         than     the          opinion   \\nendoscopy  could       abdominal  he        10       drop         to        \\nreport     be          pain       has       years    in           exclude   \\non         seen        ,          a         .        haemoglobin  I         \\nthis       to          lethargy   long      He       to           malignancy\\npatient    exclude     and        history   has      80           .         \\nfrom       I           concern    of        been     and          Thank     \\nlate       malignancy  from       alcohol   alcohol  his          you       \\n2016       .           his        abuse     free     arranged     for       \\nand        Adams       family     ,         for      U            your      \\nblood      has         that       drinking  the      's           help      \\ntest       been        he         more      past     &            .         \\nresults    feeling     looks      than      several  E            hours     \\n.          unwell      jaundiced  30        months   's           faithfully\\nI          for         .          beers     now      I          \\nwould      the         From       a         .        would      \\nbe         past        his        week      In       welcome    \\n\"]\n",
            "[\"near         dysphagia  to       is             is          are       .        \\nDoctor       .          swallow  significantly  taking      getting   I        \\n,            She        these    affecting      the         worse     would    \\nThanks       has        with     her            oral        day       be       \\nfor          been       some     work           dispersive  by        careful  \\nseeing       suffering  liquid   as             type        day       if       \\noily         from       but      a              .           .         she      \\n.            this       it       lab            Ranitidine  She       could    \\nShe          for        is       assistant      has         has       be       \\ninitially    about      hard     .              no          lost      seen     \\nhad          2          for      HP             effect      30        as       \\nheartburn    months     her      stool          .           kg        soon     \\nin           and        to       was            There       and       as       \\nthe          don't      even     negative       is          although  possible \\nform         able       swallow  and            a           she       .        \\nof           to         water    blood          low         has       Dr       \\nindigestion  take       now      tests          risk        been      .        \\npost         in         .        were           of          asked     .        \\nmeantime     any        She      fine           malignancy  to        Christian\\nand          solids     is       .              from        lose      GP       \\nthen         anymore    passing  PPI            my          weight    .        \\nthis         .          less     tablets        point       ,       \\ndeveloped    She        urine    are            of          this    \\ninto         used       than     causing        view        method  \\nreflux       to         before   regurgitation  but         is      \\nand          be         .        so             her         not     \\nthen         able       This     she            symptoms    healthy \\n\"]\n",
            "['I           been            get          worse         Pylori      due      \\nwould       suffering       it           and           faecal      to       \\nbe          intermittently  checked      she           tests       her      \\ncareful     from            .            has           have        age      \\nif          dyspepsia       Her          had           been        and      \\nyou         and             pain         2             requested   symptoms \\ncould       epigastric      relief       episodes      and         ,        \\nsee         pain            comes        of            omeprazole  an       \\nthis        for             in           dark          has         OGD      \\n79          the             the          vomit         been        would    \\ny/o         course          form         .             prescribed  provide  \\nwoman       of              of           She           .           good     \\nfor         the             bicarbonate  does          No          assurance\\na           last            of           not           weight      .        \\nconcurrent  3               soda         smoke         loss        Best     \\nOGD         months          Gaviscon     and           or          regards  \\n.           .               but          drinks        dysphagia   ,        \\nShe         She             it           only          has         or       \\nappears     is              is           occasionally  been        Smith    \\nto          been            recently     .             reported  \\nhave        to              getting      H             but       \\n']\n"
          ],
          "name": "stdout"
        }
      ]
    },
    {
      "cell_type": "code",
      "metadata": {
        "colab": {
          "base_uri": "https://localhost:8080/"
        },
        "id": "pN4fS3PA88ux",
        "outputId": "b712e335-dbbd-41f3-cd82-2b2f7626de65"
      },
      "source": [
        "sample_text"
      ],
      "id": "pN4fS3PA88ux",
      "execution_count": null,
      "outputs": [
        {
          "output_type": "execute_result",
          "data": {
            "text/plain": [
              "[\"Find upper GI endoscopy report on this patient from late 2016 and blood test results. I would be grateful if he could be seen to exclude GI malignancy. Adam has been feeling unwell for the past 2 weeks with abdominal pain, lethargy and concern from his family that he looks jaundiced. From his original referral, he has a long history of alcohol abuse, drinking more than 30 beers a week for more than 10 years. He has been alcohol free for the past several months now. In view of the drop in haemoglobin to 80 and his deranged U's & E's I would welcome an urgent opinion to exclude GI malignancy. Thank you for your help. Yours faithfully\",\n",
              " \"Dear Doctor, Thanks for seeing Lily. She initially had heartburn in the form of indigestion post mealtime and then this developed into reflux and then dysphagia. She has been suffering from this for about 2 months and isn't able to take in any solids anymore. She used to be able to swallow these with some liquid but it is hard for her to even swallow water now. She is passing less urine than before. This is significantly affecting her work as a lab assistant. HP stool was negative and blood tests were fine. PPI tablets are causing regurgitation so she is taking the oral dispersible type. Ranitidine has no effect. There is a low risk of malignancy from my point of view but her symptoms are getting worse day by day. She has lost 30 kg and although she has been asked to lose weight, this method is not healthy. I would be grateful if she could be seen as soon as possible. Dr M. Christie GP.\",\n",
              " 'I would be grateful if you could see this 79 y/o woman for a non-urgent OGD. She appears to have been suffering intermittently from dyspepsia and epigastric pain for the course of the last 3 months. She is keen to get it checked. Her pain relief comes in the form of bicarbonate of soda/ gaviscon but it is recently getting worse and she has had 2 episodes of dark vomit. She does not smoke and drinks only occasionally. H Pylori faecal tests have been requested and omeprazole has been prescribed. No weight loss or dysphagia has been reported but due to her age and symptoms, an OGD would provide good reassurance. Best regards, Dr Smith']"
            ]
          },
          "metadata": {
            "tags": []
          },
          "execution_count": 40
        }
      ]
    },
    {
      "cell_type": "code",
      "metadata": {
        "id": "HYfbTDq6BA5W"
      },
      "source": [
        "def spell_check2(threshold=4):\n",
        "  \n",
        "  clinical_spellModel.setErrorThreshold(threshold)\n",
        "  print(clinical_spellModel.getErrorThreshold())\n",
        "  pipeline = Pipeline(\n",
        "      stages = [\n",
        "      documentAssembler,\n",
        "      tokenizer,\n",
        "      clinical_spellModel,\n",
        "      spellModel\n",
        "      ])\n",
        "\n",
        "  empty_ds = spark.createDataFrame([[\"\"]]).toDF(\"text\")\n",
        "\n",
        "  return LightPipeline(pipeline.fit(empty_ds))"
      ],
      "id": "HYfbTDq6BA5W",
      "execution_count": null,
      "outputs": []
    },
    {
      "cell_type": "code",
      "metadata": {
        "colab": {
          "base_uri": "https://localhost:8080/"
        },
        "id": "R_PgHxtqmk8z",
        "outputId": "78bbd786-9768-4afb-ac3b-08c7cb774753"
      },
      "source": [
        "clinical_spellModel.getErrorThreshold()"
      ],
      "id": "R_PgHxtqmk8z",
      "execution_count": null,
      "outputs": [
        {
          "output_type": "execute_result",
          "data": {
            "text/plain": [
              "10.0"
            ]
          },
          "metadata": {
            "tags": []
          },
          "execution_count": 103
        }
      ]
    },
    {
      "cell_type": "code",
      "metadata": {
        "colab": {
          "base_uri": "https://localhost:8080/"
        },
        "id": "np1xUmVXmrjC",
        "outputId": "02781f16-399a-4056-b286-3e61ea03865e"
      },
      "source": [
        "clinical_spellModel.getTradeoff()"
      ],
      "id": "np1xUmVXmrjC",
      "execution_count": null,
      "outputs": [
        {
          "output_type": "execute_result",
          "data": {
            "text/plain": [
              "18.0"
            ]
          },
          "metadata": {
            "tags": []
          },
          "execution_count": 123
        }
      ]
    },
    {
      "cell_type": "code",
      "metadata": {
        "colab": {
          "base_uri": "https://localhost:8080/"
        },
        "id": "4Pn4MCdHn-VL",
        "outputId": "49ec838a-9332-45a0-b028-7a4dcd278e12"
      },
      "source": [
        "for threshold in list(range(24, 2, -3)) :\n",
        "  print(\"*\"*30)\n",
        "  lp = spell_check2(threshold)\n",
        "  token_list = []\n",
        "  for sample in sample_text:\n",
        "    sample_checked = lp.annotate(sample)\n",
        "    token_list.append([(a,b) for a, b in zip(sample_checked['token'], sample_checked['checked_clinical']) if a!=b ])\n",
        " \n",
        "  print(token_list)"
      ],
      "id": "4Pn4MCdHn-VL",
      "execution_count": null,
      "outputs": [
        {
          "output_type": "stream",
          "text": [
            "******************************\n",
            "24.0\n",
            "[[('GI', 'II'), ('grateful', 'careful'), ('GI', 'I'), ('Adam', 'Adams'), ('deranged', 'ranged'), ('GI', 'I'), ('Yours', 'hours')], [('Dear', 'near'), ('Lily', 'oily'), ('mealtime', 'meantime'), (\"isn't\", \"wasn't\"), ('dispersible', 'dispersive'), ('grateful', 'careful'), ('Christie', 'Christian')], [('grateful', 'careful'), ('non-urgent', 'concurrent'), ('keen', 'been'), ('soda/', 'soda'), ('gaviscon', 'Gaviscon'), ('reassurance', 'assurance')]]\n",
            "******************************\n",
            "21.0\n",
            "[[('GI', 'II'), ('grateful', 'careful'), ('GI', 'I'), ('Adam', 'Adams'), ('deranged', 'ranged'), ('GI', 'I'), ('Yours', 'hours')], [('Dear', 'near'), ('Lily', 'oily'), ('mealtime', 'meantime'), (\"isn't\", \"wasn't\"), ('dispersible', 'dispersive'), ('grateful', 'careful'), ('Christie', 'Christian')], [('grateful', 'careful'), ('non-urgent', 'concurrent'), ('keen', 'been'), ('soda/', 'soda'), ('gaviscon', 'Gaviscon'), ('reassurance', 'assurance')]]\n",
            "******************************\n",
            "18.0\n",
            "[[('GI', 'II'), ('grateful', 'careful'), ('GI', 'I'), ('Adam', 'Adams'), ('deranged', 'ranged'), ('GI', 'I'), ('Yours', 'hours')], [('Dear', 'near'), ('Lily', 'oily'), ('mealtime', 'meantime'), (\"isn't\", 'islet'), ('dispersible', 'dispersive'), ('grateful', 'careful'), ('Christie', 'Christian')], [('grateful', 'careful'), ('non-urgent', 'concurrent'), ('keen', 'been'), ('soda/', 'soda'), ('gaviscon', 'Gaviscon'), ('reassurance', 'assurance')]]\n",
            "******************************\n",
            "15.0\n",
            "[[('GI', 'II'), ('grateful', 'careful'), ('GI', 'I'), ('Adam', 'Adams'), ('deranged', 'ranged'), ('GI', 'I'), ('Yours', 'hours')], [('Dear', 'near'), ('Lily', 'oily'), ('mealtime', 'meantime'), (\"isn't\", 'islet'), ('dispersible', 'dispersive'), ('grateful', 'careful'), ('Christie', 'Cristae')], [('grateful', 'careful'), ('non-urgent', 'concurrent'), ('keen', 'been'), ('soda/', 'soda'), ('gaviscon', 'Gaviscon'), ('reassurance', 'assurance')]]\n",
            "******************************\n",
            "12.0\n",
            "[[('GI', 'II'), ('grateful', 'careful'), ('GI', 'I'), ('Adam', 'Adams'), ('deranged', 'arranged'), ('GI', 'I'), ('Yours', 'hours')], [('Dear', 'near'), ('Lily', 'oily'), ('mealtime', 'meantime'), (\"isn't\", 'islet'), ('dispersible', 'dispersive'), ('grateful', 'careful'), ('Christie', 'Cristae')], [('grateful', 'careful'), ('non-urgent', 'concurrent'), ('keen', 'been'), ('soda/', 'soda'), ('gaviscon', 'Gaviscon'), ('reassurance', 'assurance')]]\n",
            "******************************\n",
            "9.0\n",
            "[[('GI', 'I'), ('grateful', 'careful'), ('GI', 'I'), ('Adam', 'Adams'), ('deranged', 'arranged'), ('GI', 'I'), ('Yours', 'Your')], [('Dear', 'near'), ('Lily', 'oily'), ('mealtime', 'meantime'), (\"isn't\", \"don't\"), ('dispersible', 'dispersive'), ('grateful', 'careful'), ('Christie', 'Cristae')], [('grateful', 'careful'), ('non-urgent', 'concurrent'), ('keen', 'seen'), ('soda/', 'soda'), ('gaviscon', 'Gaviscon'), ('reassurance', 'assurance')]]\n",
            "******************************\n",
            "6.0\n",
            "[[('GI', 'I'), ('grateful', 'careful'), ('GI', 'I'), ('Adam', 'Adams'), ('deranged', 'arranged'), ('GI', 'I'), ('Yours', 'Your')], [('Dear', 'near'), ('Lily', 'oily'), ('mealtime', 'meantime'), (\"isn't\", \"don't\"), ('dispersible', 'dispersive'), ('grateful', 'careful'), ('Christie', 'Cristae')], [('grateful', 'careful'), ('non-urgent', 'concurrent'), ('keen', 'seen'), ('soda/', 'soda'), ('gaviscon', 'Gaviscon'), ('reassurance', 'assurance')]]\n",
            "******************************\n",
            "3.0\n",
            "[[('GI', 'I'), ('grateful', 'careful'), ('GI', 'I'), ('Adam', 'Adami'), ('deranged', 'arranged'), ('GI', 'I'), ('Yours', 'Your')], [('Dear', 'near'), ('Lily', 'oily'), ('mealtime', 'meantime'), (\"isn't\", \"don't\"), ('dispersible', 'dispersive'), ('grateful', 'careful'), ('Christie', 'Cristae')], [('grateful', 'careful'), ('non-urgent', 'concurrent'), ('keen', 'seen'), ('soda/', 'soda'), ('gaviscon', 'Gaviscon'), ('reassurance', 'assurance')]]\n"
          ],
          "name": "stdout"
        }
      ]
    },
    {
      "cell_type": "code",
      "metadata": {
        "id": "xu5MZwvrulR6"
      },
      "source": [
        "from sparknlp.pretrained import PretrainedPipeline"
      ],
      "id": "xu5MZwvrulR6",
      "execution_count": null,
      "outputs": []
    },
    {
      "cell_type": "code",
      "metadata": {
        "colab": {
          "base_uri": "https://localhost:8080/"
        },
        "id": "Or6Y8b52tinP",
        "outputId": "6fc6b093-78e6-47de-b7bf-e2f634ef7798"
      },
      "source": [
        "spell_checker_pip = PretrainedPipeline('check_spelling', lang='en')\n"
      ],
      "id": "Or6Y8b52tinP",
      "execution_count": null,
      "outputs": [
        {
          "output_type": "stream",
          "text": [
            "check_spelling download started this may take some time.\n",
            "Approx size to download 913.5 KB\n",
            "[OK!]\n"
          ],
          "name": "stdout"
        }
      ]
    },
    {
      "cell_type": "code",
      "metadata": {
        "colab": {
          "base_uri": "https://localhost:8080/"
        },
        "id": "Pj8w95OO0im7",
        "outputId": "80389ca5-0cbc-4941-ccd3-5a15a89fd1bc"
      },
      "source": [
        "spell_checker_pip.model.stages"
      ],
      "id": "Pj8w95OO0im7",
      "execution_count": null,
      "outputs": [
        {
          "output_type": "execute_result",
          "data": {
            "text/plain": [
              "[document_b92f0aaaa5d0,\n",
              " SENTENCE_942cd730cc6e,\n",
              " REGEX_TOKENIZER_7b0eba20d829,\n",
              " SPELL_73aa38a2cec0]"
            ]
          },
          "metadata": {
            "tags": []
          },
          "execution_count": 164
        }
      ]
    },
    {
      "cell_type": "code",
      "metadata": {
        "colab": {
          "base_uri": "https://localhost:8080/"
        },
        "id": "KItY1EbIuj8D",
        "outputId": "c8067f54-e34b-46fb-e7b5-c90612ac1c2c"
      },
      "source": [
        "result = spell_checker_pip.annotate(sample_text[0])\n",
        "\n",
        "list(zip(result['token'], result['checked']))"
      ],
      "id": "KItY1EbIuj8D",
      "execution_count": null,
      "outputs": [
        {
          "output_type": "execute_result",
          "data": {
            "text/plain": [
              "[('Find', 'Find'),\n",
              " ('upper', 'upper'),\n",
              " ('GI', 'GI'),\n",
              " ('endoscopy', 'endoscopy'),\n",
              " ('report', 'report'),\n",
              " ('on', 'on'),\n",
              " ('this', 'this'),\n",
              " ('patient', 'patient'),\n",
              " ('from', 'from'),\n",
              " ('late', 'late'),\n",
              " ('2016', '2016'),\n",
              " ('and', 'and'),\n",
              " ('blood', 'blood'),\n",
              " ('test', 'test'),\n",
              " ('results', 'results'),\n",
              " ('.', '.'),\n",
              " ('I', 'I'),\n",
              " ('would', 'would'),\n",
              " ('be', 'be'),\n",
              " ('grateful', 'grateful'),\n",
              " ('if', 'if'),\n",
              " ('he', 'he'),\n",
              " ('could', 'could'),\n",
              " ('be', 'be'),\n",
              " ('seen', 'seen'),\n",
              " ('to', 'to'),\n",
              " ('exclude', 'exclude'),\n",
              " ('GI', 'GI'),\n",
              " ('malignancy', 'malignancy'),\n",
              " ('.', '.'),\n",
              " ('Adam', 'Adam'),\n",
              " ('has', 'has'),\n",
              " ('been', 'been'),\n",
              " ('feeling', 'feeling'),\n",
              " ('unwell', 'unwell'),\n",
              " ('for', 'for'),\n",
              " ('the', 'the'),\n",
              " ('past', 'past'),\n",
              " ('2', '2'),\n",
              " ('weeks', 'weeks'),\n",
              " ('with', 'with'),\n",
              " ('abdominal', 'abdominal'),\n",
              " ('pain', 'pain'),\n",
              " (',', ','),\n",
              " ('lethargy', 'lethargy'),\n",
              " ('and', 'and'),\n",
              " ('concern', 'concern'),\n",
              " ('from', 'from'),\n",
              " ('his', 'his'),\n",
              " ('family', 'family'),\n",
              " ('that', 'that'),\n",
              " ('he', 'he'),\n",
              " ('looks', 'looks'),\n",
              " ('jaundiced', 'jaundiced'),\n",
              " ('.', '.'),\n",
              " ('From', 'From'),\n",
              " ('his', 'his'),\n",
              " ('original', 'original'),\n",
              " ('referral', 'referral'),\n",
              " (',', ','),\n",
              " ('he', 'he'),\n",
              " ('has', 'has'),\n",
              " ('a', 'a'),\n",
              " ('long', 'long'),\n",
              " ('history', 'history'),\n",
              " ('of', 'of'),\n",
              " ('alcohol', 'alcohol'),\n",
              " ('abuse', 'abuse'),\n",
              " (',', ','),\n",
              " ('drinking', 'drinking'),\n",
              " ('more', 'more'),\n",
              " ('than', 'than'),\n",
              " ('30', '30'),\n",
              " ('beers', 'beers'),\n",
              " ('a', 'a'),\n",
              " ('week', 'week'),\n",
              " ('for', 'for'),\n",
              " ('more', 'more'),\n",
              " ('than', 'than'),\n",
              " ('10', '10'),\n",
              " ('years', 'years'),\n",
              " ('.', '.'),\n",
              " ('He', 'He'),\n",
              " ('has', 'has'),\n",
              " ('been', 'been'),\n",
              " ('alcohol', 'alcohol'),\n",
              " ('free', 'free'),\n",
              " ('for', 'for'),\n",
              " ('the', 'the'),\n",
              " ('past', 'past'),\n",
              " ('several', 'several'),\n",
              " ('months', 'months'),\n",
              " ('now', 'now'),\n",
              " ('.', '.'),\n",
              " ('In', 'In'),\n",
              " ('view', 'view'),\n",
              " ('of', 'of'),\n",
              " ('the', 'the'),\n",
              " ('drop', 'drop'),\n",
              " ('in', 'in'),\n",
              " ('haemoglobin', 'haemoglobin'),\n",
              " ('to', 'to'),\n",
              " ('80', '80'),\n",
              " ('and', 'and'),\n",
              " ('his', 'his'),\n",
              " ('deranged', 'deranged'),\n",
              " (\"U's\", \"U's\"),\n",
              " ('&', '&'),\n",
              " (\"E's\", \"E's\"),\n",
              " ('I', 'I'),\n",
              " ('would', 'would'),\n",
              " ('welcome', 'welcome'),\n",
              " ('an', 'an'),\n",
              " ('urgent', 'urgent'),\n",
              " ('opinion', 'opinion'),\n",
              " ('to', 'to'),\n",
              " ('exclude', 'exclude'),\n",
              " ('GI', 'GI'),\n",
              " ('malignancy', 'malignancy'),\n",
              " ('.', '.'),\n",
              " ('Thank', 'Thank'),\n",
              " ('you', 'you'),\n",
              " ('for', 'for'),\n",
              " ('your', 'your'),\n",
              " ('help', 'help'),\n",
              " ('.', '.'),\n",
              " ('Yours', 'Yours'),\n",
              " ('faithfully', 'faithfully')]"
            ]
          },
          "metadata": {
            "tags": []
          },
          "execution_count": 163
        }
      ]
    },
    {
      "cell_type": "code",
      "metadata": {
        "id": "lg32K3GvwjfE"
      },
      "source": [
        ""
      ],
      "id": "lg32K3GvwjfE",
      "execution_count": null,
      "outputs": []
    }
  ]
}